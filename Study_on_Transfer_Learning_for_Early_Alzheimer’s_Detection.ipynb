{
  "nbformat": 4,
  "nbformat_minor": 0,
  "metadata": {
    "colab": {
      "provenance": []
    },
    "kernelspec": {
      "name": "python3",
      "display_name": "Python 3"
    },
    "language_info": {
      "name": "python"
    },
    "widgets": {
      "application/vnd.jupyter.widget-state+json": {
        "be8803c962724533af3eefa25ef93e8b": {
          "model_module": "@jupyter-widgets/controls",
          "model_name": "HBoxModel",
          "model_module_version": "1.5.0",
          "state": {
            "_dom_classes": [],
            "_model_module": "@jupyter-widgets/controls",
            "_model_module_version": "1.5.0",
            "_model_name": "HBoxModel",
            "_view_count": null,
            "_view_module": "@jupyter-widgets/controls",
            "_view_module_version": "1.5.0",
            "_view_name": "HBoxView",
            "box_style": "",
            "children": [
              "IPY_MODEL_23f93bf2224444009b28f768ac1ca0d3",
              "IPY_MODEL_a6beede0ff8a4e8b925f4049592ff013",
              "IPY_MODEL_7423d00ad5c541e6af47f5b0fd3ac42a"
            ],
            "layout": "IPY_MODEL_fb03af4ea1ad4d48a5f030396b234264"
          }
        },
        "23f93bf2224444009b28f768ac1ca0d3": {
          "model_module": "@jupyter-widgets/controls",
          "model_name": "HTMLModel",
          "model_module_version": "1.5.0",
          "state": {
            "_dom_classes": [],
            "_model_module": "@jupyter-widgets/controls",
            "_model_module_version": "1.5.0",
            "_model_name": "HTMLModel",
            "_view_count": null,
            "_view_module": "@jupyter-widgets/controls",
            "_view_module_version": "1.5.0",
            "_view_name": "HTMLView",
            "description": "",
            "description_tooltip": null,
            "layout": "IPY_MODEL_342d0f76cb9a410f9ffd502a5a4269ba",
            "placeholder": "​",
            "style": "IPY_MODEL_23a1abe965204395bed35705875e70ff",
            "value": "100%"
          }
        },
        "a6beede0ff8a4e8b925f4049592ff013": {
          "model_module": "@jupyter-widgets/controls",
          "model_name": "FloatProgressModel",
          "model_module_version": "1.5.0",
          "state": {
            "_dom_classes": [],
            "_model_module": "@jupyter-widgets/controls",
            "_model_module_version": "1.5.0",
            "_model_name": "FloatProgressModel",
            "_view_count": null,
            "_view_module": "@jupyter-widgets/controls",
            "_view_module_version": "1.5.0",
            "_view_name": "ProgressView",
            "bar_style": "success",
            "description": "",
            "description_tooltip": null,
            "layout": "IPY_MODEL_c36930b046274987a595f35221c0c0e6",
            "max": 244408911,
            "min": 0,
            "orientation": "horizontal",
            "style": "IPY_MODEL_0e9cfa1cc7654f37bedf3de4390c5ee3",
            "value": 244408911
          }
        },
        "7423d00ad5c541e6af47f5b0fd3ac42a": {
          "model_module": "@jupyter-widgets/controls",
          "model_name": "HTMLModel",
          "model_module_version": "1.5.0",
          "state": {
            "_dom_classes": [],
            "_model_module": "@jupyter-widgets/controls",
            "_model_module_version": "1.5.0",
            "_model_name": "HTMLModel",
            "_view_count": null,
            "_view_module": "@jupyter-widgets/controls",
            "_view_module_version": "1.5.0",
            "_view_name": "HTMLView",
            "description": "",
            "description_tooltip": null,
            "layout": "IPY_MODEL_2f2a6f6d2ea84ad494de4d8a3c7ae5d2",
            "placeholder": "​",
            "style": "IPY_MODEL_4414d6a8ddb44851adcc360b873ba298",
            "value": " 233M/233M [00:01&lt;00:00, 181MB/s]"
          }
        },
        "fb03af4ea1ad4d48a5f030396b234264": {
          "model_module": "@jupyter-widgets/base",
          "model_name": "LayoutModel",
          "model_module_version": "1.2.0",
          "state": {
            "_model_module": "@jupyter-widgets/base",
            "_model_module_version": "1.2.0",
            "_model_name": "LayoutModel",
            "_view_count": null,
            "_view_module": "@jupyter-widgets/base",
            "_view_module_version": "1.2.0",
            "_view_name": "LayoutView",
            "align_content": null,
            "align_items": null,
            "align_self": null,
            "border": null,
            "bottom": null,
            "display": null,
            "flex": null,
            "flex_flow": null,
            "grid_area": null,
            "grid_auto_columns": null,
            "grid_auto_flow": null,
            "grid_auto_rows": null,
            "grid_column": null,
            "grid_gap": null,
            "grid_row": null,
            "grid_template_areas": null,
            "grid_template_columns": null,
            "grid_template_rows": null,
            "height": null,
            "justify_content": null,
            "justify_items": null,
            "left": null,
            "margin": null,
            "max_height": null,
            "max_width": null,
            "min_height": null,
            "min_width": null,
            "object_fit": null,
            "object_position": null,
            "order": null,
            "overflow": null,
            "overflow_x": null,
            "overflow_y": null,
            "padding": null,
            "right": null,
            "top": null,
            "visibility": null,
            "width": null
          }
        },
        "342d0f76cb9a410f9ffd502a5a4269ba": {
          "model_module": "@jupyter-widgets/base",
          "model_name": "LayoutModel",
          "model_module_version": "1.2.0",
          "state": {
            "_model_module": "@jupyter-widgets/base",
            "_model_module_version": "1.2.0",
            "_model_name": "LayoutModel",
            "_view_count": null,
            "_view_module": "@jupyter-widgets/base",
            "_view_module_version": "1.2.0",
            "_view_name": "LayoutView",
            "align_content": null,
            "align_items": null,
            "align_self": null,
            "border": null,
            "bottom": null,
            "display": null,
            "flex": null,
            "flex_flow": null,
            "grid_area": null,
            "grid_auto_columns": null,
            "grid_auto_flow": null,
            "grid_auto_rows": null,
            "grid_column": null,
            "grid_gap": null,
            "grid_row": null,
            "grid_template_areas": null,
            "grid_template_columns": null,
            "grid_template_rows": null,
            "height": null,
            "justify_content": null,
            "justify_items": null,
            "left": null,
            "margin": null,
            "max_height": null,
            "max_width": null,
            "min_height": null,
            "min_width": null,
            "object_fit": null,
            "object_position": null,
            "order": null,
            "overflow": null,
            "overflow_x": null,
            "overflow_y": null,
            "padding": null,
            "right": null,
            "top": null,
            "visibility": null,
            "width": null
          }
        },
        "23a1abe965204395bed35705875e70ff": {
          "model_module": "@jupyter-widgets/controls",
          "model_name": "DescriptionStyleModel",
          "model_module_version": "1.5.0",
          "state": {
            "_model_module": "@jupyter-widgets/controls",
            "_model_module_version": "1.5.0",
            "_model_name": "DescriptionStyleModel",
            "_view_count": null,
            "_view_module": "@jupyter-widgets/base",
            "_view_module_version": "1.2.0",
            "_view_name": "StyleView",
            "description_width": ""
          }
        },
        "c36930b046274987a595f35221c0c0e6": {
          "model_module": "@jupyter-widgets/base",
          "model_name": "LayoutModel",
          "model_module_version": "1.2.0",
          "state": {
            "_model_module": "@jupyter-widgets/base",
            "_model_module_version": "1.2.0",
            "_model_name": "LayoutModel",
            "_view_count": null,
            "_view_module": "@jupyter-widgets/base",
            "_view_module_version": "1.2.0",
            "_view_name": "LayoutView",
            "align_content": null,
            "align_items": null,
            "align_self": null,
            "border": null,
            "bottom": null,
            "display": null,
            "flex": null,
            "flex_flow": null,
            "grid_area": null,
            "grid_auto_columns": null,
            "grid_auto_flow": null,
            "grid_auto_rows": null,
            "grid_column": null,
            "grid_gap": null,
            "grid_row": null,
            "grid_template_areas": null,
            "grid_template_columns": null,
            "grid_template_rows": null,
            "height": null,
            "justify_content": null,
            "justify_items": null,
            "left": null,
            "margin": null,
            "max_height": null,
            "max_width": null,
            "min_height": null,
            "min_width": null,
            "object_fit": null,
            "object_position": null,
            "order": null,
            "overflow": null,
            "overflow_x": null,
            "overflow_y": null,
            "padding": null,
            "right": null,
            "top": null,
            "visibility": null,
            "width": null
          }
        },
        "0e9cfa1cc7654f37bedf3de4390c5ee3": {
          "model_module": "@jupyter-widgets/controls",
          "model_name": "ProgressStyleModel",
          "model_module_version": "1.5.0",
          "state": {
            "_model_module": "@jupyter-widgets/controls",
            "_model_module_version": "1.5.0",
            "_model_name": "ProgressStyleModel",
            "_view_count": null,
            "_view_module": "@jupyter-widgets/base",
            "_view_module_version": "1.2.0",
            "_view_name": "StyleView",
            "bar_color": null,
            "description_width": ""
          }
        },
        "2f2a6f6d2ea84ad494de4d8a3c7ae5d2": {
          "model_module": "@jupyter-widgets/base",
          "model_name": "LayoutModel",
          "model_module_version": "1.2.0",
          "state": {
            "_model_module": "@jupyter-widgets/base",
            "_model_module_version": "1.2.0",
            "_model_name": "LayoutModel",
            "_view_count": null,
            "_view_module": "@jupyter-widgets/base",
            "_view_module_version": "1.2.0",
            "_view_name": "LayoutView",
            "align_content": null,
            "align_items": null,
            "align_self": null,
            "border": null,
            "bottom": null,
            "display": null,
            "flex": null,
            "flex_flow": null,
            "grid_area": null,
            "grid_auto_columns": null,
            "grid_auto_flow": null,
            "grid_auto_rows": null,
            "grid_column": null,
            "grid_gap": null,
            "grid_row": null,
            "grid_template_areas": null,
            "grid_template_columns": null,
            "grid_template_rows": null,
            "height": null,
            "justify_content": null,
            "justify_items": null,
            "left": null,
            "margin": null,
            "max_height": null,
            "max_width": null,
            "min_height": null,
            "min_width": null,
            "object_fit": null,
            "object_position": null,
            "order": null,
            "overflow": null,
            "overflow_x": null,
            "overflow_y": null,
            "padding": null,
            "right": null,
            "top": null,
            "visibility": null,
            "width": null
          }
        },
        "4414d6a8ddb44851adcc360b873ba298": {
          "model_module": "@jupyter-widgets/controls",
          "model_name": "DescriptionStyleModel",
          "model_module_version": "1.5.0",
          "state": {
            "_model_module": "@jupyter-widgets/controls",
            "_model_module_version": "1.5.0",
            "_model_name": "DescriptionStyleModel",
            "_view_count": null,
            "_view_module": "@jupyter-widgets/base",
            "_view_module_version": "1.2.0",
            "_view_name": "StyleView",
            "description_width": ""
          }
        }
      }
    }
  },
  "cells": [
    {
      "cell_type": "markdown",
      "source": [
        "Followed pipeline for the development of the article : [On Extracting Digitized Spiral Dynamics’ Representations: A Study on Transfer Learning for Early Alzheimer’s Detection](https://www.mdpi.com/2306-5354/9/8/375)\n",
        "\n"
      ],
      "metadata": {
        "id": "f5qZNypiGOfx"
      }
    },
    {
      "cell_type": "markdown",
      "source": [
        "This work proposes a decision-aid tool for detecting Alzheimer’s disease (AD) at an early stage, based on the Archimedes spiral, executed on a Wacom digitizer. \n",
        "\n",
        " in this work, we propose:\n",
        "\n",
        "\n",
        "- A novel embedding of dynamic parameters, each encoded separately in different images of a same spiral, providing different “views” of the spiral image (different types of “hybrid“ images).\n",
        "- A comprehensive study on which dynamic parameters are more discriminant at the classification step, for AD detection. Indeed, we study in this framework of transfer learning different dynamic parameters never studied before in the literature.\n",
        "- A comparative study on features automatically extracted at different levels of representation by transfer learning; this study is carried out on a reference architecture in the area of neurodegenerative diseases’ assessment, namely AlexNet.\n",
        "- A complete study on the scope of fusion. Our approach allows new possibilities for fusing dynamic information: at input images (low-level fusion, at the feature level (on representations extracted with AlexNet), and at the experts’ decision level.\n",
        "\n",
        "\n",
        "Experiments on 30 AD patients and 45 healthy controls (HC) show that the extracted features allow a significant improvement in sensitivity and accuracy, compared to raw images. "
      ],
      "metadata": {
        "id": "EjVDO81Of_d7"
      }
    },
    {
      "cell_type": "markdown",
      "source": [
        "**Note:** This notebook serves as an illustrative way to understand the pipeline followed in the study. For this purpose, only one of the 5 dynamics studied is shown. The pressure is chosen."
      ],
      "metadata": {
        "id": "up3O-AcwqHra"
      }
    },
    {
      "cell_type": "markdown",
      "source": [
        "# Load Libraries"
      ],
      "metadata": {
        "id": "BevAmKrQGLsu"
      }
    },
    {
      "cell_type": "code",
      "source": [
        "import os \n",
        "import numpy as np\n",
        "import pandas as pd\n",
        "\n",
        "# plot\n",
        "import matplotlib.pyplot as plt\n",
        "from matplotlib import colors\n",
        "from sklearn.metrics import confusion_matrix\n",
        "import seaborn as sns\n",
        "from matplotlib.collections import LineCollection\n",
        "\n",
        "# Clustering\n",
        "from sklearn.cluster import KMeans\n",
        "\n",
        "# Transfer Learning Pytorch\n",
        "import torch\n",
        "import torch.nn as nn\n",
        "from tensorflow.keras.utils import load_img, img_to_array\n",
        "from torchsummary import summary\n",
        "from torchvision import models, transforms\n",
        "import sklearn\n",
        "\n",
        "# SVM Classification\n",
        "from sklearn.svm import SVC\n",
        "from sklearn.model_selection import GridSearchCV"
      ],
      "metadata": {
        "id": "0-zfmHl7GKfO"
      },
      "execution_count": null,
      "outputs": []
    },
    {
      "cell_type": "code",
      "source": [
        "# Mounting Google Drive Locally to Colab\n",
        "from google.colab import drive\n",
        "drive.mount(\"/content/drive\")"
      ],
      "metadata": {
        "id": "gIz1Y2fsHIkl"
      },
      "execution_count": null,
      "outputs": []
    },
    {
      "cell_type": "code",
      "source": [
        "PATH_DATA = '' # Private Dataset \n",
        "PATH_IMG = ''\n",
        "PATH_FEAT = ''\n",
        "PATH_RESULT = ''"
      ],
      "metadata": {
        "id": "SJKSO_v2ofPv"
      },
      "execution_count": null,
      "outputs": []
    },
    {
      "cell_type": "markdown",
      "source": [
        "# Load dataset"
      ],
      "metadata": {
        "id": "RCPFJS61HLbk"
      }
    },
    {
      "cell_type": "markdown",
      "source": [
        "Private dataset acquired at Broca Hospital in Paris, in the framework of the\n",
        "ALWRITE project, a French research project on handwriting analysis for early AD\n",
        "assessment. \n",
        "\n",
        "- Participants drew an Archimedes’ spiral  with an inking pen on a sheet of paper put on top of the tablet. \n",
        "\n",
        "<center><img src=\"https://upload.wikimedia.org/wikipedia/commons/c/c5/Archimedean_spiral.svg\" width=\"250\"/><center>\n",
        "\n",
        "\n",
        "- The tablet sampled the pen trajectory and captured 5 raw temporal functions: pen position (x(t), y(t)), pen pressure p(t), and two pen inclination angles, namely azimuth Az(t) and altitude Alt(t).\n",
        "\n",
        "\n",
        "<center><img src=\"https://drive.google.com/uc?export=view&id=1MghJd3WpopKhhJS6bf5gbFJXKda8X30K\" width=\"300\"/><center>\n",
        "\n",
        "\n"
      ],
      "metadata": {
        "id": "MtdviW1_kw6U"
      }
    },
    {
      "cell_type": "markdown",
      "source": [
        "- Input format: One .txt file per patient with metadata and the feature information by coulumns (time (t), x(t), y(t), p(t), az(t),alt(t))."
      ],
      "metadata": {
        "id": "JCnWxqBb_O-Y"
      }
    },
    {
      "cell_type": "code",
      "source": [
        "# List of AD people\n",
        "list_ad = os.listdir(os.path.join(PATH_DATA, 'AD'))\n",
        "list_ad = sorted(list_ad)\n",
        "\n",
        "# List of HC people\n",
        "list_hc=os.listdir(os.path.join(PATH_DATA, 'HC'))\n",
        "list_hc = sorted(list_hc)"
      ],
      "metadata": {
        "id": "MdSlM01sji6d"
      },
      "execution_count": null,
      "outputs": []
    },
    {
      "cell_type": "markdown",
      "source": [
        "## Preprocesssing"
      ],
      "metadata": {
        "id": "BrF6Xq3NolFX"
      }
    },
    {
      "cell_type": "code",
      "source": [
        "thresholdCrop = 6200\n",
        "\n",
        "def cropping_AD(num,df, dynamic) :   \n",
        "\n",
        "  '''\n",
        "  This function returns the values of the position (x,y) describing the spiral and those of the dynamics of interest. \n",
        "  Penups that are isolated from the region of interest (the spiral) tend to distort the resulting image, therefore they are eliminated. \n",
        "\n",
        "  Arguments:\n",
        "  - num : int with number of the patient\n",
        "  - df : dataframe with patient information\n",
        "  - Dynamique: str with the dynamic information of interest \n",
        "\n",
        "  Returns:\n",
        "  - Necesary values to generate the spiral image : x,y, dynamic \n",
        "\n",
        "  '''\n",
        "\n",
        "  x = df.X             \n",
        "  y = df.Y\n",
        "\n",
        "  if dynamic == 'altitude' :\n",
        "    d = df.Al\n",
        "  elif dynamic== 'azimuth' :\n",
        "    d = df.Az\n",
        "  elif dynamic == 'pressure':\n",
        "    d = df.P\n",
        "  else:\n",
        "    d = df.Ti # necessary for the computation of velocity and acceleration\n",
        "\n",
        "  # Focus on the spiral draw\n",
        "\n",
        "  idx = np.where(x < thresholdCrop)[0]  # index of points x<6200\n",
        "  x_crop = x[idx]                  # x values for x<6200\n",
        "  y_crop = y[idx]                  # y values for x<6200\n",
        "  d_crop = d[idx]                  # d values for x<6200\n",
        "\n",
        "  return x_crop,y_crop,d_crop"
      ],
      "metadata": {
        "id": "Wq3cEkbromre"
      },
      "execution_count": null,
      "outputs": []
    },
    {
      "cell_type": "markdown",
      "source": [
        "# Spiral image generation"
      ],
      "metadata": {
        "id": "wlXszsBc_yhQ"
      }
    },
    {
      "cell_type": "markdown",
      "source": [
        "For the image generation,different images are generated to represent each feature:\n",
        "\n",
        "- Raw pen down (points with pressure = 0 are not considered).\n",
        "- Pressure\n",
        "- Altitude\n",
        "- Velocity\n",
        "- Acceleration\n",
        "\n",
        "In order to add the dynamic information of each person directly into the drawing, two quantization methods are tested: A pointwise mapping, and a cluster mapping.\n",
        "\n",
        "A grayscale colormap is used to represent the value of the dynamic."
      ],
      "metadata": {
        "id": "P7B20ANn_7ns"
      }
    },
    {
      "cell_type": "markdown",
      "source": [
        "## Pointwise \n",
        "\n"
      ],
      "metadata": {
        "id": "UrEKBn63o3EZ"
      }
    },
    {
      "cell_type": "markdown",
      "source": [
        "The followed pipeline for each dynamic is based on the same steps, this way a detailed explanation of the pressure image generation is presented.\n",
        "\n",
        "1. Load the raw data (.txt with the information: t, x(t), y(t), p(t), az(t),alt(t)): Here all the pressure values (AD + HC) are appended to a data frame (df_all)."
      ],
      "metadata": {
        "id": "q79rgTzmBOnC"
      }
    },
    {
      "cell_type": "code",
      "source": [
        "def loadGroup(group, dynamic):\n",
        "  dynamicValues = np.array([])\n",
        "  for i, name in enumerate(os.listdir(os.path.join(PATH_DATA,group))):\n",
        "    df = pd.read_csv(os.path.join(PATH_DATA,group, name), delimiter = ' ', header = None)\n",
        "    df.columns=['Ti','X','Y', 'P','Az', 'Al']\n",
        "    # x(t),y(t), c(t) as dynamic value to be introduced to the image\n",
        "    x, y, d = cropping_AD(num = i,\n",
        "                          df = df,\n",
        "                          dynamic = dynamic) \n",
        "      \n",
        "    dynamicValues = np.append(dynamicValues,np.array(d))\n",
        "\n",
        "  return dynamicValues"
      ],
      "metadata": {
        "id": "i6jVB72SFOtQ"
      },
      "execution_count": null,
      "outputs": []
    },
    {
      "cell_type": "code",
      "source": [
        "ADvalues = loadGroup(group = 'AD',\n",
        "          dynamic = 'pressure')\n",
        "HCvalues = loadGroup(group = 'HC',\n",
        "          dynamic = 'pressure')\n",
        "\n",
        "ALLvalues = np.concatenate((ADvalues,HCvalues))\n",
        "# check len \n",
        "print(ALLvalues.shape)"
      ],
      "metadata": {
        "id": "mGJwEn0lJJpk"
      },
      "execution_count": null,
      "outputs": []
    },
    {
      "cell_type": "markdown",
      "source": [
        "\n",
        "\n",
        "2. The pressure values are normalized to 0-1 (note: 0 values corresponds to pen-ups in the trajectory) \n",
        "\n"
      ],
      "metadata": {
        "id": "0DtqyzywDXjw"
      }
    },
    {
      "cell_type": "code",
      "source": [
        "# Normalization of dynamic values\n",
        "ALLvaluesNorm = (ALLvalues/ALLvalues.max())\n",
        "sns.displot(ALLvaluesNorm);"
      ],
      "metadata": {
        "id": "bkLEtPKcPhRX"
      },
      "execution_count": null,
      "outputs": []
    },
    {
      "cell_type": "markdown",
      "source": [
        "3. The [0-1] are mapped to the grayscale colormap"
      ],
      "metadata": {
        "id": "kpju_DFkPSYy"
      }
    },
    {
      "cell_type": "code",
      "source": [
        "# Use of grayscale map \n",
        "cmap = plt.cm.get_cmap('Greys')\n",
        "colors = cmap(ALLvaluesNorm)"
      ],
      "metadata": {
        "id": "ZAIHg7BpPVo1"
      },
      "execution_count": null,
      "outputs": []
    },
    {
      "cell_type": "markdown",
      "source": [
        "\n",
        "\n",
        "4. By taking the points corresponding to each person, their spiral is generated using a scatter plot.\n",
        "where x,y is the respective pen position (obtained from the original .txt file) and Colors is assigned to 'c'.\n",
        "\n",
        "5. The image is saved in the pixel size of the Alexnet input, for later feature extraction."
      ],
      "metadata": {
        "id": "T1fWlxYtO9B4"
      }
    },
    {
      "cell_type": "code",
      "source": [
        "def saveImages(group, dynamic, labels):\n",
        "  for i, name in enumerate(os.listdir(os.path.join(PATH_DATA,group))):\n",
        "    plt.figure(figsize=(693/300, 693/300), dpi=300)\n",
        "    df = pd.read_csv(os.path.join(PATH_DATA,group, name), delimiter = ' ', header = None)\n",
        "    df.columns=['Ti','X','Y', 'P','Az', 'Al']\n",
        "    # x(t),y(t)\n",
        "    x, y, _ = cropping_AD(num = i,\n",
        "                          df = df,\n",
        "                          Dynamic = dynamic) \n",
        "\n",
        "      \n",
        "    C = labels[:len(x)]      # Total labels, so only exploit the corresponding index\n",
        "    labels = labels[len(x):] # For the next labels, initialize in this way\n",
        "\n",
        "    plt.scatter(x, y, c=C, s=1, marker=\".\")\n",
        "    plt.axis(\"off\")\n",
        "    plt.savefig(os.path.join(PATH_IMG, 'Images',dynamic, group, group[0] +'_'+ str(i+1).zfill(4) + '.png'))\n",
        "    plt.title(str(i+1))\n",
        "\n",
        "    return "
      ],
      "metadata": {
        "id": "9G6_lmaWQGJO"
      },
      "execution_count": null,
      "outputs": []
    },
    {
      "cell_type": "code",
      "source": [
        "saveImages(group = 'AD',\n",
        "           dynamic = 'pressure',\n",
        "           labels = colors)\n",
        "\n",
        "saveImages(group = 'HC',\n",
        "           dynamic = 'pressure',\n",
        "           labels = colors)"
      ],
      "metadata": {
        "id": "wuwZD22oRZJp"
      },
      "execution_count": null,
      "outputs": []
    },
    {
      "cell_type": "markdown",
      "source": [
        "Example of resulting spirals:\n",
        "\n",
        "<center><img src=\"https://drive.google.com/uc?export=view&id=1lCVS4RVn3-2z1jP51PQoxMoEA51arWsj\" width=\"800\"/><center>\n",
        "\n"
      ],
      "metadata": {
        "id": "MatFPfRpLTY9"
      }
    },
    {
      "cell_type": "markdown",
      "source": [
        "## Clustering"
      ],
      "metadata": {
        "id": "vyWrp7YDsR6W"
      }
    },
    {
      "cell_type": "code",
      "source": [
        "idxUp = np.where(ALLvalues==0)[0]    # extract penup values (pressure == 0)\n",
        "idxDown = np.where(ALLvalues>0)[0]   # extract pendown values (pressure > 0)\n",
        "# check len\n",
        "print('Total Pendown:', ALLvalues[idxDown].shape, 'Total PenUp:',ALLvalues[idxUp].shape)"
      ],
      "metadata": {
        "id": "b88IT0xcssAt"
      },
      "execution_count": null,
      "outputs": []
    },
    {
      "cell_type": "markdown",
      "source": [
        "A P0K2 Cuantization is performed : 2 pendown pressure levels + penups"
      ],
      "metadata": {
        "id": "MXXZYorjS_n8"
      }
    },
    {
      "cell_type": "code",
      "source": [
        "kmeans = KMeans(n_clusters=2) \n",
        "data_k = ALLvalues[idxDown]   # data without P=0 values\n",
        "kmeans.fit(data_k.reshape(-1,1))\n",
        "y_kmeans = kmeans.predict(data_k.reshape(-1,1))"
      ],
      "metadata": {
        "id": "YFn8ybDOstl3"
      },
      "execution_count": null,
      "outputs": []
    },
    {
      "cell_type": "code",
      "source": [
        "centers = kmeans.cluster_centers_\n",
        "print(centers)\n",
        "labels = kmeans.labels_  # lower 1, higher 0\n",
        "# label = 0 will be used por penups (pressure = 0 ) that's why a shift is made \n",
        "labels_k = labels + 1\n",
        "labels_total = np.zeros((len(ALLvalues)))"
      ],
      "metadata": {
        "id": "nkrPNuoksvhi"
      },
      "execution_count": null,
      "outputs": []
    },
    {
      "cell_type": "code",
      "source": [
        "for i,idx in enumerate(idxDown) :\n",
        "  labels_total[idx] = labels_k[i]\n",
        "  # to check result\n",
        "  if i < 5 :\n",
        "    print(idx,labels_total[idx],labels_k[i])"
      ],
      "metadata": {
        "id": "whPHCIidWTP7"
      },
      "execution_count": null,
      "outputs": []
    },
    {
      "cell_type": "code",
      "source": [
        "mapColors = {\n",
        "    0 :'whitesmoke', #0: Penups\n",
        "    1 : 'black',     #1: High pressure \n",
        "    2 :'gainsboro'   #2: Low pressure \n",
        "}\n",
        "\n",
        "clusterColors = list(map(lambda x: mapColors[x],labels_total))"
      ],
      "metadata": {
        "id": "hypXi4ZrIxgT"
      },
      "execution_count": null,
      "outputs": []
    },
    {
      "cell_type": "code",
      "source": [
        "saveImages(group = 'AD',\n",
        "           dynamic = 'pressureP0K2',\n",
        "           labels = clusterColors)\n",
        "\n",
        "saveImages(group = 'HC',\n",
        "           dynamic = 'pressureP0K2',\n",
        "           labels = clusterColors)"
      ],
      "metadata": {
        "id": "jCNJckZMTq90"
      },
      "execution_count": null,
      "outputs": []
    },
    {
      "cell_type": "markdown",
      "source": [
        "### Study of Clustering Results"
      ],
      "metadata": {
        "id": "d7aPpl6xtIIP"
      }
    },
    {
      "cell_type": "markdown",
      "source": [
        "The results show that Alzheimer's patients tend to have lower blood pressure, due to the loss of motor function."
      ],
      "metadata": {
        "id": "DgNZ3Cf8KNYP"
      }
    },
    {
      "cell_type": "code",
      "source": [
        "lbl_ad=clusterColors[:len(ADvalues)]\n",
        "lbl_hc=clusterColors[len(HCvalues):]\n",
        "plt.rcParams[\"axes.grid.axis\"] =\"y\"\n",
        "plt.rcParams[\"axes.grid\"] = True"
      ],
      "metadata": {
        "id": "u4Wqo3lFtLL_"
      },
      "execution_count": null,
      "outputs": []
    },
    {
      "cell_type": "code",
      "source": [
        "#### AD #####\n",
        "lbl_ad = np.array(lbl_ad)\n",
        "penups = len(np.where(lbl_ad=='whitesmoke')[0]) # element is 0 index\n",
        "high = len(np.where(lbl_ad=='black')[0]) # element is 2 index\n",
        "low = len(np.where(lbl_ad=='gainsboro')[0]) # element is 1 index\n",
        "\n",
        "penups=penups*100/len(ADvalues)\n",
        "high=high*100/len(ADvalues)\n",
        "low=low*100/len(ADvalues)\n",
        "\n",
        "values=[penups,low,high]\n",
        "levels=['P=0','Low','High']\n",
        "#plt.grid(axis='y')\n",
        "plt.bar(levels, values, width=0.5,color='darkorange',label='AD')\n",
        "plt.legend();"
      ],
      "metadata": {
        "colab": {
          "base_uri": "https://localhost:8080/",
          "height": 265
        },
        "id": "iJ661Jlxn9ik",
        "outputId": "be003645-32fd-4b28-b29f-d8c21d4305b0"
      },
      "execution_count": null,
      "outputs": [
        {
          "output_type": "display_data",
          "data": {
            "text/plain": [
              "<Figure size 432x288 with 1 Axes>"
            ],
            "image/png": "[encoded data removed]"
          },
          "metadata": {
            "needs_background": "light"
          }
        }
      ]
    },
    {
      "cell_type": "code",
      "metadata": {
        "colab": {
          "base_uri": "https://localhost:8080/",
          "height": 265
        },
        "id": "Fpar-HBPGqal",
        "outputId": "b83fd9cd-a376-470c-8f31-229921520881"
      },
      "source": [
        "#### HC #####\n",
        "lbl_hc=np.array(lbl_hc)\n",
        "penups = len(np.where(lbl_hc=='whitesmoke')[0]) # element is 0 index\n",
        "high = len(np.where(lbl_hc=='black')[0]) # element is 2 index\n",
        "low = len(np.where(lbl_hc=='gainsboro')[0]) # element is 1 index\n",
        "\n",
        "penups=penups*100/len(HCvalues)\n",
        "high=high*100/len(HCvalues)\n",
        "low=low*100/len(HCvalues)\n",
        "\n",
        "values=[penups,low,high]\n",
        "levels=['P=0','Low','High']\n",
        "plt.bar(levels, values, width=0.5,label='HC');\n",
        "plt.legend();\n"
      ],
      "execution_count": null,
      "outputs": [
        {
          "output_type": "display_data",
          "data": {
            "text/plain": [
              "<Figure size 432x288 with 1 Axes>"
            ],
            "image/png": "[encoded data removed]"
          },
          "metadata": {
            "needs_background": "light"
          }
        }
      ]
    },
    {
      "cell_type": "markdown",
      "source": [
        "# Feature extraction"
      ],
      "metadata": {
        "id": "WQP3scZqwdMs"
      }
    },
    {
      "cell_type": "markdown",
      "metadata": {
        "id": "Vng6on-iWfrV"
      },
      "source": [
        "## Notes on Evaluation vs Training modes Pytorch"
      ]
    },
    {
      "cell_type": "markdown",
      "metadata": {
        "id": "Ar0ECcCMvzZk"
      },
      "source": [
        "`model.train()` and `model.eval()` will switch the internal `self.training` flag, which would then change the behavior of some layers. \n",
        "\n",
        "E.g. dropout layers will be disabled during evaluation and batchnorm layers will use the running stats instead of the batch statistics to normalize the activation. \n",
        " \n",
        "**The gradient computation will not be changed or disabled.**\n",
        "\n",
        "Backpropagation and thus the gradient calculation will also work after calling `model.eval()` but as previously described the forward pass will be different > The affine parameters (weight and bias) will still be trained (can be updated) and will get gradients. \n",
        "\n",
        "For the same input, the output of the model after calling `model.eval()` is expected to be the same (up to numerical precision) as long as no parameter updates were performed.\n",
        "\n",
        "The gradient calculation does not influence the output tensors (of course up to numerical precision)."
      ]
    },
    {
      "cell_type": "code",
      "metadata": {
        "colab": {
          "base_uri": "https://localhost:8080/"
        },
        "id": "K32ZpHsDVmzy",
        "outputId": "992c15fc-baf5-450d-a36c-4224ad3b5711"
      },
      "source": [
        "# Check on the operation of dropout layers\n",
        "\n",
        "drop = nn.Dropout()\n",
        "x = torch.ones(1, 10)\n",
        "\n",
        "# Train mode (default after construction)\n",
        "drop.train()\n",
        "print(drop(x))\n",
        "\n",
        "# Eval mode\n",
        "drop.eval()\n",
        "print(drop(x))"
      ],
      "execution_count": null,
      "outputs": [
        {
          "output_type": "stream",
          "name": "stdout",
          "text": [
            "tensor([[0., 2., 0., 0., 0., 2., 2., 2., 2., 2.]])\n",
            "tensor([[1., 1., 1., 1., 1., 1., 1., 1., 1., 1.]])\n"
          ]
        }
      ]
    },
    {
      "cell_type": "markdown",
      "metadata": {
        "id": "XQbSvWYE14kk"
      },
      "source": [
        "![Screenshot from 2021-08-11 11-51-59.png](data:image/png;base64,iVBORw0KGgoAAAANSUhEUgAAAsEAAAKACAYAAAB9taW9AAAABHNCSVQICAgIfAhkiAAAABl0RVh0U29mdHdhcmUAZ25vbWUtc2NyZWVuc2hvdO8Dvz4AAAAmdEVYdENyZWF0aW9uIFRpbWUAbWnpIDExIGFnbyAyMDIxIDExOjUyOjA1Nu6RugAAIABJREFUeJzs3VlwXGd24Pl/7pnIDftOrCRIgiBBkBQ3cRG1VWmpkuVSt8fqkaeqPQ+O6ZqI7o7pjvDD+GEiujtiosbhiVB0jcPTst0ql8vjKpctySqqxBIlUiTFTQQFkAAIkFgTeyKR+3KXnAc6rwkSoEQSiYU8vyeJmbj33Jvbud893/lM2Ww2ixBCCCGEEE8Q82oHIIQQQgghxEqTJFgIIYQQQjxxJAkWQgghhBBPHEmChRBCCCHEE0eSYCGEEEII8cSRJFgIIYQQQjxxJAkWQgghhBBPHEmChRBCCCHEE0eSYCGEEEII8cSRJFgIIYQQQjxxJAkWQgghhBBPHEmChRBCCCHEE0eSYCGEEEII8cSRJFgIIYQQQjxxJAkWQgghhBBPHOtqByCEEGtdMpkkEAiQyWRwu90UFhbi9/tXOyzxBJuZmWFmZgZVVbHZbFRWVuLxeLBarZhMptUO74Hpuo6maYTDYaamptB1HbvdTkVFBYWFhasdnnhMSRIshBBfIxAI8PbbbzM1NUVbWxvPPvssBw4cWO2wxBPs1KlT/PznPyccDlNWVsbv/d7v0dHRgc/nw2pdfz/tuQT47NmzvPvuuySTSaqqqnjrrbc4cuTIaocnHlPr75MixGOgt7eXGzduUFxcTFlZGTU1NXg8ntUO66Hpuk4mk2FiYoK+vj68Xi+VlZWUlZXh8/lWO7xHFovF6OzsZHh4GIvFws6dO1c7pDVpcnKSiYkJgsEgFouF7du3U1pa+rV/l8lkSCaT9PX1MT09jcfjobKykoaGBpxO5wpEvn6Ew2ECgQBffPEFp0+fpr6+nubmZmw2GyaTyRgF1jSNQCDA5OQkc3NzpFKpe7Zlt9spLi6moqKCmpoa7Hb7ssc7MzPD+Pg4AE6n877fdWazGYfDgc/nY3R0lN7eXjZv3mzEt56/I8XaJEmwEKvg+PHj/Nf/+l/Zs2cPTz/9NC+//PK6/oJXVdUYxXn77bdpbm7mueee4+DBg49FEiy+mevXr/PRRx9x6dIlHA4Hf/RHf/SNkuBcucmf//mfc/r0aZqbm3n22Wd58803JQm+SyAQ4Fe/+hWXLl0imUzyve99j9/5nd/B7/fjcrkwm29P9clkMly8eJFPPvmES5cuMTU1dc+2iouL2b17N8888wwvv/xyXpLg/v5+PvzwQwCqqqqW/K6zWq34fD4OHjxIa2sr/+2//Td+9KMfcfr0aVwu17r/jhRrkyTBQqyC+fl5hoeHqa2tJRwOoyjKaof0SLLZLJqmEY1GGR0dxePxEIlEyGQyqx2aWEHJZJLZ2VkCgQBOp3PR0cfF5O4kTE9PMzIyQkFBAfPz8+i6nueI1w9VVUkmkwwODnLy5EmsViuvvvoqHR0d1NTULPr87u5url27RmtrK4cPH6agoACz2Uw2myWRSBAKhRgcHDRep507d7Jt27ZliTe3/c7OTk6cOEFdXR0FBQVLfteZTCasViterxev18uePXt48cUXCYVCnD59mm3btlFWVobL5cJisSxLjEJIEiyEEGJVmUwmLBYLbrcbv9+Px+PB6XSuywle+aKqKnNzcwwODnL16lWefvppvve979HU1LTo83VdZ2pqimQyySuvvMKRI0coLi7GarWi6zpzc3NcvHiR//yf/zPnzp0jk8lgNpsfOgnOXQirqkomk2F2dpahoSGuXr3KlStXKCgoeKDtbd68md/6rd/iL//yL/nqq68YHh6mubkZu90uSbBYNpIECyGEWFUul4uamhp+8IMf8K1vfQu/309tbS1er3e1Q1szYrEYV65coa+vD5fLRVNTE+3t7RQXFy/6fJfLxZtvvskLL7xAe3s7Xq/XKJUwmUx4PB5qamro6OhA0zS6u7tpb29/6Pg0TWN4eJje3l7OnDnD4OAg0WiUW7duPdT2ysvL2blzJydPnmRmZobu7m7Kysrw+/15KdsQTyZJgsUTIxwOEw6HicfjAFRWVqJpGlNTUwtu0eVGpHw+H4WFhfedaT05Ocnk5OSijxUXF1NSUoLdbsdmsxkx5CarZLNZYrEYExMT9PT0kEgkACgoKDDacLnd7uU6/Ly4swxicHCQsbExFEUhGo0SCATo6+tD0zTg9qQYn8+Hz+czavtyt3gjkQihUAhVVY1t526P+nw+KioqFvzw3d1Oyel0LthmOBw2SjH8fj9FRUW4XC4cDgcA8Xic2dlZ4vH4kiUblZWVVFZWLvpYLBZjcnKScDhMMplc8Nhir/uDurslm81mw2w2P/D+5ubmjPNqsVgoKipCVVWjtVaOzWbD5/MZt6JXeqTN4XBgtVppbm6mtLTU+PzljkfXdebn54lEIsTjcZxOJxUVFczPzzM7O7tgW3a7/Ru1sctNHJubm7vnMbPZbCRcDodjwfnQNI1gMEg4HCaVShnv7zvd7ztE0zQymQyRSISZmRlj9DuTyZBKpYjH48b30Z2vbW5y5uDgIGVlZTQ2NlJfX7/k8dntdg4dOrToYyaTCafTSUlJCS0tLQwODtLd3c3ExASZTAaLxfLA74FcicX09DS9vb1G8huLxR5q9Nbv99PY2EhjYyP9/f309fVRXl7Onj17Fp1nkJtcOT8/z/z8PG63G6/Xi9/vl7pysSRJgsUT4/r165w+fZru7m5MJhO/93u/Rzwe591332VmZsZ4nt/vp62tjX379nH06NH7/pAeP36cv/iLv1j0sZdeeolXX32V6upqioqKAOjq6uLtt9/miy++QFVV+vv7mZ2d5cKFC7hcLgC2bNnCjh07OHr06LLV5+VLLpHv6+vjnXfe4fTp08zPz3Pjxg2CwSAnT540EvmGhgYOHjzIgQMH2L59O3A72evv7+eLL77g17/+NfPz88a2bTYbfr+fgwcP8tZbb1FWVmY8dnc7pfr6enbv3g1AMBjk7Nmzxoz0o0eP8txzz7Fp0yaqqqoAGBwc5P3336e7u5tAILDosX3/+9/n+9///qKP5eooz549S19f34LHFnvdH9TdLdnKy8ux2+0PvL/Lly/z0UcfEQ6H8Xg8PP/888zPz/N3f/d3BINB43mlpaUcOHCAvXv30tHRsSoTkJLJJD/96U85d+7cPZ+/3CSvc+fO0d3dTUNDA2+99RanTp3iF7/4xYLtVFVVfaM2drn9HT9+/J7HXC4X3/ve9zh69ChVVVULzkcmk+HkyZOcPn2akZERIpHIPX9/v++QXBeVc+fO8Xd/93e0tbVx6NAhAoEAQ0NDdHd3G4n9na9tPB6nu7ubqakpdu7cyYYNGx74HN/NYrHg9XrxeDxYLBZSqRRzc3P4fL4HLl+wWCzU19fj9/vZtm2bcVF//PhxfvaznxkXoA/CarWyceNGbt26RWdnJz09PaTT6UWfGw6H6e/v57PPPuOTTz6hra2N3bt3c/To0WU5V+LxJEmweGLMzc3R19fHhQsXSCaT1NbW4vP5sNvtFBYWks1micfjhMNhLl68iK7r1NfX09jYaIw83N0K7Pz584yNjVFTU2MkIKlUivn5ea5du4bVauXAgQO0trYaI3o+n8+od7RarTidTuOHCMDj8eByudZNr0+TyYTNZsPtdhsTb6xWKy6XC6/Xa5w7n89nHJemaczMzDA4OMjZs2e5du0asVgMh8NhXAxkMhlGR0c5f/48xcXF7N+/ny1btgD//DqMj49z7tw5+vv7CQaDVFZWGiOiuQb7d46kRqNR+vr6uHjxIleuXCGRSNzTiD8SiRAIBJiYmGBubm5BMpBIJBgbG8Pr9aLrOtls1vj73N9dvHgRm83G888//9BJcG7Ur6enh4mJCbZu3cqGDRseeH9TU1NcvXqVQCCAw+HA7XYbI+KFhYXoum6Mpp87dw5d16msrKSmpuaBk6BHpaqqcSsdYMOGDcZoda6+9fr165w7d47BwUFqamqYmZkxzoemacTjcaMlWFFRkZGU5S7EcvWqAwMDXLt2jStXrjA9PU11dbXx+YtEIoTDYS5duoSu6xw4cICGhgYKCgqwWCxomsbY2Bg3btwwRk3dbveCrgzJZJLLly+TSqXw+Xxs2bLFuKuQi3NkZISzZ88yMTFBPB7HZrOhKIrx2gDGPuPxODMzM0xOTqKqKs3NzZSXlz/yOdd1nWQySSqVQtd1TCYTZrP5oWqxzWazcaenrq7O+PfBwUGcTudD3V0wm83U1NRQX1/PuXPnmJycZHZ2luLi4nvukqXTaYLBID09PZw6dQpN0ygrK7vnzokQd1ofv7JCLLPZ2Vn+4R/+gWeffZZ/+2//LWVlZaiqyujoKFeuXOGv//qv+eKLL9i0aZNxGx/ubQVms9k4duwYL730Ert27QJul0h0d3fz61//mh//+McoioLf72fDhg1s376dP/qjP+JHP/oRt27dYtOmTUaLtMbGRuD2bUyn07niScjDyNUWtrS08K//9b+moqLinhZpmzdvBm6P7BYUFOByuVBVlZ6eHj777DM+/PBDfD4fb7zxBtu3bzdmuo+MjPCzn/2ML7/8kv/0n/4T/+bf/BsjCb5bX18fU1NTPP/88xw+fJhXXnnFSBJy5SV2u52hoSHeffddurq6sFqtfPe73+XVV19dsK2enh4+/PBDvF4vQ0NDC37Q5+bmuHTpknHMv/u7v2u8brm/+/LLL/nTP/1Tampq2LFjxyOd3+XYn67rxGIxpqenOXv2LM888wz/4T/8B4qKilAUhWvXrnHhwgWOHz9OKpVi69atFBQUrOn339DQED/5yU948803+ZM/+RPg9gXKyMgIp06d4q//+q+5cOECjY2NtLW1GQlTJpMhFArxy1/+knfffZempiZeeeWVBZ+/vr4+vvrqK06cOMFXX31lXKjW1dUtSORKS0vZv38/ra2tbNiwAYfDga7rhEIhurq6+LM/+zN+85vfoCgKv/Vbv7Vkac3Vq1cZGxvju9/9Ls888wwbN240kuDcBfHExASBQIBkMklBQQEbNmxYllXU0uk0Y2NjjI+PoygKTqeT4uJiI6FfbWazmdLSUqqrq3E6nSQSCUZHRykpKVnzpWJifZAkWDyRioqKOHbsGC+++CKbN2/G5/Oh67pRM3n8+HFmZ2e5fPkydXV1RiIXDoc5c+YMZ86cYWpqimPHjvHGG28YP4Rwu46vqKiIoaEhrl27xtjYGNeuXaOwsNAYYSssLDTq8oqKiqipqaGhoeGRjmlkZIRbt25x48YNoxTgmzKZTBQUFFBTU8ORI0eora39xn9nsVhwuVyUl5dTUlJi/H9xcTHV1dWLHlcsFuPSpUucOXMGv99PR0cHe/fupbm52bh17PP5eP3113E4HPzkJz+hq6uLL774gsbGxnsSgOrqalpbW9m/fz979+6lsbFxwS1oVVUZHBzkiy++oLOzE4DXXnuNI0eO3BOf0+nE4XDg9XopKytbUE/o8XjYsGEDHR0dHDhwgMbGRioqKoDbpSHBYJDBwUG6urro7+9nYGCAqqqqh/7BXo795d5nfr+fw4cPc+TIETZt2oTH40HTNOOi5OOPP2Z0dJTOzk5jcYK1qqamhldffZVDhw4Zr18mk6GkpISpqSncbjeBQIDz589TXl5ufDYnJiY4ffo0V69eJZVKsWvXLl555RVaW1spKSkBMD6f/f39dHV1Gee0oqICh8OB3W7nwIEDNDU10dzcTFVVFUVFRUbXhYqKCrLZLFu2bKGnp4fr16/z1FNPLXks9fX17Nq1i/3797Nz5857Xj9FUYjH44RCIRRFobS0lIaGBiPeh5FL1gcHB+np6SESibB161YaGhrW1B0oi8VCZWWl0V4tN9obi8Xuea7P56OlpYXXX3+dTZs2UVdXR1NT0yOdJ/H4WzvvdiFWUGlpKd/73vd45plnjH8zm82UlJRQW1tLeXm5McHjzolv4XCYzz//nKtXr+J2u9m1axff+ta3Fmw7d0tw69atXLlyhVAoRG9v7yPNvP4mxsfHOX/+PMePH+fKlSsP9Le5Y9+9ezctLS3fOAl+GLquk0ql6O7u5vr167z22ms8/fTTCxJguH0x8cILL5BIJHj//fcZGRnhzJkzRpJyp6amJp5//nmOHDli1BvfKXer/cKFC4yPj7Njxw5ee+21RRP0+02IKywsZMeOHezfv5/9+/cveCx327uiosKYdDUwMIDP53voJHg59mcymXC73dTW1vLyyy+zb98+4zGLxUJtbS0bN27E6/UyPDxMX18fHR0dDxXvSmlqauIHP/jBgtfPbrdTUVFBdXU1ZWVlRCIRurq6ePrpp43nTE5O8vHHHxslTPv27ePw4cMLtl1eXk5BQQFbtmxhamqKsbExbt26ZSSydrudgwcPous6qqoaSWo2mzW24XK5aG5uZnZ2loGBAUKh0JLH0trayuuvv86uXbuM0eg7ZbNZUqkUsVgMVVWNThr3m6twP9lsFkVRCAQC9PT00N/fj6Io7Nq1a8l2a6sl971UVVWFw+EgHo8Ti8UW7T+d+97dvHkzr7/++ipEK9YjSYKFuIvFYsHv9+Pz+e6pY0un04yMjJBMJtm+fft9k0WXy0VhYSFzc3MMDQ0ZE0XypbGxEafTSWtr64JJT9+EyWTC4XBQWlp63xnnyyEUCjE0NEQ0GsVut1NZWUl5efmSI1Ber5fm5mYAbt68uSCJ+6ZyNaXT09OUlZVRW1v70J0blmKz2fB6vQ81AWi192e1WvH7/QvaaK1XDodjybZh0WiUmzdv4nK52LFjx5J1tbkyH6fTyeTkJIFA4J5FHmKxGNevX6erq4vOzk6j6wzcLs0YGhoiHA4v2j1iNSWTSaanp/nggw/48MMPCQQCtLW18dJLL8ly4OKJI0mwEHfJTXRZrCZSURRmZ2cJh8M4nU5jRaTFBAIBUqkUwWAQq9Wa99XTKioqqKioWPM/ZJFIhPHxcRKJBFarlaKiIvx+/5ITZ5xOJ5WVlQQCAUZHRxe9Ffp1chPAwuEwPp/PWDRgOeXKQJY7uV6J/ZnNZqNee70nwVarFY/HsyApzUmlUkxOTlJZWWnU2i72+U2lUkxPTxOPx5menmZubs5IZu8cdb9w4QJfffUVfX19xiQ5uP09kVvxLjfRc62YnJxcsJxyZWUlO3bsYN++fWu6BEaIfJAkWIiHMDk5yYkTJ+js7Fy0ZyXcntQUDAax2WxGHae4nWA8zJLKiUSCRCLxjZfiFWIpi7Xwu5Ou68zMzBCNRu+5yMi1Vnv//fcJhUI0NTXx+7//+2zYsMFY3GNmZoZPP/3U6O6xlly4cIEf/ehHDA8PU1lZyVtvvcULL7zw0OUVQqxnkgQL8RAsFouxQMNSs7QLCwuNWsuWlpaHbpf1TQWDQaON0p39dr8ph8NBUVERLS0tS95OXg4mk+mhWjDl/k6W0hWParEWfncrLi42Sk527tyJy+UiGAwyNDTEhQsX6O7uZvv27ezZs4ejR49SX19vtFkbHR1lbGzMKMFZC6anp+nr6+Ozzz7j6tWrbN68mf379/Pss8+yffv2NTdiLcRKkCRYiIdQWVnJc889x3PPPceePXvu+1yz2byg92e+DA4OcubMGU6cOEFXV9cD/a3ZbKa4uJj29nZ++MMf5jUJznUqeNClT3Ntu2T1J/GoWlpa7mnhtxSLxUJBQQF+v5/Ozk5Onz7NxMQENTU1/PCHP+SZZ56hsLBwxcpgHlZfXx9vv/02ly9fxul08p3vfIc33niDhoYGfD7fui+DEeJhSBIsxAOw2+3U1NSQTqdJJpM4nc6Ham2WmzS3nJOoysvLaW9vx+VyGaunfVN3tki7c2W2b+rOlae+7sc0t4iB1+tFURSmp6eZnZ1d0I/3TvF4nKGhIRwOB83NzUuO3N1Prt9oaWkpfX19TE5O3jPRSTz+3G439fX1OBwOotEoPp/vgT6/6XSaSCSCoijGpM6lOoksl1yLO4/Hg9VqNZbUztXSf53JyUmOHz/OJ598wvnz543yjVyrPJfLteLLZH9TuVZuExMTpNNpo95bLoTFcpEkWIgH4HK5aGpqMlbrmpqaIplMYrPZ7plopes6mqahqirZbBaHw2H82LjdbsrKyrDZbMbjj6quro66uroFbd9WitVqxev14vV6jRHepY4rt3BIbmR8fHycQCBAa2urseIc3J6AlMlkjFvQra2ttLS0PFTtosVioaqqiurqamOVv1xd8t0j0rn9ms1mLBbLso6Q5VaZS6VSKIqCxWLBZrNht9vX/Eicoigkk0my2axxd+NBR/NXW66t3OjoKAMDA8zOzpJKpbDZbAsSwWw2u+DzazabsdvtRl9sk8lENptFVVVUVV3wb4qikEqlSKfTKIryyJ/tXIs7n8+H1WolHo8zOjr6tW3SstmssSz5O++8w/nz53E6nezbt48//MM/fOA4chf+cPui0ul0YrVa81qilKvNzi0U4vf78fv9913I5c44c5NH11LvY7G2yDtDiAdQWFjI0aNH0TSN9957j88++wy3282ePXvYuHHjgueGQiEmJye5du0aqVSKY8eOGU37S0pKaGpqMlop5bt92kr5pu3MbDYbHR0dzMzM0NfXh81mo66uji1bthjN7XMTlz766COi0SiNjY0cOXKEqqqqB47LarXS2tpKJBLh5MmTDA4O8ld/9Ve88sorHDx4cMFzc0sRFxUVUVdX91Aj40tJJpMEg0Hee+89uru7qaqqor29nWPHjq35iUldXV389Kc/JZlMUlpayne+852vLQVaa6qrq3n55Zf55S9/yeeff86JEycAeOqppxaM6OaSr9HRUWOhm2PHjhl3MTweD4FAgP7+furq6ozRZUVRuHjxImfPnuWTTz5heHj4kVukmc1mysrKqKmpweVyGaumbd68+b6j2LkJfB9++CEzMzMcPHiQ7373uwv6Jj+Izz77jJ/+9KfA7fP43e9+l61bt+LxePI2kpxbXj3Xaaeqqoq6urr7LoBxZ5x1dXW8+eabS640KYQkwUI8ALfbTXt7O/Pz81y+fNnoEqGq6j2tuyYmJhgbGzOSvDsThtraWjo6Ojhz5gwDAwN0d3cboym5ZX4LCwvX3dKgRUVF7Ny5k97eXm7cuEF3d7cxWSi3/LTP58Nut7Njxw4ikQjHjx83JhtFIhEjyQ0EAnz88cf09/fT0NDAjh07aG1tBW6P9jyI3KIQ27dvp729ne7ubi5cuEBRUdE9o0oDAwOcPHmSbdu2UVpaiqqqy3BmbstkMszNzXHy5Ek+/vhj48f5wIEDaz4JHhkZ4ec//zmRSIT6+np27Nhx3yQ4mUwyMDBw31r43Gh7eXn5itTUlpaWsnfvXvr6+ujq6uLmzZtGApe7QIXbydfY2JixeEhTUxNPP/00hYWFNDY20tDQQCQSoaenB6fTSTAYxOVykclk+Oqrr+jt7WV8fJxIJPLIE87MZjN+v5/y8nJKS0sZGxtjcHCQ2dnZJf9GURRCoRCffvopH3zwAYWFhbS1tdHa2ordbl+yraPT6cTr9S747lFVlUwmQ2dnJ//9v/93/H4/7e3t7Nu3j02bNhkj3bquk0wmicVihEIho4vLyMgIqVSKcDjMxMQEPT09xkV/Lrlfiq7rTExMMDo6is1mo6ysjPLycqMLx50Wi3PPnj18+9vf/mYnWjyRJAkW4gFYrVZ8Ph8HDx6kpqaG999/nxMnTtDb23vPLbd0Oo2u6zz11FN0dHQsqGXN3frv6+vjxIkT/Mmf/Inxxb5lyxZ27NjB0aNH2bZt24oe36PKjbTNzc3x93//98zMzPCzn/0MgIaGBg4ePMiBAwfYtm0bW7duxe124/f7uXLlCj//+c/Rdd2ok9Y0jVgsRmtrK7/927/9wHXOi8lNZrpw4QK/+c1vOH78OB988MGC52iaRjqdZsuWLdTX18us+YcUCAR4++2375sE5yZJ/st/+S957rnn8h6T3W6nqKiI119/ne3bt/Pee+9x5swZLl68eE85RCqVwuPx8NRTT9HS0mIspb1p0ya+/e1v4/V6uXr1KqdPnzYWGbHb7XR0dLB582Z0XWd4eHjZWqS53W7a2tpQFIVr167d9wIkHA4bC9Koqmos9z42NnbfeQjNzc3s3r17wXdPPB5nYmLCaPe4c+dOjh07RlNT04LFVTRNY3h4mM7OTn79618zNDQE3K5Jnp6eJhaLMTIywoULF4zP1BtvvMEPf/jDJeNRVZWBgQEGBgaMO0VLxb9YnEePHpVlk8V9SRIsnhgVFRV0dHTgdDqx2+2UlpYu+jy32822bduMkZA7V4XL1UJWV1dTXV1NMBgkGAwSiUSMOrQ7ORwO2trajNuGOSUlJTidTg4ePHhP31uPx7Nu69j8fj+tra3s27ePmZmZBY/5fD7juHLLoebqpJ1OJ+l0mnA4bDw/155q7969PPPMMwt+zHI1iY2NjXzrW9+itraWpqamr5005/F42LlzJ06nk2QySW9v7z1JSm40rLGx0Rid9fv9HDp0iM2bNxtLFd8tV3+4fft2Xn31Vdrb2ykvL19QN2uz2fD7/ezduxe73U5tbe2iP+zLtb/a2loOHjxINBqlpKRkyTZ9Xq+X3bt3U1tbS01NzaL7q6qq4sUXXySRSFBeXk51dfU9z7nzMxYIBBbd151y59rhcGCz2di1axe6rrNlyxYaGxuNY7FYLGzYsIGnnnoKj8fDpk2blqwLLS4uZteuXczPz+N0OheUs1gsFiwWC5s2baKmpobp6WkURVmyb3V5eTk7duygubkZu91u1MF2dHRgtVrJZrOMjo4az3c4HDQ2NtLc3ExVVZVR737ncsS5C+lcMr1161aqq6vvW+cKt9+77e3tzM3N8cknnzA0NMT4+Dh+v/+eO0Ymk8mYIPsg9bper/ee755c+UVu0Z+WlhZ27959z3vNZDJhtVqNi4XcxU9hYeGS5Qj3u8CMRqPGqHcoFGLnzp1s27ZtyUlxd8fZ1tbGwYMH89rpRqx/puzUZw68AAAgAElEQVRyzMgRYh3ILbaQTqcxmUwUFxcv+oWqKArRaNToHuB2uxcksHeKRCJEIhE0TVt0Akxu+dWCggLsdvuC0SZd15mbm7unjCL3Y7se24Hpum6szhaNRhc8ZrPZjFXJcseVm4SWu42q6/qCv7mzPdWdP8zZbBZN00gmk8zPzxvbzl3gfJ1UKkU0GiWdTt9T7mAymYxb0LmkOlfGoKoqDodj0RUF7zz2WCy26OuuaRqapjE/P29MqCwoKMDr9S54byzX/mKxmHFeLRbLkh1JMpkM4XAYVVWNmO7eXyKRYG5uDl3XjWWW706+7vyMfZPuG3eea4/Hw9zcHIlEAofDYcRgsVjQdX3BtnNLIy92oZh7bXVdx2QyGYnd3XRdZ35+nng8bkxYvJvVasXtduNyuYzJi9lslkwmQyqVIhaLLTjO3OfdbrejqiqKoqAoyoJ+xLquo6oqiUSCaDRqvL52u/2+JSGJRIJAIMA//uM/8sd//MccOXKEf/Wv/hVtbW0LSjngn0sDotHoohfnS7HZbLhcrgXfPTdv3uTUqVPGXa//+B//I7/zO79DVVXVgu/F+52XpeRWb1zMrVu3uHDhAu+88w6BQIB/9+/+Hc8++yw1NTWLvofvjPOTTz7hv/yX/8Jbb71lXLgIsRhJgoUQQog1TlVVkskkp06d4sc//jHpdJrq6mq+//3vc+zYsbztt7Ozk7/927+lp6eHUCjEH/zBH/DSSy/lfYnwDz74gHfeeYdQKERFRQV/8Ad/wJ49e5Zs6XZnnPPz8/z7f//vefXVV/MWn3g8rO2ePEIIIYQw2hDW19ezf/9+EokE7733Hr29vUY5x1Ij2g8j1yYuGo0yODiI1Wpl3759xuIay50A5/aXK4vq7u7m+PHjOJ1OnnrqKWpraxftRHF3nDabjf3791NeXr6s8YnHk9wjEEIIIdaJ3OTTmZkZhoaG+MUvfsHo6OiytyzLTUydmJigv7+fxsZGdu7cmbeJZrn9Xblyhffee48rV65QUVHBoUOHeOGFF5ZsVXh3nFu2bOHw4cN5X8REPB4kCRZCCCHWieLiYoqLi+nt7WVgYID5+Xl6e3s5fPjwsi28A7drlxVFMZZUb2hooLW1dcnJlcu1v2AwyPXr19E0jX379rFv3z527NjxjeNsamqivb19zbccFGuD1AQLIYQQ68zY2BhjY2MoioLD4aC+vp6ioiKj+8qjujMpHR4exufzUVtba0wSXG5370/TNJxOJ/X19fddsObuvysqKqKhoQGr1SoT4sTXkiRYCCGEEEI8cWRinBBCCCGEeOLIvQIhhBDiMaVndZTs7V7YdpPtgRbPeBSarqFkVSyYsVnyvyS2EA9DkmAhhBDiMZLNZsmSJa1nyOgZ0loGq9mK1erFYnr0zhH3k0u6U1qKuJqgwOKi0CKT1MTaJEmwEEII8RhRdZWIGuPUzBf0hwfx231s9Dawr6QDj9n99Rt4BBElyuW5LgaiQ0wnZ3mqtJ1vV+dvMQ8hHoUkwUIIIcRjQNVVUlqa6dQs/bFBfjlygk9DfTztb8ZmttJR3JaX/epZHU3XCClh+qODHB//jMuhG0wrUXwOL99GkmCxNkkSLIQQQjwGYmqckUSAjyc+508H/5H+uX7QNcIF+V04QsmqRJQov5n8nI8mPucvxz4HJU6Ztzav+xXiUUkSLIQQQqxD2WwWLauRUJNMpqbpjdzk8lwXvwycpX/0M0hHwVlESlfysv/cCPBYcpyroet8MPYpPw18DnM9YLYxYysgqSTzsm8hloMkwUIIIcQ6ldYzjCUn+CBwgr8Z/ZQvRz6FxCxo+V8CQNM1EnqS8zNX+D/7/oqrU1cgdAt0wGaFaICZdCjvcQjxsCQJFkIIIdaZqBJjNj3H+dkrnJ39kvenvmQo2LMiCXCuA8RgfITzM1d4f/zT2wlwfOJ2Agyga6AkSOmZvMYixKOQJFgIIYRYJ3IlCFOpGa6H+3l36AM+HP4NRMZAWazswYSZ5ekNnFtgVsmqzKfDXJvv4y+G3ufTiYsQvHX3k0FJkNHyU4ohxHKQJFgIIYRYJ+aVCMPxMT4c+4S/GfuMrmDv7RHYpZJNkwmn1Y7dbF+WZDitZwgkJ/hw7CQfTJy+nQBHR+59og6oaRkJFmuaJMFCCCHEOqFoCpFMlN7oEF3TnZCcgUzqn8sQ7mYy4TTbsJsffbU4PaszmZzmy7lu/mb0BGcCZyE8BNpSfwCKpqLpGiaTCbPJ/Ej7F2K5SRIshBBCrBN+u49thZv5VtUhYmqSv5/6EoK9kI4snYwuk7Se4bOpL/ib0Y84M3kZooGlk+9/omRVEloSp9mB2SJJsFhbJAkWQggh1gmnxYHT4qCjaBsAjQVVfOqt48rUZYiMgqLmbd8mk4kCm4taVxltJa10O3yQmoPEDCQii/5NUssQUaKY7WZs2PIWmxAPQ5JgIYQQYp3Z7GumyVvPa7Uvcm2+jz+8+n/zqfYJRL5+dPZhOc0OvlPzAkfK9jEcH6NrvpfTM5f5y8BZGDm36N9E1CTT6SAOiwO3tSA/gQnxkCQJFkIIIdYZq9mKOWsmqsSYy8wTVpNQ1My/2PQ6YTXOr8NDMHsNTBacZvvtmuDso9UEm0wmnBYHFnshFrMFp9VBsb2QsBLn74PXoXQbW5xl9CYmITYBkRHSukpCTaLpea7VEOIhSBIshBBCrEOarjGWmKA/OsS4Guflohb+97b/hXklwv7Jz/k/slmIT1Fk9+KyOh95YlyOzWKj1FKMx+qm0lnO9Ug/f++p5Yd1z7GzaCuXQ9f41fRVhrQUTouNjJZBy3fBshAPQZJgIYQQYh1Ssird831cnrtOu7uS3UWbKXT4KXOVUGB10Va4mbASpcZVQa2rCpt5eWty5zIhOueuEUpH2Fq0iY7iVg6W7WFL4UaerzzISPNrVDrLKHEW4TA7lnXfQiwHSYKFEEKIdSatZwgrEa6H++mOjHC4bBs7i1vx2Tz4bT4qneXsLt6BoimElDBmkxmrybKsMcyl57kc7CKixjlcupXNvma2+DYCt1u5pfQ0KS1NRs/gtEgSLNYeSYKFEEKIdSaYnqMvfJO+6AjTaoKOolZ2Fm7DaXEueJ7FbMFv993+72VOgueVCF/O91Fq93O4bA8VztIF+3WZnNgtdvSsjt0knSHE2iNJsBBCCLHODMXHODtzmYSaps1dSZOnjqqCCmymhT/rZpMZh8m+rPvWdI2ElmQ2NUdfbJLqslLai7dSZC9csF+zySxJhljTpHO1EEIIsc50hXr58fBHlNp9vFJ1iFpXFU6zA9MyLI38ddJ6hsnUNGOJSW4oMfw2D62+Fors/rzvW4jlJEmwEEIIsU5EMlFuRG5yIzJIIDlLvaeK3aXbKXT4MZlMy9YB4n6SWoqB6BCz6TmOeWupKai83bJNlkUW64zcqRBCCCHWiZASpjN0nZuxAOgqDZ5a2nybKbC68r7vbDYLQFxNcD08wHRqjh3+JuoKqvO+byHyQS7bhBBCiHViJhXk06nz2CxWfr/+eVq8jbgszhUbhU3rGWbSQU5Pf8nN2Dg7CrfQ5KlbkX0LsdwkCRZCCCHWOE3XiCoxxpNTXJi7QaHNw8s1R6l312Kz2FYkCc6SJabGmU7NcjUWIKql2ORvpKagMu/7FiIfpBxCCCGEWOMSWpL+6CA3o8PEshka3TUcKN2N3+ZbsRj0rM5kcpqJ5DSNzmI2eqqpdJThthSsWAxCLCdJgoUQQog1Lq4luDp/ncH4GC0FFTR566hyVaxoDGpWYzA2ys3YCA3uClr9zXhtHmwW6QEs1icphxBCCCHWuEgmymdTF7kZG+fZiqfY7Gte8RhUXeV6+AadoX5aPHVsL9yC667FOYRYTyQJFkIIIdYoTdcIJCboi9xiJh3GZy2gvXArNa6VrcNNaWmCmRD90RGuxycpd5VS766RUWCxrkkSLIQQQqxB2WwWJatyMzbM9fANklqGCmcxW/wbKb9jieKVEFcTTCSmuBWfZCg9T6mjmEpn+T0r1Amxnsi7VwghhFiDVF0lokQ5P3uFs8EuOgo3sq9054r0BL7beGKSC3NXKXF4eaO8nQpnKQ6zfUVWqBMiX2QkWAghhFiDolqcydQ018O36I9NscXfzI6irTjMjhWPZTw1xdnpTgqtHp4qbqXEWYTNYluRFeqEyBdJgoUQQog1aDI5zdW5HjKawkZ3OZu8DdS6qrCbV74ON5CY5G9mruCyOtjq34TX4lnxGIRYblIOIYQQQqwhelZH0zVuxUY4O/slToudZl8tla5yPDb3isaS1FKElQjjiSlIhSl3FLPJ24jbKr2BxfonI8FCCCHEGqLpGgk9yVehHv6fsdOUOYt4tuIgpY7iFY8llJnnylw3I4lJsHto8tSx0dMgSbB4LMhIsBBCCLGGhJQwvZEBJlOzlNncNHo20OxdncRzLj3PheBVIpk4zxdvptRZjNUsqYN4PMg7WQghhFgDstksALPpOb6Y+ZKZ1Dzt7koaPLVsKKhelViCmRDnZruxmMwcLG2jxFG0onEIkU9SDiGEEEKsAVmypPQ0o4lxjk+eB+CV6qdXfGGMO2OZT0fojE9QbPPyfOUhagpWPhYh8kWSYCGEEGINyOgK06lZBmOjnAwP4re5OVi6e8UXxsjFMpueYyo9y1QmRrHTR3thKyU2GQkWjw8phxBCCCHWgKgS41LwKtfDAzQ5C9nka6DF14RrFRbHiKsJuud7GYyOstlVTJWjlAKrC7NJxs7E40OSYCGEEGIVZbNZtKxGMBPi85nL3IpP8GLpdtoKWyi0+1clpriaoDN0nbHENHv9zTR4NsiEOPHYkUs6IYQQYpWl9QzBdIizwevMpiIcq9zPFt/GVYsnpaXoCQ8SzETYXdxKk6du1WIRIl8kCRZCCCFWkaqr9EVucnXuOk6zjS3eWjZ6Gii2F654LHpWZz4TJpCYZDgxDcA2fwsb3CvbnUKIlSD3NoTRCidv2yd/28937JC/+Fcidt20fs+9vG+W2G4eY8/nOTf2kaf4s3l8rxv7yFPsSS3F5bkuLs51U+bw0VrYRG1BFV7byi9NrGd1ZtJBRhMTjGXC7PDUsMnXSJWrYsVjESLfJAkWaFmNjK7k9Uc7rWfQstqyb1tHJ61l0LP6sm87R9EVMrqy7NvN53nJUbIqiqag5+G1zdd5ydGzOmk9P6+tqmuks5m8JpRpLYOaVZd9u1pWR9EyqHl436hopLX8npeUlkHJw3nRszoZTUHJ4+cpoyuk8/Ce17I6A/FpnGYrr1bvo6O4DZfFuez7+SbUrMZQfIzh2Bgd3g20+Ztxmh2rEosQ+SZJ8Bqn6RqB5CShzDyKri57omo2mdF0jaSeyssPnwkTJpOJlJbOS8KUz0Qp5/YP6/LGbpwXNU1mmbedY8aMltVIaMm8vLaZFUiCU1oGnfwkwSl9fSZ7WlYnrSsoeh6S4KxGSlNQ8/h5imsZknk4L0pWJ6CmIatCvjoY6ApoeXjPm0xgcfCiv4nthVvY7M1f4qlndfSsjprVUHUVDQ1FV1F0hZSWJqJEuRLspj82yibPBrYVtuC0ShIsHk+SBK9xSS3Fz4b+gZ+M/IbrmQiall6+jZssFFodOExm0lkdLQ8JQYnFjtdsR83qqHlIZqyYcZqtWPLYtsdhtmJf5lnRLosdl8WOltXR8pBw2EwWHBY7FpMZLavnJdmz5eG83MlsMmPL02trN9vwWgswmUzLvu0792ExW5Z9uyaTCYfJlpdWVWaTBbvJlvfzYs3DebndYUHHarZgN9vz8r6xmq3YTPl5z5tNZnw2D83eBkrsRXl578Dtu0MpLUU4EyWciRBWo8ym5phKzTIaH6cvNsL58BA+i52nyzpo9W3CISPB4jElSfAaltYzhJQwV0J9dAV72FS8iVrP8k1OsJjMuCz5+bHIcZht2M22vG3fYjLjtNjz2rvSbrbhWOZjsFts2E35Oy9mkxmHxZHX19a2Aq+tzZSfhMlismA35yeRzHFY7FjzkDCZMWG32LGa8nReLDbMeZwzna/zkpPPY7Cbbdjy+J43YcJhtj9wAqxndTRdI5O9PZqb1tMktRRxNUFUiRNRoiS1FKqukVRv/3tCT5JS0yhZlbSWIammiahxVF2jzV1JfUEFrf5N1Lqr8pb4C7Ha5J29hiXVJMFMiISexuGr5Y/b/1cOlu1Z9v2Yyd+oD5DXUSVjH9n1dwymPJ93yP+5X+/HkO/48xm7OY/veXnf3Ge7KxD7g8pmby9xHFGiBDMhgqkQ0+kgI/EAt2JjXA0P0p0MElUToCRBTYHVCbYCmpyFbHSVUl9QQZO7hg2eaorthVQ6y2j2NuC1etbkMQuxHCQJXsMSWpL5dBibycI2RyHFjsJVaZkjhBBidelZHSWrMpcOMRIPMJGcZjYTIqEmiSlxQpkICS1FRlewmizYzFbSukJay1DtLKLeVUaRw4vL7MBuseG2uCiwFeC2uPDa3BTafPjsXopsfgqsLtzWAjw2t6wQJx5rkgSvYXE1QTAdwmayUunwyy0pIYR4wuTq+ZWsSjgTYSA6xNmZS3SGbtAVG+Vaah7SYUiFIKuDtQDc5Rzy1lLlKKLcVUSDu5p6dw0tviYqXWWU2ItwWV04zPZVPjohVpdkVWtYOBNlLDGJyWSizO7Pa/2lEEKItSmtZ5hITnFi8nM6Qz3cjI1TYHVwsGgz33H48dk82M12XGYHBbbbo7heqxu7xY7T4sBpduCxFuC3+XBZnDisDqzkZ+KdEOuJJMFrWFSJEUhOYcaE3+HJ62QSIYQQa4uma6T1DOPJSbrn+zgz/SV9sQAui51WVz1tRS00ujdQU1BJod2Px+rGaXFICYMQ35BkVWtYXEsylw6jk8Vlli82IYR4kiS0JNPpWf5h7GPOzV5FyWo8XbqNQ2V7qPfUUmIvosDqwml2YLPYsGKRSWxCPABJgtewuJpgMh2ixlVKjasSp0V6NQohxOMurWeIqwm+Cl3n8lw33fP9AOwr3sau4jZ2FW+nyObHZpESOSEehQwtrmEJLclUKkyJ3U+Dp5YCi2u1QxJCCJFnSTXJeGKSXwU+5X/r+QkxJcnRsj38dt1LPFNxkFJHMdY8LlQjxJNCPkVrWDgT5VJiktcsTqoLKmTpSiGEeIyl9QzB9BxfhXo4MXGG6XSI/6lqL4fLdrOzeBtVrnK5IyjEMpKR4DVsXolAfBq7xUa5sxS7tLMRQojHTjabRdEUwpkINyK3ODV9gf9r8B/JaAqv177Ac5WH2F28A7/Nt9qhCvFYkZHgNSyuJCEZJKmlVzsUIYQQeaLqKt2RPq7MdXNy6gLBTITv1xziucoDtBe1UuIoWu0QhXgsSRK8BuVWBkrrGdDSWDBjM1tl1q8QQjwmstkselYnqsaYSQe5MNvJ59Nf0hkeYqOnghcqD7K3dCcNng2rHaoQjy1JgtegtJ4hkone/h9XKWXOEgptsliGEEI8LrSsRkpLc3mui89nLnI+eI2IkuR/rH+OXSXbafE2UeooXu0whXisSRK8BmX0DLPpudv/U1CGz+aRyRBCCPEY0LM6mq4xnpri2nwfp2cucj7YQ7ndz1PFWzlWcZDN/mY8FjcWs6zqJkQ+SRK8BqW1DHOZeQAqXMXSFUIIIR4T2WyWlJ7mRvQWfz74S76MjKBns/yPDS/x7epnKLT5cVocUv4mxAqQJHgNSmopJpLTKLpKk6MQp1mSYCGEWM+y2SyqrjKdnuV88ApX5q6R1hReLN3OVn8zHcVtFNuLsJttsjqoECtk7STB2SygA9nVjmTVJdU444lxFC1DpcOP3WyBrLraYa0yC5hkZOS+sjq3P0NCiLVEz2bRshohJcrN2BAfjJ1kMD5BXUEpz1Xu5bnKwxRYnDjMFkD/p8+yEI8rM6yRC721kwSjk9Wmyerh1Q5k1aXStwgmBkkrs3gBqzqBrgysdlirxmRyYrKUg6lgtUNZ07J6kKwWXO0whBB3mVfiTKRC/GriSy7ODYCe4qC/jKdLt7LZU4BLC2DOWtDXSGIgRD6ZLCWYLGWrHQawppLgLFk9TFabWu1AVl1GmSCYDICepszhxU70yT4vJg9YCjEhSfB96fEn+30ixBoVTExwY36Ec5NnORMd519UbGVPYRUHSjbgs9mBudsDwKsdqBArwGRygiTBYikZXWUmHaPE4aHFW4XfJsmfEEKsV5PJebojYzR7y9hZuIHDZVtp8VZTYJFVQIVYTZIEr0FJLcNQMkSly0+ztxKfVZJgIYRYr/y2AjZ6KvBYnZQ5fGzyVlNo96x2WEI88SQJXoOSappLiSD7ixvY4CqlwOZc7ZCEEEI8pM2+Gpo9VZhMYMaMxSy1v0KsBZIEr0GFNjevFNWzwVWMxWTGkpWuCEIIsV5ZzVaskvcKsebIx3INKnZ4OVy6iUZPOSaTiay8SkIIIYQQy0pGgtegKlcR36rcidfqotjhxWm2rXZIQgghhBCPFUmC16BCu0cmTQghhBBC5JHcaBdCCCGEEE8cSYKFEEIIIcQTR5JgIYQQQgjxxJEkWAghhBBCPHEkCRZCCCGEEE8cSYKFEEIIIcQTR5JgIYQQQgjxxJEkWAghhBBCPHEkCRZCCCGEEE8cSYKFEEIIIcQTR5JgIYQQQgjxxLGudgDLRdM00uk0mqYt+Ryr1YrD4cBsfrjcP51OoygKFosFi8WC1Wp96G0JIR5MJpUhnVGwWa1YrRbMVrN8/oR4zGiKRjqjYAIsFjMW2+3fWyHy4bFJgoMzs5w4cYLh4eEln9PS0sJzzz9PYVHhQ+3j4vkLnD17lg0bNtDQ0MDmLVsoLil+2JCFEA/g1Jmv+Ox0Jzu2N7N1cx31dZV4fe7VDksIsYyGRiY4+VknNouF6poyWrfUUVNbvtphicfUuk+Cs9ksiqIQDAb58vJlbt0cwO8vXHDlqKoqsViUaCTChg0baGpqorS87IH3NTc3x82BAcxmMz6fDyWTWc5DWTW6rqNpGuHQPJFIBL/fj9vrwWazyRW4WHWZjEoqmebS5V5+/otPSacz+LxuKsqLJQkW4jGh6TqZtMKtwUl+9esv8Lhd7OnYTFVV8bpNgtWMSjKVZmY2TEZRqCwvxuN2YbFZMJlMqx3eArqqMzU9RyyexF3gxO124fG6HvscYN0nwbquEwrOEQqFKCktpbqmhmeeeQafz2c8JxQKcenSJYYGB/l//+zPePa55/gf3vzdB97X04cOsW3bNlwuF06XC4/Xs5yHsmoURSEWjfHxxx9z+tQpnn/hBfbs2UNpeRkFBQWrHZ54ws2HIvT2jXKjf5SZ2XmSycfj4lMI8c/SqQzj4zP03hjm+vUhNtRWQMdqR/VoQuEo/QMBfvb/nWB8Ypb/+QffYe+eLfh9Hiy2tZVcJlNp/vYXn3LpSh/t25vZtbOFvXu24PY+3jnAuk+CTSYTNrudkpISOjo68Hg8bN66Bbf7n0eI5kPzpNNp4vE4Pde6GRoaYmpiEq/f90BJXklpCSWlJfk4jFWl6zqaqjI7O8vgzQGCu3aRTqfRdX21QxNPIE3XCQUjTE4FuXlrgqGhCYZHJrnWM0Qmo8j7UojHRDKeYm4+Sk/vCLcGA8zOztPZNcD0dIiysqLVDu+RKYpKJBrn1tA4Q8NThMIxFFVDN2VZWynw7TxgfHKW/oExSkt9NDXVoD0B37WPRRJcWFSIz++jvrHhdlJssy14ToG7gE2bNjE9Pc0XZ88wHwpx8+ZNmpubZaRTiDVGU3WGRyY5c7aLn/3tJ/T2DaNpOpmMgs227r+yhBD/JByN09s3wp+98x4nfnMJXddR/mlinBArYd3/ophMJkwmE2azGat18cMxmUxYrVasVismkwld11FV9YFHlHquXae3t5fy8nIqKiqorK7C4/Hc85jH4yGTyTA/P8/09DSK8s8f6OLiYvbu3UtldZXxb6qqMjw4xOTkJOl0GqvVis/nY3p6mvHx8QUxVFdX097eTmFxEQ6HA4BkMsnk+ARjY2OMjo7S2trKzl2L30fq/PIKXV1dbNy4kdraWgrcbiYnJrhw4QLXr11DUVS+unqVSCSC1+vFbrcD0NraytZtrTidTjKZDMODQwQCgXuOL6euro6n9u3F6/U+0DkWwmIxUVlZwu5dW7DZrIxPzpJIpjn3xXW6u28uyz7mgmEGhyYYHJ4kOBumbVsTbreT85d6mJqaM55ns1rYsWMjW1o2UFVRQoHHdc+2ZmfmOXXmK4aGJkgkU+h61nis0Odmx/aNNDVVUVVRgs1hQ82oXO8Z4ubQBLOzYaqrSjhyaMeC+mZV00gl0vTdGOHUma9obqph185NFBV6cbjs9zzW1tpAV/cgt4bGSSbTqOrtLjlHD+/k6JGdAITmIly+coObg+MEg2HjOUvFmTM1GeT4iYtk0grt2zcSjSUITMwSnA0TjSVunyebFZfLwcF9bezdu3XRc/7ZqU4+O9256GNVlaXU11XQurWe2nVa/ykenLvASX19Ba995xDbWhsB6O0b5qOPLy7rfhKJFPPzUb7qusWFSz0LHsu9d3fv3MzhwzsWPDY2Os2lK33EYylsdit7drXQ1FSz4DnRSJypmRAXLvYQno/9/+zdWXBc153n+e+9mTf3PROZiX3fCZDiIlIURUqyrc0lL+VyuV1dnqro7qmqiK7unomZl36ZiH6YeZiImumeeZuemWqHXXZVedy2XCWXZWtfuIkLuGBfCIBYE0sid+R65yEJSBBFWxJJAAT+nwgEROR2LoS8+ct/nvM/PPXUQUJBL9lsnnMX+vmHVz9gbGyWtViS//rzd7jaN4LNWu5SZTGbeP65Y7S11rG4sMLI2CzXb4zR0FDJoYMtXPxwkLHx2S2P19JczWOHWqkM+fF4nZtjmF9Y4dqNcSYm5njq1EF6uhux2MxoH8tFufVc+Vw1tUBtTZD6uhANDZVcvz7Ou+/3cZhrRkYAACAASURBVOnyMHNzS5y/MMj8/CqXLg9iNps+03nwUfXIh+DPQtd1isUixWIRXdc3Q/PnnZg+MDDAL37+c7p7eujp6cHlcm2G4I3L2js7CYVCrK+vMzc7y/DQIOuZzJ0FfAXqGxoIh8N4/T40TUNVVQqFAmNjY/T19RFdXcVmt1NXV8fw0BA3rvVtHkOhUKDn4CHcbjctmrYZgtcz60xMTHDhwgXOvf8e3/rD79w7BPf18eMf/oDnX/oqx48fJxwOMzU1xVtvvMH83ByFAgwNDDA2Mrzld/TyN75JfX09uq6TiMW5du0afVevMj42ynoms3n/5TcYRU48eZKOjvK0FGljJT4Pg8FAdXUF1dUVPPlkD6lUhtXVOKXi3z+4EByNc+nKCG++fZmBoSm+8wfPUFnp54c/+jUDg5MAlIolTGYj3/zaafLPH8dqtWCxmTffeOu6zno6y63pBX72yrucv9BPPJGiUCiBrlMq6VRV+vnG15/imeJh3C4HTs1ArlDg2o1xfvPmJYZHbnPksTYOHWzZEoKLhRKJZJpLV0f4j//nT/jKl44SDHowmYwYNeOWy848dZBS6Qz/+MuznL8wQHQtwfp6ed60xWzi9FMHyWbzzM4v80+/Os/7525weyZCNpu/a5xPFw7jdNhwGdXNBTELkVW+/8NfEV9L8Z1vP8vKaoz+wVtMTMyzcOcNg8lkxG6zUiqV6D3QhKYZN+c8FnIFMpksb7x1mf/9P/1dubWkYes5oaujgaOH23E6bBKC9xGny47TZaeluWbzZ6/8w/tc+HDwt9zqs9N1nVKpRCyWZHRsll/+6hz/5Qe/wmD4qL2i2azhsFv559/9Co8dbMFkMWEylaPR7ZklXvnFeywuRbHbLPi8zrtDcDLN2PgsP/q73zA5tYjH58JoUEmk1rl8ZYhXfvE+2TvTuF577cKdYhygKLjddmprg9TXhrk1ucBvXv+QH/z4NU492YvJpPHTn73N2+9eKx9LqXwsp586SKmoc+xYBw6XDYOqEk+kGRmd4Sc/fYvfvHEJo9FAfV0Qo2bcEoKzuTyvv3mJd967xhMnunjqyUNUVfq5em2UH/7t68zPLbMWS7C0HONm/wSa0QCKgs1m5jvfehaL2YTb5ZAQ/KjJZrPMzs6ysLBAIZ/HZrcRDAaxWB/s/8hCIc/YyAgry8u0d3Rw7PHHefLUKVRVJZfLcfXqFVaWV7h8+TK5XI7HjhzeMnc5l8uxFIlgs9upqqri8ePHOfP00wCkUimmpqaIxdZ49dV/5JlnnuWZLz17X+M1GAzY7XY6Ojr41re/zbvvvMP1vj6OHDtGR2cnXu9H1eb6+nqsdhsTY+OMjo4yPDyEy+3mj/74e1umlMTjcYaGhvD7/USjUexOB263+77GKcTDkslkiSxGuXxlmIO9LXz3O1/GbrcAMDu7xPT0IouRVV75h/fxuJ047BbsjvKK6fV0lh/9/RucPXcDs1njW988Q2NDFRarCb1QYnFljYX5FfoHbpFJZ3HYrbS11mCxmh/oMVz8cJBEIk13VyP/9l//AZrJsPkCf6i3mWw2zzvv9vH+2esMjkxRXxfie999Dqfbftc4Y7EUxWKJngONVFdv7aBze3aR//rKuxx5rI2Xnn8Ck0nDeCfojoxM8+vXLzE4OMkrr37A0cPtNDeXw8KN/gl+/PevM7+wwje+9hSdHQ1U12y9776ro4xOzBCLJx/o70bsb9lsnuXlNS5eGuTnv3iPfL7An37vBerrwgQqyq1Sp6YWOHfhJv0Dt/ir//R3/N5LT3DkSMd9Pa7NZsHrcfLs00coFkv85s3LrKzEePmlk3R0NJQ7RBhVTJqRx4/e/VjT0xEuXOzn9FOP8bWXnwIgmcywvLzG1PQCP/7JbyjqJawWE4HAF2v5+nGnn+rFYbfy//3sLW7236K5uYr21jq6Ohqw2MwYVQPNTdXU1VZg30MBGPZ4CN5onxZfizE+Ps7c3CxmiwWfz4/f78ditTzwx0smE3cew0d3dzd1DfWYzWYymQzFYpFLH37I2OgoJpOJzq6uLSG4VCqyvp7BYrXicrno6emhpa0VuBMuBwY5f/48b/z6Naqrazh2/PHNkPpFqKqK2WLB7fXgcDiYnp5m4OYNmltaePLJJ6msrtqsdAPl6vbcHIODgywuLNLR2cnp06e3tJtbXVnF6/WSy+XK1et84QuPT4iHrVAsks3lSKdzWMwmvvLsEVpba4FysLvSN8r/89evMjI2w5eePkJbSzU2q4VUJsPC4gofnLvOhQ8H+f2vn+bZM4c3V1MXikXmZpe4eGmIq9dHudY/QU9vMz6/k5rqB1vpXI3Gmb4d4fdeepKXX3oCj9uByVKexpTP5omuJbjwYT/vvNuH0Wjk2JEOvv2tpwmF/Zvj/PDyMDf7b9F3fZyKCg8et+OuEJxOZ5mbW+Lp04c49eQBqisr8PnLb3Dffucq126MM7+4ytlzN6itDtLUUEWxWGT81jw//dk7tLfX8fJLT3Lm9EG6Ohu33LdJ01hcWr1rPYcQ9yO7nmPi1jxX+0Y4d76fY0c7+PrLT9HZXkfVnb/vvmsjZDJZrvQN85OfvU1DYyVtrbVYbF/8tdVsNuHzuzjQ3UhJ1xkcnqJQKPLUU4d49sxj+PyuLRXatWhiy+0L+QK5fIHjx7o4cbwLgNhaktn5JX70t6/z2m8ucqCricb6Suz2+w+lnR0N1FRVcKN/nIXFKF2dDTz15CG+9PRjuNx7owvWvezpELzRPm1sbIzz586xsrxMc0srzc3NuDzuB97/zmjUaG5tpaOjk0OHDlFdW7N5UldVFb/fTzAUYnxsjGQyif6JOclms4VwZRWNTU0cO3Zsy7xhm81GZ3cXq6urvP/uOywtLTE8OER9fT2Ge8yFftB0XSedTpNOpbBarTgcDpRPTHVwupwcPXYMXdcxW8ybc4qF2I3sNgs11UG+8fIpXv69kwR8H31q4fE4yxtyOK2UZkskUmlS6QylkpuxsRkuXBoC4PChVp59+jCHD7VtvnAaVJVg0Edbaw3dHQ3Mzi/TP3CL+trwAw/Bp0728ge//zSHH2vD43VhNH70nFyJxhkbn2VgcIrVtQR/+PtP88zTh3E4bFvG2d1Zz8knDnDt+ihvv3uNuroQJ050bXmcxvpKvvrSEzz35cdpaqzG9LF5wy6njfaWWmbmllheibGezZEvFonHksQTSYrFElaLGZ/PhflTzglfefYIRx5rJRSUzYfEgxOLpzh3/iZDI9PUVAd57GAbRw+3b/k0prY6xDe/dprseo4rV0YZHJzkRnMNne11Ozbuxw618q///JtbzkcOu5XGuko62uppba1lZTXO9Zvj1NZUYDLJm8cvas+G4Hw+TyqZ4ubNm/T19RGLxfD5/Rw+coSmpqaHUnFQFAWn04XP58PlcmH92HQLRVEwmUxomkYmkyGdTt+1ME9VVSwWCw6HA7fHs+X2RqMRp9NZ3sjC7iCfz7GyskIoFMLu2J53aoqi4HK5cHs8zM7McOvWBG+/9RZ2ux2DwUB9fT2hyjCOOxttCLHbGY0GLGYTobDvrrmoJs2IzWbCYDRQLJZIp9ZJpcsL36JrSSan58t9i9fznD13k+mZyF33vxSJMjW9QDyeYdayRCyeeuDH4PO5aGqqwud1bs5l3JBKrRNZXmMtlkDXdZqbq2lpqsZ850VTURQsFhNej5Ompipu315kcGiK1ZX4XY9jtZmpqaogWOG+q/pkNBiwO6zlTXdiadazOVQVNM2A02EjFPIRi6X44Ox1ZmYiBEM+LGaN2uogvT3NBCo8mx9PC/GgZHM5ZmaXSCTS1NRUUFNTgduz9fXS6bDS0lxFVVUAzWggFksSWYrS1FB5j3t9+NweOw2feHyDZsCqGfD5XIQqvKyvZ1lcXCWbzUsIvg97NgTncjlWV1Y4d+4cly9eIBiupLOri1OnTuGvCOzYuIrFIulUklQq+YX6nWqahsPpRFEUEonEp3ZmeFgMBgNVVVUsLi4yMjTEyNAQVy9dKr+QWq28/PVvcOrUKcJVlRKCxZ5SLJZIpjKkUuX+2Zn1LCvLMSanFhkfn+XypUHUT/lkqXSntZvP70LTjGQy69s67vVsjsRaily2iNmkURkOEAr6UAxbFwWbTBrVlQG8PieJeJr0FxxnOpNldTVONpvHYDDgdNmpDAdobanhytURLl4axGBQsZpN+PxuXvjK49TXhbDZH+zUNCGgvMA0Fk9RKkJdbZCKT5k/q5k1PCYjPp8br89FsVginkiTL+zOqXzlN60OomtJYrHkrh3no2LPheB8Pk82m6X/xk3Onj3LUiRCdW0djx8/Tm9vL26vZ8cDmq7r6B9ro/R5bXRs0PUvfh9fhKqqhMNhDh06hMPhYHFxkUQiwcjQELcmJrj04YcsLy/jdDqpra2ls7OTQLBiy7xiIR5N5efsxvN246nn97uwWS0cPdxGKHTvj/LtNgv+gJuerqbtGOxHdJ2irpfPFYpSXhVvvLtbi6IoGFQVFZUSOl/01LKxGn+jC4+iKDTUhfiD33+aE8e6WFyKltvD3ZpndTnGux9cBxVCFV5cLgenn+qls6Ph/o5ZiDt0dPRSCV0pf+rzaZ2KNtusGhQUVUEH9OLu3SRCURQUVUWn3NmF3TvUR8KeCcEbJ99MJsPq8gp9fX289stXaWhqpvfgQU6fPk1DU+PvvqNdSr/zQrbxBWxp8bbxRH6YDAYDgWAFgWAFPQd7icfjLM4v8OqrrzI/N8ut8THGR0fI5fJ0dndjNps3p3cIsZcod15UA343gTY3f/Yvv8bBgy2f6bbp9DqKQUFVFR5680BFwbBxbtB1isUSpUIJxbD1fKHrOsVSiRIlVBQe5KmkpjZITW15qsl6Ossrr37Aa7+5yIUPBxgbm2FkZBqb3UI46MPvd9HeVrct5zOx9ymUA6OiQ6FQ/NRPXzdeU0vF8ptcBVDutPBTFFDUB/t8uF8bbUjRQVUVUCmPWZ4zX8ieCcH5fJ5YdI3h4WHOnj3L6soKvYce4+ixYxw4cADfI77dcbFYJJPJEIvFiMdi+Pw+nE5nudewQcVms2G1Wrf1SWCxWKgIBvnyl79MR0e5zcvy8jIfvP8+BoOB5eVlkklpeST2HqvFjMtlZ3BommQyTTqT/cy3VRQFu82K22nH8JB3wLOYTTg9dkxmA9lcnvmFZRYjq1QEPBg/Nn84lyv3EY6uJnC6bNgecOecDZpm5OjhdsIhHy8+f5zI0hrLy2t8cPYmQyNTrKzEiK0lsTutmGRKlbhPBqOK22UnsrTK9O0IS8trd10nn82TTGVYXY0RXY1jMKi4nDY0oxGTyYjX6ySRzPCFPx55wKJrCcbH5/D6HLjdDjRjuXe4y2XDYpaF6J/XIx+CdV0nm82ythplYmKCGzduMHDzJsFQiKPHjnH06FGaWpp3epj3LZ/PE1lYZHFxkUwmjcViLbd5s1gwGAxYrVasViuqqpLNZkkmk5jN5s2pH5lMhkQsTjx+94IXVVUxGI2oqrrZVi6bzd71rnmj20Y2m8XlcWOxWHB73Hi8Hrp7DlAsFpmcuMXIyDCxtRjpdJpcLrctvx8htpPX46CuNsQH526yNBNlcmqepoYwfp97S7jc2PltPZsjl83jcNgwmTXsNgtOl6284UY2RyqdIZ/Nb+7Uls/mmZtbZnFxlULui8/5s9stBAMePG4nM7PLjI/PUlcbwuWyYzQZ75w/y23UJibmWI3GqaoK4vO77vt3VCyVyGXzZNLrJJJpXE47Xp+L5ubqzR7CkUiUoeFpJiZmuXR5kPVMjny+AEUdJAOL+2Q2maiprmAhssLMzBIzM0vE1pJYrGbMd55riWSG8Yk55uaWyReKuN0OghVezGatHILdTubnV1iNxslksuRyBYzGjzbbWIslmbg1RzyeuevxVVVFu7NTrV7SyWVyZLO58t/350xfufUciWSG2bllZmYjVFX5qa6uwGIp7+jmdNgwW7Q7XZzWSSQyuF0ffQobj6WYm18mFkuRzxUoFe8O9UajAYNBZT2TY309u2X3y73qkQ/BxWKRuZlZBgcHeeftt0mn0xzo7aW3t5fDhw9jd+6Nj+ITsTgffvghN2/cwGQyUVtbS3tnB2azmXw+v1kJVg2GLe3TNnr4zs3M8vbbb9N/8+Zd961pGi63C4vFgq7rRKNRIpEI4XAYPvZamM1meeutt5ienuaZZ56hqaUZh8OBwWDYbJ+2trbGWnSNXC6HzWa7rz7GQuxWLS012B1W3vvgGsPD0/zkp2+RSKT5g2+e2eydC5BJrTM0fJuJyTlmZ5d4/Ggnx4914rBbsdsspFMZZueXGR+fw+W0Ew6XP7GKLEf5+5++xetvXiaW+OIdJfxeF2qLQldnPXNzy7z97jWKpRJtd8ZfLJWIRFbpH5zi7LmbZNZzfOVLR+hsa7jfXxHZ9Rxzc0vcHJjkwsV+nnryEC+9eGLLdVKpDFNTC6xEEyiKgsNpu6vNmxBflNtl54kTB0im0vxt35tcvTbCpSvDW/oE355d5Ge/eJf+oVuEwj46Oxs2txw2LWt4PU7W13MMDE5x+/Yia9H4ll7cH14e5j/+Hz9haWntrk1gTGYNt8uG2aSRy+WZW1hhcXGNCr9ny9bkn8ViJMrFy0NcuTLM2lqS1pYannziAH6vC0VVcLltWM1mioUStybn6R+cxO2y43CW2yFevzHO629e4tq1MaJr8fKbzY9RFQWX047NbmF+cYXZ2aW7rrMXPfIhuFQqsbq6yvT0NLMzt8lms9jtdiYmJu7ZfcFoNGKz2WhubiZUGd7mEd9boVAgFosxNjbKW2++uWUjjUQiwfj4OGaLmRMnn6Sjo2Nzrq2u63g8HqqqqmhuaSWdSvHee+8xOjqKx1NeDZtOp9F1HeOn9BRW1fK72rq6Og4dPkImk+bSpUssLy/jcpVTcH19PaFwuLz5SDzGpUuXmJiY2Kw+67pOJpMhGo3icrvw+wM0NDTIbnHicyuWSkRX4iwsrjA+Mc9iJEoqlWFweJJCscjwyG1ef+MSI2O3qaoMEKzw0tgQ3tbtdu0OK9WVAb70zFGMBgPxRIoPLw1RLBS3bCmaTq0zfXuBYrGE3+dGvbNdazjspaWllsbGSuLxNL9580MGh6fw3wnQqUSGfK6A1+O8r37mmlnD5XZw/Fg3+XyRy1eHGRya4ic/ffuuHePsdjPtbbUcP9ZNbW3F777z36Hc8tFMNptncHiadDrL0srWj6Mji6sMDE3h9Tj47ne+TEdb3V1t3sTelUmts7qWYHBomtn5JQCuXh0hmciwtBTl4qVBEskM169P4HbbqakJ0N5S95k3sjBbTDQ1VvLYoTamphfJ5wu88g/v0Xdt645xfddHcbscnDzew4HOhs0tzN1uB93djdyanOfGzQkuXx0hny9id1jR7vydjo7eprGhqlzh/QSL2URFwEPPgWZS6XWGR6dJpTNcvTaK2aJt7hjn9219nRwYmOb7P/zVlp9tPFdKpRLf/tbTPH6si5qqCsw2ExR1PC4HHe11PH6sk9VonNd+fYHp6cXNT3XW1pIUCkUUg4KmGVE/MXXSoBk52NtCIpni4qVBzl3oL0+nctu37Bjn9bmwPuBdL3fSI3+22ahcLi0tkc1mWV1ZI7Z2iWtXr3xq4AOwOxyEwpX8s+9+d1eF4FwuS2RxYUvrsQ1mi4VQuJIjR4/y4osvbtmlTdM0fAE/LS0trJ04wbmzZ/nVq/+4GW4B2ju7ePGll4hEIoyNDH/q43d1dWEymfjlq6/yxq9fw2D4aDXty9/4Jl/96lepqKggEonwwXvvsRRZBLZ2q/AHKjh1+jSHDx+mraN9S5AX4rMoFkpMTS/wwdkb/O1P3mR4ZPrOtIE8uVyBs+dv8OGlwXJv6oYwJ4518s2vn9nWEAxgsZn5oz/8EkePtPGDv3mN98/e5NVfnSOb/ahtoa7rFItFHj/axb/6F1+lqtKHalSprw2jKAqTk3O89e5V/vbv32Q9k93cfKahLsz3/vh5PF4Hg4OT9zVOs1njzOlDVFcHSKfWef/cDf6Xsz8sj1MvrzCvqvTzja8/xdOnD3P0cBsu9/0/b81mjcpKP15Pue3az37xHj/88W+2XKdULC/y+e//3R/yP/677+ypF1fxu8USKYaGp/nP/+8veP3NywDk8wUymSxrsQQzMxH+8ZfncLvttLTW8vyXjlIVDnz2EHznb/CJ4934fW5++rO3+S8/+FW5S8qd55rZrOGwW/nn3/0K/8O//c5mhRegwu/Be9xJZGmNK32jvPv+NX72yrvl17w7r3svPPc4f/avXub/+r//YTPIb7BazQRDPp45cxiDqvLTV97l56+8h8GggqLgdtv5n//Df8uLzx3fcrt33+/jw8uDW3628Vz5l3/6Vf7D//QvMFtMmEzlqRYYwWMycvzxLnQdfvrzd3jjrStoRsPmOeXF54/z9OnHqByZplAoYfzEeoSN84Tb7eDsuX5e+/VF3nr7KoqqYLOZ+c63nuXFF05wsKd5Tz1PH/kQbDAYNje/6OjoIJ1O/87baJqG0+mkurr6cz1WV1cXqqoSDAYJhULYHPbPdNnGOGtqalBVlaqqKrxe711TNTTNhNfnp7Kqmo7Ozi2bZWiahtvtpqamBq/ft2UnNkVRMBgMeP0+enp6ylsu9/Zuue9QKERLSwtWq5Xa2lpaWlqorq7esnW02+uhpaWFL3/lK3R2bd0tqqurC6fbRUtLCy6Xi5qaGhKJrVs9AtjtdlpaWqiqqsJqtT7wXfnE3mcwKITDfo4c7kDTjCytxO55Xbe7PDe3seHzvZn1eV0cPdyG3+9iZSVOZ8fdu0OZLSbCQR/f/tYzPPVED709LdTVBdHuvHgoioLVbqGuJsQLz52gtbWOlZVYeeX2J9TWhOg50ITP6yo/XzUDfp+bp04doqq6gjOnDpHNfRSevV4nxx/vKs8jtttoaamhpqoCu82KwajidNg4+lgb/92/+TbNTdWbl32ajQ0xqisDvPjCCdra7x6nx2Wnt6eFpqZKHPatz9tw0Mef/PEL5LJ5Dva0EKzw3vUYoTsv9G1ttaSS63R21G2el1qaq/jeHz/PUiRKZv3T1wiceeoQLs/emLomPju7zUJ9fYivv3yK7q57d28ymzT8fjetLTXYbJ990ebG36Db7aC1pZqXXniCwCd6BWuaEavVzJFD7Thcti2XqUYVk1Glt6eJP/2TF1lZjpFIbs0YXZ0NHOxt5k++9zyxtSQ93Y047OVPSMubZBlpbqrCoKr4fa4t5zOL2URXZ/1d4z50sJUXnnv8U4/p+LGuuzb82DjW2pogiqJgc1g4c/rQlss7O+ppba7B7XYQiyWprQlSXxfCdGcx3cZ5orE+xH/zvRe23F4zGujtbaGhPoRtDwVgAEXf7maz96IXKOXH0IuLOz2Sbbe+vs47b73NtWvXiK2t0drWxte+/nV8ftlCFEBRHCimZhRVdpT6bfT8JKXC1E4PQwghxOewFk1wtW+UX/7qPD/48Wv80T/7Mv/b//pvdnpYD41qrEfRGnZ6GAAPv02lEEIIIYQQu42EYCGEEEIIse9ICBZCCCGEEPvOI78wbi8wGAxUV1dv7goXCoUwW/bW5HMhhBBC3M1k0ghX+jh6tINcPs+xI507PaR9QxbG7QK6rlMoFCgWi+i6Xt5lRtM2W7jsd7Iw7rORhXFCCPHoKd1ppVjMFcnl85g07TO3gXsU7aaFcVIJ3gUURUHTtM0tjoUQQgixP6iKgmo0ohmNWNi74Xc3klKjEEIIIYTYdyQECyGEEEKIfUdCsBBCCCGE2HckBAshhBBCiH1HQrAQQgghhNh3JAQLIYQQQoh9R0KwEEIIIYTYdyQECyGEEEKIfUdCsBBCCCGE2HckBAshhBBCiH1HQrAQQgghhNh3JAQLIYQQQoh9R0KwEEIIIYTYdyQECyGEEEKIfUdCsBBCCCGE2HckBAshhBBCiH1HQrAQQgghhNh3JAQLIYQQQoh9R0KwEEIIIYTYdyQECyGEEEKIfUdCsBBCCCGE2HckBAshhBBCiH1HQrAQQgghhNh3JAQLIYQQQoh9R0KwEEIIIYTYdyQECyGEEEKIfUdCsBBCCCGE2HckBAshhBBCiH1HQrAQQgghhNh3JAQLIYQQQoh9R0KwEEIIIYTYdyQECyGEEEKIfUdCsBBCCCGE2HckBAshhBBCiH3HuNMD2G9isRgDN/uZm5sjlUrR3NxMW1sbDpcTq9W608MTQgghhNgXJARvE13X0XWdWHSN999/n6uXL7EUWeIrL7yA3+/HqGkSgoUQQgghtolMh9gmuq6TyWRYW1tjKRIhHothMKh4vV5C4TA2u22nhyiEEEIIsW9IJXgblUolDAYDlVVVFAoFTCYTTU1NeH3enR6aEEIIIcS+IiF4myiKgtVqpaGpkW9/+9tks1kURcHr8+300IQQQggh9h0JwdtEURSMRiNGoxG73b7TwxFCCCGE2NdkTrAQQgghhNh3pBL8EK2vr5OMJxgeHmZ0dHTLZeFwmJ6eHnwBv3SFEEIIIYTYZhKCH6JcLkc0GuXChQv8+p9+ST5fpFgsX/bYkYP4/X5sdruEYCGEEEKIbSYh+CGyWq2Eqyo5efIkVquVSxcvMj42CYDZbMbv92N3yPxgIYQQQojtJiH4IdI0DU3TqKurI5fLMTY6iqpOYrFoOJxOHA4HJpNpp4cphBBCCLHvyMK4bWAwGNA0DVVVMZkMBENhKioqMBjlPYgQQgghxE6QELwN8vk8mUyGYrGIpmlUBIMEAgEMBsNOD00IIYQQYl+SELwNMpkM0WiUbDaLZjJREQzi9/sxalIJFkIIIYTYCRKCt0E8Hmd+fp5MOo2mafj9fnw+n1SChRBCCCF2iJQit0E8HmdudpZUKommafh8Pjwez2cKwbquo+s6pVKJkGFmsQAAIABJREFUQqEAfLT7nIRoIYQQQogvRkLwNkgmk0QWF8mk01h8ftxuN06X6zOH4OjKKgsLC4yOjpLP5/H7/bS0tFDXUL8NoxdCCCGE2HskBD9ExWKRYrFIIpEgGl1F13VsdjtOpxOrzYqiKL/1dslEkkQ8ztTUFBMTEwwPDaGqKi2trQSDwW0+GiGEEEKIvUNC8ENUKBRIJpLEYjES8QQer4dARQC73Y7JZLpnCN643ejICIODgwwODDA9NUk6lSJcVU1DY+M2H4kQQgghxN4iIfghyuVyRFdXSSaTFIslHA4nfn8Ai8WCqt69JrFQKJDJZFicX2B8fJy1tTVKpRJOlwuvz08ykSCXzaLr+g4cjRBCCCHE3iEh+CHKZtZZXl4mmUygKOB0ufD5fGia9qnXz+fzrCwt09/fz9tvvUVtXR09PT00NjYSiUT41S9/uc1HIIQQQgixN0kIfogKhQLJZJLsehZVVXG6nHi93ntulWw0GnG53TQ3N1MsFqmoqKC6upp0Ok0qlcJgMFAsFrf5KIQQQggh9h4JwQ9RoVAgnU6Tz+dRFLDbHbjudIUoFAoUCgVUVcVgMKAoSrl9mt+H0+WkoakRTdMwGo3Mz85hNBpRVVVCsBBCCCHEAyAheBtpmobBYCCVSrGyssLQ0BCBQIC6ujq8fh8OhwMAg8GAxWK558I5IYQQQghxfyQEP0SapuFwOLDZbWiaRiy2xtTUFOvr6+RyORYWFjCbzRSLxS2L3VRV3Vw496Arv4lEglQiSalUwmAwYHc6MJvNGI1GCd1CCCGE2DckBD9EFpuVqqoqgsEQNrudkaEhpienqAgGqa2ro6mpicbGRkKV4XsulnvQ5mZmGRoaIp/PY7VaaW9vJxgOYbfbZQc6IYQQQuwbEoIfIrPZTEVFBb29vRiNRjKZDKVSCZfLRWVlJc3NzVQEg1it1m0bk9VqxePxEIlEWFpaIplM4na78fl8BAIBPF4vdocds9m8bWMSQgghhNhuEoIfIrPZjMlk4sTJJzj6+LHNKQ+KomAwGDa/tlNVTTW+gJ+b129w/fp1Ll64QC6bpaqmmp6eXrq6uqisqpIQLIQQQog9TULwQ6QoCoqiYDabd02oNBqNWK1W6urq0DSNcDjM6uoq6XSahYUFIpEIXq+XQCBAOBymoqKCQLBi26ZrCCGEEEJsBwnB+5DBYKCqppqqmmqOHDvKwtw8N27c4MqVK4wMDWEwGvH5fHR1d9PW1oamadgc9ruq17KQTgghhBCPKgnBArfXQ29vL3V1daytrbG0tEQ0GiWTyXD27Fn+6Z9+SWVlFU1NTbS2tlJVU43RaJSFdEIIIYR4ZEkI3sVKpRL5fH5zx7hCoUCxWCCTyZDNZjc329hop/ZFWa1WrFYrocowxWKR+dk55ubmmJ+fZ319nehqlEK+vLlHNptldXUVr9eLy+XC7nRgMpn2RCAuFAqMjY2xsLAAgM/no7GxEZvNtnl86XSa27dvk8vlcDgc+Hw+XC4XmUyGWCzG7OwsyWQSgIaGBhoaGnbqcIQQQgjxW0gI3sUKhQKZdIZIJMLc3Bzr6xmKxSIrK8vEYjGy2Swmk+m+Q/DHqapKIFiBy1Pevrm7u5uFhQUmJye5ffs2b7z+OqVSiY7OTjo6Omhra8MX8GOz2R7YGHZKJpPhRz/6Eb/4xS8AOHXqFH/5l39JQ0PDZgheWlriJz/5CcvLy7S3t/PEE09w4MABlpaW6Ovr48c//jFDQ0MA/MVf/AV/8Rd/sWPHI4QQQoh7kxC8C0UWFhkcHCQej5PNZpmammJqcpJUsrzJxdzMLJcvXyYej2M0GvF6vXR0duIP+O/7sRVFwWKxYLFYALA7HXg8Hux2Oy6XC6/XSyKRQFEUZmdnicVieL1ePB4PTqcTp9OJ2+vZNQsBPw9FUXA6nVgsFoaHh6moqCASiRAMBjGbzWSzWSKRCNeuXWNlZQWHw0Eqldpc/Gi1WlEU5U7FvkihUNjpQxJCCCHEPUgI3oUmJib4/l//NYsL8+i6TrFYpFgssbF53K2JW9yenuLtN14HoKmllT/78z9/ICH4k8xmM5pfw+310NndRbFYJBZdY3BwkIGBAc5+8AFWq5WKYJCGhobyvGGt7ZEMwSaTiTNnzqDrOt///vfJZrMsLS2RSqXweDwkk0mWlpaYm5sjkUhs7uanqioVFRV0dHRw6tQpKioqyGQy1NbW7vARCSGEEOJeJATvQlVVVbz0e7+3Obf0d/H5fFRUVDyUsXy8p/FGmzSDwUBLSwsOh4O6ujri8TipVIr5+XkWFhaYmJggHA4TDocJhkIPJZw/DKqqEggEqKqqwmKxoOs6pVJp843IzMwMExMTZLNZstksMzMzRKPRzd8RQDKZxGKx0NPTQ2NjI7quk8/nSSQSzMzMsLy8TDwep729na6urh0+YiGEEGL/khC8C9U11FPXUL/Tw7gni8VCfWMD9Y0NAEyMjTM0NMTly5eZunWL4aEhKqsq6erqprNYxGwxb2mvttE/ebe1WFNVFZfLhc/n2wz8G0E4n88zOTnJyMjI5qYns7OzrK2tbYbkTCZDNBpF0zQOHz5MTU0NhUKBRCLB3NwcV65cYXh4mNnZWb72ta9JCBZCCCF2kIRgcd+C4RA2m43Gxkai0SjRaJRYLMbq6iqvvvoq6XSKxsYmGhsbaWhowF8RwGq17rqOEhtzgr1eLyaTabMbRiwWo1gscuHCBfr6+qirq8NgMJBOpwEoFotMTEwwPj5OOBwmEAhQWVlJoVDg1q1b9Pf3MzExwerqKtFolGQyST6f3+GjFUIIIfY3CcHivjkcDhwOB+GqSrLZLMuR8rzZ6elpVldXWVleQdNM5PN54vE4wWCQiooK3B4PTpdzR7aP/jQbC9xsNhtWq5VUKkUikWBychJd14nFYtjtdlpbWykUCgwMDJBKpYjH40xMTHD79m2qq6upr6/H4/Gwvr5+Zz53EV3XsVqtmM1mSqUSpVJppw9XCCGE2NckBIsHStM0AsEKnG4XjY2NHDhwgOXlZaanp7l9+zbX+vowmUy0tLZy6NAh2js6sN/ZjW63MBqNuN1ucrkcKysrzM7Osry8TG1tLYcOHcLhcDA2NkY8HmdxcZGZmRlGRkZYXV3l8OHDtLe3lxcUahpms5lAIEBvby+zs7Ncv36d+fn5nT5EIYQQYt+TECweKFVVMZvN5e4QLnC4nAQqKrDb7ZtfmUy53/H4+DgrKyu4XC5cLhdutxu3x4Pb48Zo3Lk/zY0QvLS0tGUOcF1dHd3d3SQSCaampojFYgwNDXHx4kV0XaehoYFQKITL5QLYXExot9uxWq1ks1kcDscD7esshBBCiC9GQrB4qMxmMyaTCZfbRUdXJ8VikYW5eQYGBrh27RpvvfEGTpeLYChEW1sbbW1t2Oy2XRGCC4UCfX191NTU0NHRQVNTE83NzUxNTQGwtrbG1atXKZVKfPWrX+XkyZP4/Y9GJwwhhBBiv5MQLB6qjS4QqqpudlyoCAXpKJVwuVy0tbWRTqdZX18nEomwtrbG0NDQZou1UDiM1+fY1jEbDIbN6nQqlaK5uZkzZ85QU1ODxWLZ3DIaIBQK0dvbS1NTExUVFZhMpm0dqxBCCCG+GAnBYtttBMzW9jYKhQJTtyYZGxvjxo0bjI6MEI/FaGppoaurC13X0cweDPkMRpMVo9GIqqoPtb2apmkEAgHC4TCFQoHu7m7OnDmDzWbDYDDg8XgIBAJ4vV5aW1s5ceIEDQ0Nm8FYCCGEELufhGCxo1RVJVQZxuFw0NjYyPLyMouLi0SjUW7fvs3AwAAlrASqTtDUdIju7m4q7swxflh8Ph/PPfccx44dI5PJUF1djd1u3+xxbLVaOXnyJH/1V3+F3++nrq4Op9P50MYjhBBCiAdPQrDYUaqqbrZYC1WGqUpWsxxZYmpqiqmpKaLRVZZWEsRS48Ri+maXhlAohMfjweVyYbVaH+gcYqvVSktLy28dc21t7efaFrlUKm22XEun02SzWfL5PAaDQRbKCSGEEDtAQrDYVaxWK6HKMB6vl/b2dlZWVpibjzEwnqO//xavvPIKlZWVdHZ2cuTIEbq7ux+JSmw2m2V+fp7bt2+ztLTE2toa6XQaq9Uq84iFEEKIHSAhWOwqBoMBq9WK1WpF97hxedx4/HnMDh2rNYTZbCaXy5FIJLh69Sq3b9+msrKSyspKQqEQ4XAYn8+304exKZfLcfHiRa5cucLg4CDDw8PMzc1x/vx57HY7LS0tNDQ0EA6Xp4QIIYQQYnso+kYT1J2mFyjlx9CLizs9ErFLbPxp6tgo0kBRt1MoFLh8+TLnzp3j4sWL3Lp1a3MXt5MnT/Lkk0/S09OzwyP/SCwW49//+3/P3/zN31AoFDa/TCYTLpeLF198keeee47Tp09TU1NzX4+l5ycpFaYe0MiFEEKIB0811qNoDTs9DEAqwWIX2+gAoSoGjCYTilpeDNfW1obJZKKhoYHZ2VlWV1dZX19naGiIhYUF3n77baqrq6mrq6OlpQWPx7Njx2A2m3nuuecIBoN3XWY0Gmlvb6e1tXXXT+cQQggh9hqpBItdT1EcKKZmFPXuMBuPxxkeHqavr4+LFy8yPT1NMpmkvb2dAwcO8MQTT1BbW4vFYsFqtWI2m1FVdU8uRpNKsBBCiN1uN1WCJQSLXe+3heB8Pk88HicajbK8vMzc3BwLCwvMzc2xuLhIPB7H6/Vy4MABDh48SEdHBw6HA6vVugNH8nBJCBZCCLHb7aYQLNMhxCNN0zT8fj9+v5+WlhZWV1dZWFjg2rVr6LrOysoKkUiE8fFxCoUCCwsLhMNhgsEgHo9nMxDvxcqwEEIIIe5NQrDYU5xOJ2azGb/fz/Hjx0mn08zNzTE0NMT58+fp7++no6OD7u5ujhw5Qnt7O7W1tZjN5p0euhBCCCG2kYRgsadomoamaVt2lAsGg1gsFvL5PGazGaPRyNLSEufPn2d8fJyqqiqqq6sJhUIEAgHZ/lgIIYTYByQEiz1voyp8+PBhUqkU58+f5/z585w9e5aVlRXsdjuPP/44J0+e5MiRIxKChRBCiH1AQrDY8wwGAwaDAbPZjMVi4cCBAzgcDlpbW1lYWGB1dRWj0Uh/fz/9/f3Y7Xbq6+tpamqipaUFh8PxQLdlFkIIIcTOk1d2sa8YjUaam5tpbm4GIBKJMDQ0RH9/P0NDQ1y+fJnV1VUOHjzI0aNHyWazVFdX43K5sFgsmEwmDAbDZg9jIYQQQjyapEWa2PV+W4u0+7W+vk48HmdtbY21tTXGxsaYmppicXGRlZUVYrEYbW1t9Pb20t3dTWNjIw6HA5PJ9MDHcr+kRZoQQojdTlqkCbFLWCwWLBYLwWCQYrFIfX09t2/f5tq1a/T397O8vMzCwgIWi4VsNkskEiEQCOB2u7Hb7bjdbhwOx04fhhBCCCE+J6kEi13vYVaCP07XdfL5PNlslmQySSqVIp1OMzo6ytDQEMPDw0SjUSorK6mvr6elpYVDhw7R3t7+UMf1WUklWAghxG4nlWAhdiFFUTCZTJhMJpxO5+bP7Xb75rbLMzMzZLNZ5ubmiEQiLCwsMDo6urkBR0VFxZ7cjU4IIYTYa6QSLHa97aoE30uhUNj8ikQinDt3brPNWqlUwuv1cvLkSU6cOMGRI0cIhUI7Mk6pBAshhNjtdlMlWEKw2PV2OgR/XCqVYmpqisnJSaamplhZWSGVSmE0GjEYDAD4fD7q6+tpbm6mtrYWq9W6LQvpJAQLIYTY7XZTCJbpEEJ8Dna7na6uLrq6ugCYmZlhYmKC69ev09fXx+XLlzEajRw8eJBjx47R09NDKBTC5/NhtVrRNA1VVaXFmhBCCLHDpBIsdr3dVAn+pHQ6TTKZJBqNsri4yPj4OLdv32ZxcZGlpSVSqRTd3d309PTw2GOPUVNTg9Pp3KwaP0hSCRZCCLHbSSVYiD3CZrNhs9kIBoM0NDTQ3NzM2NgY169fJ5vNsrKywtzcHAaDgUKhwNzcHD6fD4/Hg9PpxOVyyUI6IYQQYgdIJVjseru5EvxxpVKJfD5PJpPZbLEWj8cZHBxkaGiI0dFRstksPp+P7u5uuru7OXDgAHV1dQ/k8aUSLIQQYreTSrAQe5CqqpjNZsxmMx5PObDn83msVis2mw273c7y8jK5XI6FhQWSySQzMzNUVVURCoUIh8OEQqFduRudEEIIsddICBbiITIajbS3t9Pc3Mzzzz/PwsICg4ODnD17lrNnzxKPx7Hb7Zw8eZInn3wSt9stIVgIIYTYBhKChXiIFEVB0zQ0Tdv8maqq2Gw2WltbmZ2dZW1tjVwux/vvv8/58+epra2lvr6ehoYGwuEwVqsVo1GeqkIIIcSDJK+sQmwjp9OJ0+mkubmZQqHA1NQUo6OjXLt2jb6+Pq5cuUJDQwOHDh2it7eXtrY2KioqcLlcWCwWTCaTBGIhhBDiAZCFcWLXe1QWxn1epVKJVCpFIpHYbLE2PT1NJBJhdXWV6elp1tfXaW1tpaOjg+7ubhoaGggGg596f7IwTgghxG4nC+OEEKiqulkZrqqqorm5mZ6eHoaHhxkYGGB5eZnl5WWmpqbI5/PE43EWFhaorq7G4/HgdrtxuVwyh1gIIYT4AqQSLHa9vVoJ/qRSqUShUCCTyWxWiBcWFhgYGGBwcJDh4WGMRiM+n48jR45w6NAhDhw4QCAQAKQSLIQQYveTSrAQ4i6qqmIymTCZTLjdbgAqKyux2Ww4nU7cbjcrKyusr68zNTVFKpVicnKSUChEIBCgJlwkGNjhgxBCCCEeEVIJFrvefqkEf5qN6vDG1+joKDdv3uTixYsMDg4Sj8cJBoMcPnyY57/UwckTtTs9ZCGEEOKedlMlWEKw2PX2cwj+pOXlZRYWFpiammJmZobFxUWSyST5fB6TcR2HLUddbZj6+jANdSH8PhcWmxlVVXd66EIIIcSuCsEyHUKIR0ggECAQCHDgwAHW19c3N9+4ePEiF86fZWx0gN7eZnoPNLN6oImG2hAVFR4cditmswmjyYDBYNjpwxBCCCF2nFSCxa4nleBPVywWyWQyxOPxcieJyCArSyMsLq4yO7fE2PgsmtFAS3MNPT3NdHbUURny4/E6d3roQggh9impBAsh7pvBYMDhcOBwOKiqqkLPu1hPB7h+fRxFVZiaXiC6lmT81izFUpHV1Ti1NUEqK314XA5cLjtOl00qw0IIIfYlqQSLXU8qwZ+Nnp+kmJ0kmcqQSKaJxZNMT0cYGJzkZv8EtybncbnsVFUGOPxYGwd7WjjQ1YDVbtnpoQshhNgnpBIshHgoFIOC02XD6bJRVRUg4HNjs1mwWc34fE5SqXVAZ2Y2QjKV4cbAOOGgn3DIS3VVAL/PjWpUZSGdEEKIPU9CsBB7mN/n5vFjDo481sb6epaBoWmGhqcYHbvNpSvDXL82TmdXHaee6OXZp49gt1uxKmaQDCyEEGKPk+kQYteT6RCfze/aMa5UKBFZWmVxKUokEmNqcp7B4Sky61kURcFqMePzuWhurqaxvpKG+hBulwOzVbZlfpC+6ClXUZQHPBIhhNh+Mh1CCLHtVKNKuDJAuLK8rVwinmIxssrFS0N8+OEQV/pGicWS5RZrPc0kUxlqqgN4PU5MJg2TZsRk0WQh3efw2wLv5wnDiqLc8/oSjoUQ4ouRSrDY9aQS/Nn8rkrwJxVyBTLrWVZW46ysxIiuJVlZjbOwuEokssrC4ipet5PKsJ/auhCN9ZW0tlRLi7XP4UGG4C9ymRBC7DZSCRZC7DijyYjTZMTpstPQUAlAbC3Jtevj9N0YIxKJElmOshZLsrhU7j0cXUtQXR3A43bgcdmxO207fBTb63PXDEqgKzqUPnYfin735feg6Aqo5cdV9E+EXbV8ua5+vjFJaBZCiDKpBItdTyrBn83nrQR/mmK+SDKV2fzqH5jkxs1xBgZvsbi4hs/npLm5msOPtXPkUCttbXUPaPSPhnudLjd//smwW7r7e/n6AHr5n78lBKMrd9YoKmxmV/WjcLzlOx9dDvcOuxKChRA7SSrBQohdyaAZcHscuD0OADSjAYvFhMtlZ3Y2wnomT6lQ4tbELNGVOBc/HCIU8hEOegmFfDhdNsxmbc+1WPtk+P3Uf38s4Oq6TiJRIpMukc/r5PM6hbxOPgf5gkIxr5MvlH9WKJTufNcpFnSMmoLBqGDUFIxGFU1TMN75t6bpd/4NmklB0xTsDhW7XWUzKN8jU2+E342xSxgWQux3EoKFEPdUXxumqqqCM6cOkkikmJhcYGhkihvXx/nlaxeZuDXLyRPdPHmihyee6KGlqQqT0bh/WqyVPgqVH/+eL+gsRfJEFgqk4iWSqRLppEI6ppNOQSZVIhPXySRKZGIl1uMF0otFcrMlLA0GLD4Vq8eI1a1gdRqwuVSsThWrA+x2BZtDx+ZQcDpVqus0rFYNRdEBBYp3FtKp+malWAghxN1kOoTY9WQ6xGfzIKZD/Da5fJ74WpLllRgLi2sMjUwxMTFLdj1PNpenWCoR8Ltpb6mlu7uJ1pZqbFYzJsuj1WLtrlPix6c06PqW/y4UdDIZnZXlIqsrOmsrRZYXi8RWChSKKpQMqAYjqmpEUYwoigEFA4qqoirl74qioCgqCiooCjql8uPoJdB1SqUSeqmIrpfQKaLrRXS9QKlUoFTMoxhLGLUSvoARb8CAN6Dg96v4AgYsZhWDQSlXfdVyOP7kVIqPk+qwEOJhk+kQQohHjknTCFR4CVR46eiAA131zMwuc/HSIJcvD3P9xgSKAvPzy2RzeQB8Pgcupx2zSUMza7t6qsQ9pzzooJf0zdCby5XI/f/s3elzpNeV5/fvc58t9w37jkJtLBaLpEhqodgt9d6ajrHH4bDDDoeXt37hP6L/EkeMY8KOcTgmPB1uj7pbrbZa3WpS4r7ViiqgsCMB5L49y71+kZkAiixJJMUqJIrno0AAVUgUHiAp4Jcnzz0ngDA0tNsx9WrM7pZhb8uwv2nYuR9TXdMU5jxyEwkyxQSprE8i5ZFMuyTSLsmU23875ZBMuSRSLqm0i5ew6bYjOu3w1OuQdiM8frvbDum0Qtr1gGajTXW7Q/MgZOKyxcSCYWIBpucsZpo2uZxNMmn3Wyk88L1BKDYWnGqdkFYJIcQ3kVSCxciTSvAX86QrwZ/V6wS0O93BiLU6lVqT/XKFne0DdncPqdSalIo5pqdKXLo0z+VLc1y6OE8y6T+1a/wyTv8ofLTH1xAPKrKVo5jN9YDth5ryjmZvK6BVNaQySZKZFOlMikw2TSqbJJP3SGU9HMfuv7gWtq36L+7gtW3hDN5Wdv/9cazRsSEKNXGsiQdv67j/5yjSxJEhimLiIKZR79Go9Wg3O7SbbVqNFu1mh06rQ2nKYXLOZWLGYnrOZmHJI5/vr8XuV6Ctxx6kkxAshHhSpBIshDj3/KSHn/QolnJcutT/u+3tAz74aJUwjNgvVyiXKzSbbeqNFgcHNQ4PG0xNFsjnMxTyGVLpxJl+Db/ugFu/HcGgNTSbmkYjpl6LOdjT7GzEHO7aVA8cGmWXOLDJ5TMUShkmZzNMzecZn0qTSDl4/pdfLOIoBS54iS/2sb1OTLsVUN5usr/ToLzVJGi16Bw0OAwNUQCthqZRi2nWA0qTinzOJldQpFM2BlDDyrD6/GIOCcRCiGeVVILFyJNK8BfztCvBjxN0Q5qtDo1B8H2wtsvduxu8/8FdDo5q2Epx48bF/oi1b11h5cLsmV7vI4faHgm/htj0pzbcux1y92bAnfdDWjWLVDZJaSpPaTxPcSJDvpQklXbxkw6ua+MnHBzXRikLZT/5AKljQxxrwiAmDGKCIKbXiWi3Qo7KTSrlJkf7NWqHDdqNLoUpw9WXHJ674bO84qEGFWGlrEeqw8PwKyFYCPF1kkqwEOKZ5CVcSgmX0liOKI7JZdPksil8z+Xh5h4HhzXarS43b66xt3fExHiBqckS01NFpiZLZNIJXN/9rZ/HxIY4jgnDiF4QkvA9Eqkv3mbx2dYHY8yg7xc6XU29GlPejzjY0+xuGg52HYiTlMaTTM5nGZ/NUZpIU5pIk837OI56bFg0+nN/9bWzLOu45SI52F2idT8Y54sJCsUU+VKKg90s+5sNol6H9bsBvV7E3rZhfNKiNO6Qy/cP0vUv/OTflj5hIcSzSirBYuRJJfiLGYVK8GnGGGKt0aEmiiLKB1VWH+zwwQd3+eCjVT78eJVWq8v3v3ed779+g++//gILsxPkBjOKf5M4jul2AhrNNpVqg7Fijsmp0pe6tuHr45e4XwE+PIx5cC/i/Td73PlViGP75CeyXH1lisXLY0zPZfESTr/Sq9TxEotRConDr0/r/tdktKHTDtnbbLB2+4Bb7+3RqjSxvB4vfN/j+Zddli96FAv2oCqssOxHK8Gj9PUJIc6vUaoESwgWI09C8BczaiH4s7rtHtV6k929Q3Z2Ktxf22Z//4g41seBdm52nAtLs6xcnGVxYZKJscJjK7z1WpOPPlnjk0/v8+mnD/jBD77Fv/rz7+I5Drb7+V7ax/X+DoNvHBuq1YiDcsTGWszepqG8rTEmRcLPMj6TZXw6y/h0hnwxQSrjjeyEi98kjjTtVkD1sEN5t8n+Vo2j/QZh0MDxuozNKmYWbBaWbMYnHfK5fiC27FNtEgMSiIUQX9UohWBphxBCPBWJlM90ymd6eowXb2hq1Sbb24d88NEqb/3qE956+ya5bJqV5W3Kh5doNNosL08zVsyRSHgkfO+4VaLV6vLxJ/f56c/e4V/e/ATPd3npxkUmxgvk8ulHPu/jpj6YwbSHXk/Tahs21wPWViPufmyo7lhEHY8LLxa58uIU8xcKlCZSv/bfPC+UbZHJ+WRyPvMXCuxu5thYrXL73T22bh+xtx5S3gppNyLCKxq14JJI2Di+hY167ME5CcO/ZvwzAAAgAElEQVRCiPPM/su//Mu/POuL6NMYfQSmddYXIkaMZXlYdgnLOttJAiNPVzG6dtZX8YUp2yaV8pmYyHP54gLf+851FuYnAVhb2+Htd/uzh9fWd2l3eyQSLoVCFoByucpP/793ePe9u+zsHBJrQ7PRZmyswOzs2GM/37D6iwGtNVprNh5G3Pww4J1/Drj/oSGVzrN0ZZqX3ljg0vUJJmYzZLIetnP+Kr+/jW0rMjmfyYUMs8t5/LRPq25Y/aBNvRkTxwYvYZFJWxgF1uB/WNIiIYT46ixVwLJH45ldqQQLIZ46y7LwB8sz8oUMy8szANy8ucb7H62ijWFtbYe9/SN6vYBut0ez2WF/v0Yy4bG5fcCduxts7xzQ6fa4d3eDOIqZmixSKKSYmRojeWr82rD1YTj5odWJqRzGrN4OufNhzNG2h9JppubGWXlunIWLJbyEc+rjn/q36IlLDJZ0lCbTdOZypLIJMA7Vbc3eehsdRxgUBotiyZBIgn2qLUIqwkKI805CsBBiZCwtTjM2lue7377G4UGd1bUt7t3d5PbdDd55/w4Yw8LcJLE23Ly5ztFhjTiOOarUCaKQv/7xv9Bqd/k3/9kbrKzMnbQ/WGZwSEwTa83+TsR7vwx48LGhsm1z9bVZLlybZHwqQzbv43pffr7veeYnHBZWiuRLSRYvFbn13har7+/QboYcHca88h2PqRlAKWwUlrIwSgKwEOJ8kxAshBgZqXSCVDrBJEWmp0oUCmmK+Sz5XJrN7TLlgyob22V2d4/YL1cIwgiAIIyoVVt88ukDPM/l0qV5UqkEY8Uctm1jtCGMYhoNzdbDkLVVzeZdhetmuPhijpXn+72/yZSL85iDdc86ZStSGQ/XtUllPMIgxhhFp93g4d0OnhvRaBhmFxzSKXAdsIx1PEFCKsJCiPNIQrAQYiQlkz4ry7MsLEzxe9+/we7eIfcf7PC//tu/ZvXeJq1W55Hbx1qzuVnGsW3effc2hXyGzItJkkmF1pog6M/+ffNnPbbvWpgoxcs/mOaVNxbx/P6cXb7hGc7xFFnX5/lvzbB0qcRb/7DG6od7HG23Ke/G/ODPDZ4LznB8mu5XhCX8CiHOIwnBQoiRZFkWtmsfjzzLNJMkkz5RFNNsd4niz2+iiLVmv1zhP/3tW7Q6XRzbZmpyCsskuflRyPo9Q/0oydR8joVLEyxeHCOZ8rBOHfbiGez//aKGB98830apBNdemSFXTLBx74CD7To/+Y89rtzQXHlek83ZJJI2jjmZHAFSDRZCnB8SgoUQ50KvF9JotGl3uoSDNojHaTQ7vPPubYwxLMxOsrSg8dU0H/4Syvc95i5nWbw8yQuvzZFKe8cf9ywefvvqLBzXZuliiUIpiTEW9z+GW/98QBhE2K5mYcllYtKA5+DY6nMPHiQMCyFGnYRgIcS5sPZwj1+8+TF7e9UvdPuHD/f5v/7Dz5gpNZlMvML4+DxXX5tm5dok0/N5vG/Y4bevKpnyuHJjkkzGI53zONgp8zf/vsrrf5bixVcsimMKlbBQgyoy8m0VQpwTEoKFEOdCpdpgfX0X27KYni5hK8VwZ7EarPpVqj/CS2tDHCnurzbo7rRhLOLCpSwXn59i4WKRbK4/Pu08Lr142lxPMT6VxnEUllI06yHbNzus3TakMyFXrinccVCOwlH9irCMTxNCnAcSgoUQ54Zt2yxfmGF+YRLfd7EHT8N7novnu3iug1KKKNIc7lms31bMTV/m6rVprrw8xdLlEv5g65z4ctJZjwvXSkRRTCKlONw85O1Wm3zRIp118bFRDtiWLePThBDngoRgIcS5sDg/ye+98SLQX9rg+A4KBZbBcWwcx0Epi24HNh5EuJHCnfe4+Nwy11+5yOzCGKmUD4D5/Jk68Vv0v8c2c8sFlLL49O2IeiXm3i2NZUUsXQQ71a/Ey/g0IcR5ICFYCHEu3Li+wnNXFh/5O81gGYYxaKOJIs3Odkj5QZdU5DB2Mc+N15a48eo8ti3Nql+H0kSKVMajXumy+knMrbdrdDsR49M2yYRBDavAMj5NCDHiJAQLIc4Fx3OOx6XBySrk/ia4mCCweLgWc++WReMgSb5Y4Nq35pm/UMJ13cHHnNXVPzuUUvgJh5Xnx/GSitvvafYfNnj3FwFXXzAsX+jfxhhQxgL7pEdYArEQYpRICBZCnDvH65BNfxVyt6ep12PufRpx9yND3Msws1Dk4rVJsvnEWV/uM8e2FTPzeTzPYX+zxf52wM13mvhJGJu0SPg2vgeWpaQiLIQYWeqsL0AIIb4MY8zxS78KrNnbjbj5UcCDmzHNA5eLN2Z47qUp/KQ8zn+SUhmP66/NsHhpisqOy/2bMbc+DqgcRsRaEw/uJ6QHWwgxguQ3hBDiXHhknJkGrTVhFNNpxzy8H/LRrwKa1QS5QpH55RJT8zkcx5YxaE+Qn7CZWczTaYes36pxuFPlw1/2cFyLdM4ilbSwPLDNo8s0pCoshBgFUgkWQpwfmkEfsEZrTbsTUy6H3Pygxwf/T0C+UOLFN+YoTab749PEE+c4isnZDK/8cBErzvH2X/VYvdnjsBzR7caYSBOj5cGIEGLkSCVYCDHSTocnY520QURaU69qVm9FNCsuuYkUU4tFZpcKJNPecbVRsteTZGFZkEr7zC0X2FwtsHOnzsGu5sG9mERKk0gonNgc33eySEMIMSokBAshzoVHeoEHkyGqRzG33otQJs+NH46xeKlIvpREstXT5fk2xfEkK8+PEfYCGrVD7n7YZm7RYayk0JaF0oBCpkQIIUaGhGAhxMg7DsCxIY413W7E0UHE5nrIzoOYC89lef61WUoTaakAn4n+koypuRyWsnjnZ2121ppsrodk0lAaH1R91Un1V4KwEOKsSQgWQoyk4zYIDRgwuh+EY63ptDXbWyG7W5pe3SWTT7OwMjb4uLO75m+6fClFIunyyS/T7K4fsbOhKRRD0lkL11Wo2MJSFliALdvkhBBnS0KwEGKkGcscB2CtDTrWNJsxqzc1lR2fxWt5JmZyZ32ZYkApi9nlPEGvw/5GjWQyYmbBkEpqjK1OHtwYCb9CiLMlIVgIMVI+N0VAn7RDxLGm2dQclmN21g1By+PqyxOMTaZl+sCIUEoxvZCn1wu5836H7YchRwcRqYTCcWzAoFR/rTKDBYDSJyyEOAsyQ0gIMbJOH4aLtSGMYvZ2QzbWQhoHBs9PsnCxRHE8ddaXKgYsGyZnM8wtF7GVR71seLgacngYEemYWGu0PrlfhRDirEglWAgxkh5djdyfDRyEmu2NmM37ikQqxfhMlmw+ges5GNlKNiIsPN8lW0gwPpejcthj7U6T4rhmbl5jYaEsC20ZbCypAgshzoxUgoUQI00Dsekvxwh6mrW7hs1PHSbnJlm6PI7ny2P5UZRMelx8foJiaYz779jsPNREUf9+1MZgaWSdshDiTEkIFkKMnkFA6leBNTrWlMsR9++GtOuQSPlMLeQYn8nIZrgR5fk2E7NZJuayeAmfyiHcvxdQqcTo+KQlAgnDQogzIiUUIcTIGPaInp4Ige4fiDvcj1i/F9Jre2TzKcYnMxSKg15gaS0dOY5jUxpLU53Mks6laFZDHtwLSCQVhYKNMhplBm0QiuP7UFojhBBPi5RQhBCj5zO9wDrWVKuGnYeQSGaYmM/j+e5ZX6X4AhIpl6mlPJZJsP3A0Kxr4lhjtHm0GiyEEE+ZVIKFEGfu9JSA0xMhhlMhYq2pHcbsPTAsXUkxMZvDSzgyXeAcSKRcZhbzrN6qsfMgpvGqQesYrW2MUmgsLMtgMdz0Jws0hBBPh1SChRAjx1iD5RiDnuA4jqlVNAd3DJ6fYGImg+fJY/jzIJFwmZjJgvbZu6Np1GPiR3qCpRIshDgb8ltECDEyTq9KHh6K6/U0R5WYdgus2CGZ9snkfBxXyYrkc8BxFdmCj++7mMCmVTdUqjFjJY1jGyzr0ZnBUgEWQjwtEoKFECNlGIi0Bq0NrWZ/NnCvY5GZ8cnkfVJp76wvU3xBjmPjZGwy+QTJQoJGNWJ3MyKZ0CR8jVISeoUQZ0NCsBBipBggNgY9mA3caht2N4EowcRSnmTKkwrwOZTJJ5hYzBO06+xvB8zMGXS+fzguNgalkQY9IcRTJSFYCDE6NFjmdDXY0Gka9jcsjE4wOZ+TEHxOZfIJJuaytNpd9ncCOm1NrPtj0pRRmFOH44QQ4mmQx91CiJFgjDk+EGdOHYhrNzV76zFon+n5PElphTiXMjmfibk8QduhvKXpdgbb406NSTvdGyyEEE+aVIKFEKNjOCVAG6JI0+0YGk1No6yZnPEYm87gJx1kO8b5k874jE+luR161OuGZsPQ7cVYtsIZhF+pBAshniapBAshRsMgAA9Ho4WhoVaLqVdjoo6Fn3AojifxE/bZXqf4ShIph8JYEjfhEHagVompVzVxpPtj0kBWKAshniqpBAshRkb/6XAw2hAGhlolotOy8DM+ybSH69mD253xhYovzXYUru+QzHh4CY9WI6ZejymUHPRxG4SFTEgTQjwtUgkWQoyU4YG4XqipVjW9jkVhMkkqK73A551lWWQLCbKlFO2WRa2iCQOD0WbwwEYe3Qghnh6pBAshzt7gUFQ83BJnDDrSdFqGKLBwPRfHtjHyVPm557o2rusQdi16Hd3fHne8Jrv/34GlLZCuFyHEEyYhWAhxZoaTAE5Phei/aOIIeh2IAoXr+9iOLW0QzwDHs3FclyCw6HUhjk/f7ydTQoZFYdkgJ8QJrTVRpOl1e/R6IUEQEsXxqakqFp7nkPA9Ekkfz3NQSsn/j34NCcFCiLN3ajzW8GBcrA1B1yIOHfyEjeNKafD8s3A9G9d3iEOXIOhXgYfPAFhGflEL8Zt0OwFHlTofffKAm7fWePBgh8OjGkEQoo3BsW1WLsxw5fISr716hcX5KbK5FLYtPz8fR0KwEOKp++wsWGP1/3x6UUYcG3o9RRwpUhkX21EyQ/YZ0G+HcOm1bIKuIo4NGIPBoDGowczgYTuEMUaqWOJMBWFI2IvwPRfHO5vYFHQDGs0Oa+s7fHpznTv3Nlhf36Vaa9LpBGit6fYCgiBk/6DK5laZXrdH++Uez19bJpNOohw5BvZZEoKFECPBnDwDjjEQa0Ova4hDCzdh47jyA/xZ4Hg2rmcTHvXbIUzcPxiH6T8IEmLUNJsdjg5rTE4UyXmZM7mGaq3Jrdsb/O3f/5K/+utfMD6eZ2Vpmv/i3/w+K8uz5LIp9g+qrK/t8uO/e4t33r3Dw40y27uHjI/n8T0X35HDxZ8lIVgIcWaOK7unZgQfV4IjQ9A1xJGF77u4noTgZ8FxO0QAQUcTa+sz/eBIT7AYKeVylXffu4Pj2KRTSebmxpiaKDE+ln/ileEwimg1Oty6s8Hf/OQtfvX2barVBi/dWOHbrz3Pa69cZXlxmnQmSa3aZGa6xJ3VDe6v7fJwY49Pb66xtr5HLptmMikh+LMkBAshztzwYByD8Wj9lcmGXhvi0MZLutIT/AywLPATNq7nEPWg19PoWJ0EYAAebYcQ4qw9fLjPj//mTe6tbmOAH/3Zt/n9N17iO68+98RDcNAN2dze51/e/Ih/++9+jNaG564s8a//4g1+9KffIZ1KHF9DaSxPIunz8o3LbG0d8ItffMzmVpnbt9eZmS4yOVV8otd6HkkIFkKcOfPZ16Y/NaDX0cSBwfMcbFumQzwLHLcfgsMeBF2N1idLUjAGDShLViiL0aINtFodDg5q/Phvf8XtOxv89B/e4fKVRV64tszi4hTj44Wv/fNWqg1+8tN3+cd//oBWs8Nzzy3zp3/8KheWZkkmfKzP9PlalkU6kySXS+G4NkEYUas36XTCr/3angUSgoUQI0Hz6Jg0HRuCbgwRuL6D4yoJwefeYDqE6xB1DUGnPwVkeL8akMZgMZqModsN2N0/Ynf/iA8/ukchl+HV165Srb7GK+0ely7GJJMenu/h+y5KffUWLjOYlX50WOfNtz7hvffvEYQRS4tT/P4bL7O4OIGXcD/3cWowIi3p+9i2Iopimq0uQSAh+HEkBAshRsoj0yHaBkeD5zs4jjw//ixwHAfXs4kCQ68Xo497gjVGqr/inAiDiGq9yfvv32V3t8LP/+l9Ll2c4+WXrvD8tSUuXZwnmfS/8r+vjaFSa7C9d8T+QZVeNyCfz7CwMMnVK/NkM6nHfpwxhlarS63RIowiEnz1a/gmkBAshBgZJwsTwGhDFGqUAcdRKGXJiLRngG1boDTtoEZ9e4t33++yse3g+x6OrbBthW3bWJZF/0zc8LUQZ+Ojj+6xt1+l0+0d/12sNXE3YGv7gO2dQ+7d2+Dm7Yfs7VfYL1eoVJosL04xNzuBZVtfuiqstebgsMbm5j61ShPLspicLDE3Pc7E5K/v7dXGUKu3BrODI1zbJpX0cd3Pxz2tNbHWNOsd6o0WlUoDgJULM+TyZzMF42mTECyEOHOW5jNPg/fnxh6/X1LQM2H4ICfSXWrxfW599BZvP1zFcgKUUigG97XFIz3BskNDnKVmo83RUZ12p/fY9xtjaLY6PFzfpVJp8MEHqywtTfEXP3qd//a//iMSvof6ktNtTGTY2Tli/eEO7U6XTDbJxQszTEz85sNtWmsqR3V2dyv0ugGe7zExUSSTTXz+tpGm2w24c3eDDz9e5Ze/+hQD/C//83/Jyy9f/lLXe15JCBZCjARLD98azIy1LBzPwtYQhjFxrLFtGZN2rhmIohgdQcLNMD4xQX4xIJGMcGwbS/UrZsqywDoVgyUEizO0vXMwaNHSv7G31nEdisUss7NjLC/OMD6eR9lfbWVxvxJcZXv7gG43IOF7TE4UyOUf3wYB0OuFNBpt9vaO2Ns9otcLSSV9ZqbHyGfTj9yuclRnc+uA+2vbfPzxKp/cWuPmzXWKxSyNZudLX+95JSFYCDFShh0PSoGfVFgBBN2IMNB4MubyXDMGgl6M7rlMpK6w8vokf/HfWczP+6RSCRzX7vcMu/bx08f9tghJweLs/N1P3uZ/+3f/iV+9fYtGs/2591uA77nMTI/xZ3/y2vH4tLFSnkTqq/XkamM4OqyzvXtItxeQyaYoFnOkU8lf+zGddpf9gwob22W2dw8ASKV9FhcmKRZzj9zu5q11fvZP7/P//vgtHjzYplLtt0K8+OIltNaP/fefRRKChRAjSSkLz1fEGnrdiCiKz/qSxO/IGEPYiwnCCMcDL2GhJN+Kc0gphevaXFia4fr1C6xcmGXlwiyXLs6zuDBBPp95bB/uF2WMIQhCet0IrTWZZIKFuQlKxeyv/ZjdvSM++uQBlaMG6VSCC8szvPD8BYrFLI5nE3RDfvHWx3xyc412q0sy4fPf/Fd/yC/fvsmbb35Kpdb4ytd7XkkIFkKMJEuBl7QIIuh1Q6IglhFpz4AwjImCGDsBrm9hyUg0cU5YloXj2CSTPtlMkmwuzWuvPsef/PFrvHTjIivLsyR8D/trWuyjGWxPBFzPpVDKkcl8vrfXGIM2hq3tAz744C5HlTrZTIobL6xw/foK+Vwa13Fo97rcubvJe+/foVTKcfXyIq9/73ksy+L+2i69MPharvs8kRAshBhJltUPwXFHE3YjwvCb8xTds8oYCHsxYRDheAYvYWFJm7c4DyxwPIepySIvv3yZF56/wNWrSywtTPXbDQpZvISL+pr+g7aURamUY3qyyOrqFt1eQLlcpV7/fDtGFMcE3ZA7dx7ys59/yOFRnfHxPK+8cpUbz18g4ff7yDzX4fuvX+fSxTly2STFYpbxsQK5XJpU0v9GjqGUECyEGAlm8LvDsgCr3xPsedBzNb1uSBjEMiLtnDPGEPRiwt4gBPuDdohBz69siROjKJNOsrgwhYWFwfC9b1/nxRcvce3qIrlsCi/x9R9WcJRidnqMlQuzfPjRfTrtLvfubbK8NM31a8vYnoMFdDsBh0c1NjcP+OiTB6yv7zI7N863XrrESzcusbQ4heP3o57t2ly6MMeFpZlHKtbJhI/nOr/Tco/zSkKwEOLMGQXEpwOQhbLB9WMsOzpuhxDnWz8ERwRBhOP22yGU6q/IGB5+++b9Ghajbm5ujD/84Sv4nks6nWB8vEA+lyaZSuA4T+a/WNu2ubgyw8HhJf7pFx+ztrbNm7/8lOmpEt9+5Sr5fAYs2Nk94N0P7vHTn77Du+/fxU+4/PEfvsKP/vS7XHtukWwmhX0q3Hqei7HMNzLwPo6EYCHEyBhOArAGlWA3obHtmF43IgylJ/i80zFEYUzYi7HdGNeLB3OBBw+ArJNnBIQYFcVClueuLpBOJUkkfXzXRT2h8Dtk2RZjpTxXLy/wBz94iQ+KGQ4P69y6vc7/8X/+Pel0EttWNJptdnYO2D+osLQ4xSsvX+YHb7zEjesXyBeyON5JzLMsC8uRZ1tOkxAshBgx/SBsK/ATBuXGBPWQKJCe4PNuOCItCEL8XITnayzbpp+DLWmHECMpm0uTzaV/+w2/Rkopsrk0z11Z5H/873/Ee+/f5e9/+ja/fOc2//u//wnQr+qOl/IsLE7x3JUF/ugPXuX33niBsVKeTPbXzxMWJyQECyHOnDIWCgttWSjVD0S2beH5BtuNafVCoiiSSvA5Z4wh6kWEYY+kG+J6GmXZPBJ/jYUlK+KEAMB1HcZLeV568SKlYo7f//2XKZerQL9v2E945HJpioUsCwsTlAo5fM8946s+PyQECyHOzLAPdLgiedgbOgzBiSTYTkyv0yPsSU/weWcM9HoRYTfA9WK8hEbZ1nFLhEX/wRBKVmULAf3DbPlChnwhw+VLC2d9Oc8c6b4SQpy9YegZTgmwQDmQzoLraxpHbbrtb94My2eNMYZ2vUer2sFPxqSzYCsY3vWSe4UQT5NUgoUQT91xBfgz/Q3DSrCyLFwHsnmLRFIT9kI67YhuJ8RxbGw53HHuxJGm1wnptkKCKCSVgWxWYbsna5HNMAyfaoeQirAQ4kmRSrAQYiQcH46yLCxl4XqKbM4mU1AoF3qdkNpRhzCIzvpSxVfQbffvvyCIcH3I5hWZrMKx+/e3sgatEEII8ZRIJVgIMRoUWPqkEmwrhedbpNIW+ZmYKG6zv1XHcRV+Qg5+nDeNepfyTh3lBRSmFam0wfMsbFuhLAuUdfxASAjx5AXdkFa7w365QrlcodPuEYYRB4c1Do/qFLLpr20F9KiSSrAQ4sxZg4kAwyqwZSmUsrAtRSppKM1pjOpQ3mrQaUlv8HnUrPU42G7ipSLGZhTJpIVS/QBsnXoB5DeTEE9Bt9djd/+Ize19NrbKtNodwiBkZ/eQ/f0jwvjZP4wslWAhxNkbhB4zGJWmBmFY2RaJFIxPx+ysdjnYqrNwuSSj0s6hVqPH4U6N0oU2xckeXsLBVsMHPf373ZwOwkKIr1UYRdy7u8ntOxt8cvMBO9sHNNtdPv7kAZ1OjyjSlA9q/If/+I+8/c4t8tk0z19b5tq1Za5cmmd6Zuysv4SvnYRgIcSZOQ48ul8NVoAeBmBLYStFKmUxMQO7az2OBpVgrfXgYyUwjT6D1oZWPaC61WTqWpfieIyfcFC2eqQaPOwJtiQMC/G1M5Fhb7/Cx5/c5yf/8C4bm3vH75s5FXDX13dZX98FoFJrkPA9pqeKEoKFEOKJUWANKrz9tckWylYkUzYTkxZOMqa9F9BuBHTbIX7CRdkSlEZdHGl63Yh2o0en3iOd04xPWiQG7RC2slDH/cDSEyzEk+I4NteeW2J8LMf3vnudVrv7Wz9mYrzA9FSRibHCU7jCp09CsBDi7CmwYguD6QdgSw0CksJPWGTyimTaYKVCOu0ejVoXpRR+QppHR13Qi6lXOgTdACerSWUgk7Pw3P79q5TCUkqqv0I8YcpRTE2VmJoq8cILZ301o0FCsBBiNKjBATlL9dshlHUchB1Hkc3FFC5E9LotDvdaJJI+ni9TIkZdrxNxsNPCqB5jKxapjMK26U+F+Ew7BCCH4oQQT42EYCHE6Bi0RFjDAGwrbNvGVja5omZ8KabbabK/WWd8Kksm55/1FYvfot0K2Nuook2LycWYdNbq36e2PagEP2Y6hBBCPAXymFsIMRJOByHbGgbg4YtFNmcYm4np9Vocbtfp9cKzvmTxBfQ6AQebNWKrydhsl1RKY6tTrRCWGswItk7WZwshxFMgIVgIMVrUcH3uYI6s6leDiyWb+QuKZDai1+1wsFvnqNwkCp/9WZbnUdCLONhtcLjXpNfrki1p5pcV2bz9yAOcYSVYCCGeNmmHEEKMnOHWOKWs45aIXEGhLYtMIaay0eVot04y5ZPK+Nj2s73V6DwKg5jyToNKuYbldMgXY6Zm+iPvHNs+CcDKwlJISUYI8dRJCBZCjIxhRVAp0MpCGYVlKxxbYTsKz1NMzke0mi0Odw5RymN6oYDnyQG5UdPrROw8qFJvVJi+GjI2DY5r4zg2tqNOqvyneoGlIiyEeJokBAshztww/Bhjjtcn24PBsY5SRLbCse1+CJ6JaDUDKlsNagcZakcdbNvGT0gQHgXGGHrdkNpRm+p+A51oM7McURq3cB3n+KCjbauTFdlGgrAQ4umTJ6CEEKNFDQ/JDauF/d7gfgh2KE3aTM8r0kVNGHfYWa9SO+qc9VWLAR0bDneb7G3ViHVApqSZmovJFy3cYSXYHlaBpSdYCHF2pBIshBgZlmX1q8GWhWUbFNZgTrCN49p42iadsimUDFPLAXtrDTbv7pNKJ5iYyZ315QsgjjV7W3V218ukJptMLoXkCopUSuG6Dq5j93uCT41Hk6kQQoizIJVgIcRIGo5LG06HcBwbx3FwXJtk2mJmKSI91mR3tUyl3DzryxUDOjaUN+vsbx6Qn2kxuxiTSCkc1xn0A59UgiUACyHOklSChRAjy7KGm+MsbGXjOBrXcUgmYsYnFNVpw/ZiQLtdZ+3OPmOTWTL5xFlf9jdWpfTVTG0AACAASURBVNziYLdBpNsU5jQTM4ZiCXyvX/09qQDLmmQhxNmTECyEGEmWseDUvGDbVji6XxH2EzaFos34lKY4F9Np1Fj7NIltK5Ipb3DgSgLW02KMwWjD0X6T9dv7GNWiNK8ZGzfk8grfH7S0OP1NcUpZJwsy5G4SQpwRaYcQQoyc4dPkw7ftwcE4x7FxHQfPdXA9h3zRYulqRKzqrP7LLrsP6zTqHeJIFmg8TVEYU6t02FqtsParXdxsnflLAdm8wvWc417gR1Yly2xgIcQZk0qwEGIkWZaFUf2RaUpZKFvh0O8pdRwbz3XI5DSzixHba102leZw74hM3mdmsUgmZ2MpsKTU+MQYDEZDs95jZ71K9ahCnGhQmIiYnjOkMy7eoBd4OBXCsk/GooH0Awshzo6EYCHEyHokCFtWf4HGYGaw6zqkkzF63GHpckSv06Oxu8/d9yCZTpBIejiukqfbnyBj+pvhKuUWd97ZxEpXuPIHmvkVi2LJJpmyT41Fs1H2ydg76QkWQpw1CcFCiJFyenHG8Z8tUMrCQeHaCu06aGPwExptYmbmY4yJWaVDfafK9oN9jDZML+TxfPkx96R0OyG7D2vsbJaJqDO12GPlec3ktCKVskl4Lp7rDpZkDAKwbfWr86daISQMCyHOgvx2EEKMpEeCkQ1qkJps28Z1+gexYjcmihzGJiLcREy7GRF2W2yu7hJ0oTSZlhD8BHXbAQ9u7lGrlMnMdJlbiVhaiUkmHTzPPe4Hdhyn39OtFBbWoCVCKsFCiLMlvx2EEOeDYtAfPJgU4Sjc2CFyYzzfJRXB/IrGUgFrcZtWo8r9T/eYWSoyPiWLNL5OcazZ366zt3lEt90gM9Vh+UaPqVmD77t4vjs4DDeYDWyfTIOQ4CuEGBUSgoUQI+84OFlgKwttKxxjo7UhjjVxrDHGMD0TolRIZb/L0XqNjXsKx3PIFpI4zmA0l/idxLHut0FsVNhZK2PcOsWZHosXQ4pjDn7CxR9OhHAf7QWW5RhCiFEiIVgIcS5YltVvizAKxxhwwNEG13WIdT8Ea63J5g0rz/dwPcPaO4a9hwk832V8OkM2nzzrL+Pcqx21KW83KG8c0YsqLN9osXAxJJVW+J6DP+gD9gZtELajBkFYArAQYrRICBZCjLRhaGo22jSb7X71V2vCKCIMI4IgIuiFBEFMtxfQ6QQor4dKWHQdj939gCDsofUsSln4SRfbts/4qzp/oiim1wnZ26yxefeATlQhPdFiaqHHxAykEt4g/LrHfcC2o/p9wEqhTrVCSBAWQowCCcFCiHNha+eA23c2MKbfAtHp9gh6EXEcE0cxURT3Q/EgGNermjhjONreY+vuHtpEgM30fJ5URkLwl9VpBuxt1njw0R7bn+5x4U/arLwQMD5pkUo6eAkX77gNwhm0nwwmQkgvsBBiBEkIFkKcC9vbh/zq7ZscHFSp1luEQUQUxxht0Eajdb8dIo76r6MY4giy3gWKF33qzT0e3k4SdEPGpvIUxlI4roTh3ybsRVQP25R3quytHxJ5Zaa/W2fhsmZuEXJ5h2TSJeG7/VYIz8V17ME0CLs/CQILy1hY0pMthBghEoKFEOfCfrnCBx/e4+NP7vNwY/+33t62Fb7n8nuvZ7n6rUvs3K6xeXOPdi0kuKTJ5HwJwV9AtxOxuXrI9v0yR1tHLHy/znOvdpmccigUPZIJF9/3jqdCeJ5zaj2yQg1nAkv+FUKMGAnBQohz4dLKLH/4B69weNT4QiF4eqrEyy9d5tVvXeHqpSITExbVS01q21DeMYRxyOziGBOzORnd9RnGGOIoZmejSnmrQuWgij9R49qLLWaWYyYmHTJZj0SiPw3C8wbj0Gx7EID7q64tGwm/QoiRJSFYCHEuLC1O8UZ8nTff+oT3PIcojNGDrXKnKWXh+x4LC1P84I2XuHp1kYnxPJPTEQcTbW6FmsP1iMbtLkpZJDM+vu/gerY8XQ8YbQh6Ea1mj531A/Y29rFTbSanOlx5uUNpTJFKevgJBz8xqAB7Lo47CMHDtciyEEMIMeIkBAshzoVsJs3c3CQXlmdYmJ9id/eQVrv7udulU0muXl3kO69d48aLFxkv5bAdhcGiNBZx+aUe+THNzl3D/o6iVm6zcGWCydkCiaSDstVjPvs3QxzFdDsxWw/KbK8eEFkNsrNNpi+3mJqNyBcUycSg/3fYBuG5uK6L69qDxRj9ecCWkgAshBhtEoKFECMtCiI6nR4HRzW2tg8xxlDMZzg8rH3utr7nMjFR4NVvXeG1V55jeWkKz3Xp9QIAlAWuF+C5IXHUYedBTHmrhZMwxKEmP5YmnfXwky7K+uaEYa013U5Eq96lethib2OfSm2P0mLI1HLAwoWA0hgkfIdEwiWR8PC8/kE4Z3AQzh4EYKXUI/OAJQgLIUaVhGAhxEhrtjpsbO3zDz97n1/8y0c0mu3H3k4pi0Ixy8qFOd54/UVe+dZlspk0xujBLU6eni9NRniJHl4i4KHTYXczZPdOg7mr48wsl5iay+P535wQ3OvGlLdrbN8/YutWGX+qzsSlDovPRczMazJZm2RC4fseiWS/BWK4FtkbTIJQloLBQgwhhDgPJAQLIUaK1ppatcl+ucLq/R12dg+pVRscHNWZGC/w4gsrhGHMz37+AXfuPOTgqIYxhlQqwavfusIf/OBbvPD8MjNTY2D1lzyoQZ+qUha2Uti2he9HRFGE7cfsZBrUd0PqzYBotU3loEGhlCFbSJJM+/iJZ+9HZacd0m70aNRa1CotmvUGnV6V5NIRk8sBs0uayVkojdn4Xn8OsO+5+INRaI5jDxZinEyCkB5gIcR58uz9ZBdCnGtaa/bLFd557w7/91/9ExsP90gkfV7/3nX+1Z9/lxvXV4i1JtaabrdHvdFCa0Mul+aN12/wFz/6HjPTY6SSPmEcY9uq/zT9IKAppY77VadmIFcIKJW67GwFrH8c8PBOg+Bgn9lrkyxcnWRqPv9MhuBWvcveRpWHN/c42qjgjUWULna49HyLmQXD2LgikRhMgBj0/nqDEOy5LratcOzBSuRBC8QwCAshxHnw7P1kF0KcO61mh4PDKh99ssbNm2vUak0azTbjY3kuX5rjwvIcly/NsbQ4SaGQIYpifu/7L9Kot7l/f5vJ6RLffvUq169fYHKiQMJ3TwKvAZz+2C8Dg2olx1VLZVnoiRjH0aQzIdWLMUf7XaIGPLwTcrhXJVfIUJzMkiskSaZdlPrd5wsbYqIopBu0abfrNFo1ur0W6VSOTKpALlvCd1O/8+cZiuOITiukXmlztN+gVmnQabTwJmosX2yTnwwpTsQUxhT5oiKVdPoTIDwX3/NOtsEN1iEPt8FhW2BJ768Q4vyRECyEeOqMMcRhTBCEdLo99stVHqzt8vN/ep8337qJ77uMj+d5+cVLvPTiJV568SKlQhYv4QEQBBGvvHyZcrnKz3/xIdeeW+SPfvgqV68sUChmjz+HbVkYVP9E3GCamhoEX2X1q8O2o3CckHQ6YmwyojoTsr/TY+OOZv9Ol3olQSWZodedIAoKFMbTuL6DUoMK83EP7BdthtVoE9MLujSaR1RqZQ6rOxxWdmg0KxTzk4yVZpiZWCafGyfpp7GVi1Jf5se1xhjrkQ16QS+kUm5ysFtl72GZIGqiUl3mZkLmlkMmZiMyWQvPdfE9B9d3+pVf9/PrkG3bxh4+yLBkFJoQ4nySECyEeOq01uyVj3iwtsv7799lfWOXo6MGvu/y+vee59LFeZaXZpiaKjBeylPIZXCckx9XjqPIZlK8+OIK/9P/8CMWF6Z46cZFxkq5R8KYGibUwTxhS1n9p+9tddwnbNvqZLuZUuTyEbYdk0oHzCyHHO51qO212V7rsr9RoTCWITeWIZNPkyv2e4ZtR/FFM6Ax0GjW2D1Y48Nb/8zDrVscVrfpdJoEUYDv+qRTeSbG5llZeIHrV15nojRHOlX8wt9fYyziSNOsd6hX2jSrHepHLWqHDbTTJDXTZG62R2mqR65gkc1DOuOQTDh4njOY/dsPvZ7r9EegDcLvI2PQLKkCCyHOLwnBQoinYjjq7Kha5+CgwfrGDg8e7HDn7gaNZhvf81hcmOLatWWuXV1kYW4SL+Fi259vPVBK4Sc9luan+JM/fIVSMcfU9NjnbmdZFsYyONpCAdGgCmxZnPQI2ycB+OTQnCKTDRmbjEhlItxEj7Lu0a03qDZSBLpAu5mlUU2RSCVIJN1+5dS3cT0Hx7VR9uero8ZowrDHbnmd2/ff5YNP/5H1rU+pN4+I4+j4do7jkc+WOKruYQy8cPV1UsnCY7+vxhh0ZAjDiDCICYOIMIjotkPazQ7tVptOu0Gn2yDyWqTGekwtR0wvhkxMaVzvJOh6vn3c+3u8Bc6xcd2TVcgyBk0I8ayQECyEeCoazTbrG7v87Ocf8i9vfszBQQ1lw40XLvL66y/w4vVLTE8VyGZT+J6H49m/NVxlMikuXphDOb+lFUGBZSwcpdCP7PE9CcHDKqcbOrhBhOs4uG6EuxwzMR3Tfb5D9bDL7maT2l6T7c009TVNdGCTv5ihMJuhMJlhbDpLYTzd36LmPRrgoyig2a7x6d23+NWHf8fGzm1qjUO0jj9zu5Bq/YA799/loLKNY3sszV1/7JcWBTHdTkCl3KJablItN6huN6l+0iJ52ZBbNGSmusxe6jEx2yNf1CSSikTSIeErXNceBOH+2LN+Bbj/tmOr/hY459FNcLIKWQjxLJAQLIR4Ioajzg6OamxtHbL2cIfV1U2q1Rb5XJr52QkmJ4tcubLAyoVZlhamSKcSON4X/7GkHIXneL/xNsdB2gZiBj289uBQnO5XNwdtEc4gCDuujeMq3J7CcyPChE2QjvB8jeNG5IptWtMhtcWYbtMC0yQmTb2Rp9Wss3XfJ5nx8FNuf4yYbWM7il7UoNbc5cH6bbb379Fs1T4XgPsMcRzR6tSJ4pC1h3e5c+dTfCeHYyWIY00cxURRTKcZ0G0FaLrEpotJN8leapO81CZTgFzJJlOIyBU1pRKkMvagzcHuB32v/+I5Do7r9NseXAdv0DYyrP5alqxCFkI8WyQECyGeiOGos48+ecA//vwDPvjwHqurW3znu9f40z/6Nt957TmuXl4kmfSx3d992sJnnQ5qxpj+n22wsLCMQcXWoAKsseN+r3DsaNzIJoz6CyBCJyIII5wwxO4pHCcmk42JooAwbBNGhlYD9ncUlZ0W9Z0OB3csah9rMrMJUuMJ/EwSP+XhJV065oBKd42Hm6scHG3/1q8hjkPanZCHG6u857xNMblEUo0RdEOCdo9Oo0trrUunFlB8zaK4ElOa7VGa7jI+FZBMg+uq4wNtjj084Gbj+YNlF557cujNtnGcQfXXHjxQUCfhd/h9lRAshHgWSAgWQnxthqPOtrYP2dou89HHq2xtH5DNpPjhD17mP//Xb7CyMsfFlRmmJ0v4vtt/ev0psSyrH4hN/yn9flVYDd/ZD3zD8WlYx1XQfjiMiMKYKNKEYUTkxkSxxnUMrmMoFg3d5TbNFwztPzWE3R5R0MLEDhgXS7u0j3Y5qj+kFza+1HW3u0ccNR+QSrtkCjFJKySpQvIqwH0jwk3FpDKQykIqpUllFKmsh+cqXEfhDHp7Haff/uAMDrw5Tr/y6wyqwsN+X8setD4MJz8YOQAnhHj2SAgWQnxl/UNZmiCKCHshu/tH3L23xb37m6yv7XLzzjphEPPDH7zMd1679rlRZ0/LMLwNK8JGGSzd/zvbPgm+ejDyq79drl/5tSMbx4lxI4fIjYjimDCwiaOYWBuSiZhMRhPHGq0D4lgThpqjskWtYtHrQtC1iXoeVnePLrvEPH71868TmyaBtYedLpEe93C8ADcR4SU0pYmY4hgnh/sGCyxs2z2u6Dqu1e93Pg7D9nEAHt7ecfpLL9Spr3/YSy2H4IQQzyIJwUKIr0wbQ6XaYGfvkHv3trh95yGf3nxAoZBlfm6S69dXmJoqsTA/zuR48XOjzs7KsDUCA+jhpjODBdjKIrL7bRJa29ixRkcxURwTRw5hHA+qwDFxqInjwdux6ffqxjGuo1GThmzOEEYGHWriOMDNxWgfto4s2P/i11uadLjygsfKhZiZyQ7K0dg2OI5FMuni+Sc9zf1Qa/Wr127/z87p8Ds46Ha87c3uHxhUykapQdC1T1WAv/5OFSGEGAln/9tICHGuxGFMNwhoNtpUay3WH+6ysbXP7s4R+/sV4lgzPp7n6tXF3zrq7Gl7bBVzEIYtLJQGM1gCoZUm+v/bu9PmuNIzze//3PdEIpGZSOw7SIA7i2SxWFtLKm2tbqlb0vTiGYc9MW17wg6/dPgD+IU/gO2Y8RtHj3s8S3eP2u2RWqWSultSlVhF1s4VJPY9AeSCXJB7nuMXIFAki7WpSCbIvH4RDJJ1zsm8DyqYvPjgPvdjGNhsJg2bDXujQcNuYG80qNsbuw+mOXZD724QNjDqBvWGSaPRwO02aBgmRqOBYZgYponF6cK0B7k57caxYKPeMDDvzDD+pHrtdhuxuJfR8TZ6uu10hM39Gcd7Y92sd0a77T2AZ7dZsdnt+0F3P/zurxLfGXVms35s04uPukPUAiEiTzeFYBH5QoqlMhubaT68OsfVq7NcvzlPvlDk5Ikxzp6ZYOLwIPHOEMGg73OPOmu2vV5hrLtheHeKhBWHxULdYuy3SNhsJnbDthuCGwZGw6Bh7K4CG8ZeIL7TGtEwaRgGxt4PwOXqpC3o54MPprk1vUQhX6JWq39iXQ6HnUDAQ293jENj/fh8Hjzuj7aEvnv74r0RZnsBdz/sWj/69cfDs+WeqQ93fz1ERJ52CsEi8qlM06RSqpLN77C6usXi0gZz86sUixUAJg4P4vd5vtSos2bZD7/cF/xsYDF2j9mtu20fVsOKaZiYhoHNZvso3BrG7kqvYdAwjP1wbJgf/TfDMHf7pz0mLqedM6cPUa5UuXZtjkQiTaVau2dF2Gaz4vW4icfDDA93M3FogFg0tLsRh912p2/33lBrvTPqzWq1YrVZ9sPvR+fu9fnuBl7b3dsdP2DFV0FYRJ52B/9vKRFpKtM02SmWWV7e4tdvfMA7797k2vV5jh4d5sXnTzzyUWeP2oPC3t5Oc5hgw4bNAKy7X4u9H3vBtmEamIa5H4SNO0F47xzD2A3Ee793u5w8d/4YgYCPQr5MLlekVq/TaHwUgu12G+3hAGNjvbz8wkmOHh0mfGdL6L3V248H4Y/CruXuYGyxfjTx4u7xZnrYTURanEKwyB21Wo3p6Wlu3brFtWvXsNlsjI+Pc/z4ccbHxwEol8skEglu3LjBm2++yfPPP8+3vvUtAJLJJBcvXuT27dtsbGwwPDzM5OQk4+PjdHV1NfPWvrBGo0G92mB6dpmp28ssLKyzldzGZrMyOTHE+fPHGBqIMzDQ2ZRRZ4/L3W0SwP5ECQCr1YJpGlhMK4YFrFYTw7BgGFasVuNjYdk0d/uCHQ47nbEQNusoXreLucVjLC1v8N57t7l1e4lzz05ybHKIeGcHfT0xBgbjdMbacbmcWO8Ls/uB+O6pFrt7Qt+32nvXfN+7e35FRFqYQrDIHYZhsLGxwXvvvcePfvQjDMPgxRdfJBgM3hOCFxcX+eUvf8mf//mfY7PZ9kPwzs4OV69e5bXXXuPdd9/lpZdewm63E4vFDnwINk0TjN3wWypVKBRL5PNFPrwyxzvv3mRhOUGt1uDk8VGOHBnm2bMTRMLBxz7q7HHanyl896Ybd41Ws1jANHcTpXVvhdhqoWGaYFj3V39N86MVZADTBI/LSbg9yPhoD1upLDOzq+zslJmbX+PcM4f5zrcvEIuGCAZ8uFwObDYrsBtm92rbXQ1mP/Du/bDdtdp7d/C9f9TZ3nERkValECxyh91uZ2JigkqlwvXr11laWmJra4tsNrt/TrlcZmFhgeXlZWq12j3Xt7e3841vfINqtcqtW7eIx+McPXqUcDj8uG/lt1Kr1dhKZXn/g2mmbi0yP7+Ow2knFPLznSMX6OmJ0hkNEY2GCIUOxqizx+2e0Wp8tDJsWnb/EWFYTGzG3W0TYGBiMQHuBOLdX3Gn24JoJITb7aSrswObzUpXPMLoSA9ulxOHw/7RlsX7NQBYMO+s7lr5aKXXtILVvGu117wrAD95nSoiIo9U6/0tJvIJbDYb8Xic0dFRBgYGyOVyFItFKpXKnW9rGxQKBRYWFlhZWaFarVKpVMhms3g8HlwuF729vfvXDw0NMTQ0RCAQaPatPZB5Z6LBdjZPOpMnnc6zlkhx69YiyyubJNPbjAz3MD7az4kTIwwPdB2YUWePy2eulN75UljY7SG2cdeq8f7K770j0O7/vdNhJ+D3EGzzYrFYCAZ9xCKhz1XPPau88LGV3o9O1KqviMj9FIJF7uN0Ounq6mJjY2N/Fdg0TcrlMul0mpmZGZaWlqjVaqRSKWZnZ+nv78flcrG2tgbASy+9xMmTJ4lEIrtP5B9AjUaDcqXKex/M8JuLV7h5a5Fcfofx0T6OTg5z+PAA/X1RIh0hXG4nTqddQepT7O9KZ70zbYI77RR7wdi497xPun5vbu+nuuvw3nSHT3ttERH5OIVgkfvY7XZCoRB+v59kMkmtVqPRaDA9Pc3Nmzfx+/3E43G2trao1+tUKhXK5TKlUonbt2+Tz+d55plnGBkZwWq1srOzQzqdZmlpifX1dba2tjBNE5fLxdjYGIODg8RiMbxe7yO9L9M0adQa5AtFFpcTrKwmWV9Ps7mZIp8v0t8XIxjwMTbWx9BgNwN9MUJtftxe1yOt60n0oLD5wFFrd/uMBfTd6z6a2/tlalEYFhH5bArBIvex2WwEAgE8Hg+VSoVarUatVuPKlSu8//77dHV1cfjwYaanp4E7c3QrFQqFAjdu3MDj8fDKK6/Q29uLaZpkMhlu3brFL37xCy5evMj777+PYRiEw2F++MMf8u1vfxuv1/vIQzBArVZncyvDr16/wqVL17h2fZ6+vhjHj43y0gsnOXl8hHB7EJfn6X3g7VH5smF0f0XX9jlWgkVE5EtTCBa5j91uJxAIYLVa2djYYHFxkfn5eRYWFigUCrzwwgt0dHRw/fp1XC4XqVSK5eVlSqUSPT099PT00N7ejsPhoFar8cEHH3DlyhWCwSC/93u/xw9+8APm5+eZm5tjZmaGH//4x3R3dxOLxR76vdw96uzW9Aoryxusb6TZzuSJRtr5L/5klIHBLvp7YvT0RAgGfdjtrdPzKyIirUshWOQ+NpsNv9+Pw+EgnU4zNzfHjRs3SKfTOJ1OxsfHiUaj+yu9y8vLrK+vY7FYOHv2LIcPHyYYDOJwOKhWq2xsbLC5ucnJkyc5duwYR44c4Z133uG1117jpz/9Kevr6/zwhz98KLXfPeqsXKlS2CmRy+3w/vszvPX2dZaWNygUy/R0RTh0aIBvfO0s/X0xAm2+h/L+IiIiTwqFYJH77IVgn8+H1WplamqK1157jZGRESYnJ4nFYuRyOTweD6urq+RyOUKhEMPDw/T29hKPx/fHh7lcLr7yla9w6tQp2tvbCYVCOJ1OIpEIhw4d4p133iGXyz3UiQu1Wo1UJsf1GwtMTS0ydXuJQqEIFgvnzk4w2N9FT0+U7q4OuuIdeDzq+RURkdajECxyH6vVis/nw+v1YrVaKZfL7OzsMDg4yKlTp2hra8PpdNLe3s7W1hbpdJqenh6Gh4eJx+P3jESz2+2Mjo4+8D1cLhd9fX2Uy+Uv1Q+8t1VvNpMjvbVOMplldW2LGzcXWFreIJnapiPcRn9fJ2fPTDA5MUC0I6QH3kREpKUpBIvcZ68neG8leHR0lK9//escO3aMeDyOzWbD6/XS29vL5uYm9XqdM2fO8Morr+DxeD7Xe2xubjI9Pc3ExAQ9PT3E4/Hfut5Go0G5XObq9TkuXfw1H1yZZnl5E7fbxaGxXv70T77OodFeuuIRPG7n7va7dj14JSIirU0hWOQ+e9MhTp48yZ/92Z8xMDDA6dOnicfjOBwOACKRCOfPn6enp4d8Ps/Ro0cJBoOf+dr5fJ6trS0SiQS1Wo3Jycn9HuLPyzRN6vU6hUKB1dVVVlZWWF5eZmHhBhtry4TafHR3TxCLtDM83MOxo0PEY2ECQfX9ioiI7FEIFrmP3W6nra2NCxcucOHChQeeE4/Hf6vV22w2y/Xr11lfX8dmszEwMMDExMQXfp1arUYymeStt97i4sWLXL58GYe9QWdnkD/4/Rd5+cXj9HRF8QUe/dg1ERGRJ5FCsMhjUCwWWVlZYXZ2lunpaTo7Ozl//jy9vb2f6/pGo0GtVmNlZYWFhQVu3brFwsICmUwGp9PJ97//feIxO/GojZGRbiLRdhxuxyO+KxERkSeXQrDII7TXupDNZrl9+zbz8/PkcjlOnjzJ2bNnKRaLbG9v4/P59lst9q4zTRPDMPZbH9LpNNeuXePq1atcvXqVjY0NOjo6OHHiBN/85jcZHXTQ0V5s4t2KiIg8ORSCRR4hwzDY2tpidnaWGzdu4HA4+PrXv87IyAi1Wo23336bVCrFhQsX6O7uvufaWq1GPp8nkUhw7do1Ll68SCaTAeDYsWP8/u//PvF4nK6uLrq6uvB50oBCsIiIyOehECzyCNXrdaanp7l8+TLvvfce7e3tDA0NUavVqFQq/PKXv6RUKnHo0CHi8TiGYVCtVimVSqyurrK2tsb6+jpzc3Osr6/j8Xjo6uri9OnTnDhxgmg0uj+RwqztYNSbfMMiIiJPCIVgkUeoWq3y61//mr/+679mfX2der3OT37yE6xWK6ZpUiwWGR8f5wc/+MH+qLPNzU2Wl5d59dVXuXLlCjabjZGREf74j/+YsbEx4vE4Xq8Xt9v9UDfZEBERaSUKwSKPkMPh4MSJEzQaDXZ2dqjVavccr9frRCIRrFYrV65cYWpqilQqvZ/yjwAAIABJREFUxc7ODg6Hg9OnT9Pe3s7g4OD+nOIvMk5NREREHkwhWOQRcrvdfPe73+W73/3ux46ZpkmpVCKbzbK6usrFixf5m7/5G0qlEqFQiD/8wz/k5ZdfpqenB7/f34TqRUREnl4KwSJNkE6nSSQSvP/++8zOzlKpVAB46aWXiMVidHd3MzIyQjQaxel0NrlaERGRp49CsMhjsDfqrFwuUywWWV5eZm5ujt/85jdMT08TCASYmJjgwoULTE5Ofu75wSIiIvLbUQgWeQwqlQqJRIIbN27w1ltvsb29TaPRIBwO893vfpfh4WF6enro7Oykra2t2eWKiIg89RSCRR6RcrnMzs4OyWSSra0t1tfXmZmZYXZ2FqfTSTQa5fDhwxw5coTh4WGFXxERkcdIIVjkEUkmk8zMzPCzn/2Mq1evYrPZ6O7u5oUXXuD48eOMjo7idrtxuVzq+xUREXnMFIJFHpJqtbo/6WF2dpaNjQ0ymQy5XI54PE5vby8jIyMcOnSIgYEBOjs7m12yiIhIy1IIFnlIqtUqq6urvP766/ujzvx+P8eOHePZZ5/l3Llz9PX14fF4sFqtzS5XRESkpSkEi3wJ6XSajY0NpqammJubY2tri0KhwNjYGH19fQwPDxOPx4nH48RiMZxOJxaLpdlli4iItDyFYJEvYG/UWaVSoVQqsbCwwMzMDJcuXWJ6ehrTNOnu7ubkyZOcPXuWyclJ3G63en5FREQOGIVgkS9gb9TZrVu3eP/991lYWCCVShGNRjl//jwjIyP09vYSi8WIRqN4PB5sNluzyxYREZH7KASLfIZisUg+nyeVSpFIJJifn2dhYYHl5eX9Wb9HjhzhyJEjjI2NEYlEcDqd6vsVERE5wBSCRT5DOp1mdnaWy5cvc+XKFVZWVggEAhw7doxnnnmGiYkJQqEQgUAAl8uFzWZT36+IiMgBpxAscp+9UWfJZJJEIsHNmzeZnZ2lXq8TDofp7u6mu7ubQ4cOMTo6Sk9PDw6HA7tdf5xERESeFPpbW+Q+e6POrly5wuXLl3n33XeZn5/nW9/6Fl/96lc16kxEROQpoBAsAuRyOTKZDEtLS8zNzXHz5k12dnbw+/185zvfIRgMMjo6yuDgoEadiYiIPAUUgqUlGYZBo9GgVqtRqVRYXV1lcXGRW7duMTMzw/z8PKFQiNHRUZ599lmNOhMREXnKKARLS6rVaqTTaZaXl5menub69essLCzQ3d3N6Ogozz//PPF4nO7ubo06ExEReQopBEvLqNVqlMvle0adJRIJMpkMhUIBv9/P4OCgRp3JY2UYBkbdwGgYzS5FRKSlKARLyyiVSmxtbe0/7Hb9+nXcbjcnT57ka1/7GuPj4xp1Jo+dUTcoV6rU6vVmlyIi0lIUguWptbfFcSqVYnFxkbm5OVZXVykUCtjtdk6dOkVnZ6dGncljZZomjVqDfKHI4nKCpaUtllc3ee+D21QqVX7+i7cpl6p0doYZ6u/k0Hg/bq+r2WWLiDx19Le9PLVM06RarbK4uMirr77KpUuXmJ2d5dy5czz33HO8/PLLDA0NadSZPHa1Wp3NrQy/ev0Kb7zxIW+/O0UymaVcqfIf/vLvee21y5w9e5hvf+M8vb1RhWARkUdAIVieKrVajVKpxNTUFNPT0ywvL5PL5TBNk5deeonvfe979PX10dvbSzwe16gzeexqlRpvXb7Bxbeu8dbl69yeXmF7u3BPO8ROqczUrSWsNhs7xTJf/Z1nOHv2cBOrFhF5+igEyxPNNE1M09wPv7lcjlQqxXvvvccHH3zA/Pw8gUCAU6dOceHCBU6dOqVRZ9I0jUaDnWKZd9+7xd/97BK3by+R2c5/7LxKpcbi0ga5XJHEWor29iAnj49gs9mw2vVdCxGRh0EhWJ5ohmFQrVZZWlri/fff5+bNm6ysrBAMBunp6eH06dN0d3fT19dHPB7XqDNpqnyuyMraFrdmlpmdW2Fnp/Sp5+/slFhYSrC0tM56IkU4HMQf8D6makVEnm4KwfLE2dvkYnNzk83NTZLJJMvLy8zOzpJOpzEMg+7ubiYmJhgbG6Ozs5NAIKDwK02X2c4zN7/OyuomyWT2M8+v1upUt/OsrCWZX0zgcNoVgkVEHhKFYHni1Ot18vk8ly9f5tKlS9y8eRPTNBkYGODcuXMcP36czs5O2tvbcblc2O12PfgmB0I6nWNufo1c7tNXgD92XSbH3MIaXfEwXV2PqDgRkRajECwHnmGaNGo10ul1FhcXWV5eZn19nUQiQbFYZGxsjFgsxtDQEOPj4wwNDeH1enG59ES9HCw2uxWXw4HV+gUfxjTBNMB8NGWJiLQkhWA58EzDoFqrsLi4sj/qbGZmhtHRUU6cOMG3vvUtJicnCYfDmvErB5rH7SLU7sfldHyh6+wOGx6PE7tN39EQEXlYlBjkQKrX61SrVdZWVplf3OLGdJmV1Tzb29scPnyYF198kYGBAQYGBhgcHMTv96vlQQ68cHuQocFugsHP19drtVpxOGx0RtsZGuwm4Fc/sIjIw6IQLAfC3qizRqNBtVqlWNghm80yNTXF1evzXH4vRanioKenh2PHjnHhwgXi8TihUKjZpYt8bm1BH/19Mbq7InR0BMnlitRqD94u2WKx4PG4CIcD9PbE6O+L4VcIFhF5aBSC5UDYm/Wb2koyPz/P3NwcKysr1Go1rLYAX/va1+jsGqOnp4fu7m4ikQgej6fZZYt8IXa7nbagj6+/chaLBX76s0ssLCY+dp7VYsHpdDDY38lz549y8uQYoZAfl+OLtVGIiMgnUwiWpjEMg3q9Tm47y/b2NplMhkQiwcrKCtlsllqtRigUorNrhENHXqC3f7fv16EgIE8oq92Kx+vizOlx3C4ntVqdq9cXyOV3KBXLVKo1nA47Xp+Hzmg7x48O89JLpzgyMYDX6252+SIiTxWFYGmaer1OcafIzMwMN2/eZGZ6mnw+j9Pp5OixYxw7doxIJEIo3IsrcBinUw++yZPParXSGQ3jOuUkGPRxe2aJW7eXWV7eJJXOEmrz0x2PcOLkKIcPDTA80EVQs4FFRB46JQp5bPZ6fgv5Apl0mrW1NRKJBFtbWxQKBSLRKAODg7S3tzM8PMzg4CC+gB+PJ4TF6cFi1QqwPPksFgt2p51gm5+x0R5CIR99PZ2k0jkKhRJer4v2UID+/hixSIi2oB+bQxu9iIg8bArB8tgYhkGtViOdSnHz5k3eeedtpm7cIBBso39ggBdffJHx8XEisahaHuSp53TaiURCRCIhJg4PNrscEZGWoxAsj1S9XqdWq5HbzrKxscHt27fZ3NykWCwSjcYY/r0RwuEw0WiUnp4eAm1BjToTERGRR04hWB6qvVFnhmHstz7kczk2NjZYXFzkypUPyefytIXaGBsb49SpU7R3hAkEAs0uXURERFqIQrA8VHujzgr5AulUilu3bjEzM0O9XsfhcHD06O7Dbh0dHUSjUdo7wjidzmaXLSIiIi1GIfgA2Fs5LRQKLM4vkMvlAOjv76d/cKDJ1X22vVXfarVKIZdnY2ODZDJJJpMhmUxSrVbx+XzEYjEmJyfp6u4m2BbUpAcRERFpGqWQA6JWq7G2sspf//VfcXtqCoAf/tEfPxEhuF6vU6lUyKTSLC0tcfnyZTYSCaxWK5NHjnDu3Dk6OjoItrXh9rix2+3YbHraXURERJpHIfgAMAyDbGab9fV1EusJstvbhNrbD/wDYpVKhUK+wPLSEisrK5RKJUqlEh6Ph7Hxcdra2hgeHqa/vx9fwI/brWH/IiIicjAoBB8AhmGQTqdJJBJUymV8fj8Dg0N0dHQ0u7RPVSqW2EgkuHz5Mm9fuoTT5aIzHufcuXMcOnSI7t4eXC5Xs8sUERER+RiF4APAZrMR6+zkmWeeIRKJ7G8XPDg42OzS7mEYBtuZbZJbW8zOzpJKpSiVSgA8+9xzxGIxOjs7icfjhMLt6vkVERGRA0sp5QCwWq10RDroiHRwaOJws8u5h2EY+z2/pZ3i/qizDz/8kO1MBq/Py6FDhzl8+DD9/f1EYtFmlywiIiLymRSC5VMVi0WSm1tcvXqVqakpDMPA4XDQ39/PuXPn6Onpob29Ha/fh8fjaXa5IiIiIp+LQnCTlEolspltkskk29vbAFgslt1V4Y4O+gcHmvIgmWmalEoldvIFUqkU6XSaTCbD8vIy2ew27e1hOjs7GR4epq+vj1i8U3N+RURE5ImjENwk2cw2165d46233uLalQ+B3bYIp9PFmXPn+NM//dOmhGDDMNhOZ5ibm+Ptt99mI5HAZrMRiUY5cuQoo6Oj9PX14Qv4cblcOByOx16jiIiIyJelENwkbo+HeDxOZ2cni8E2NhPrFIslwh1h6vU6pmk+tlr2Rp2tra6yvr5ONptle3ubWq1GZzxOLBYjfufnzs7O/YfeDvoINxEREZFPohDcJKH2EKH2ENVqlVqtxjuXL1NbXyPUHiYUCmF9jJtJ7I06e/PNN3n70iUA/IEAE5OTHD58mImJCdraQ2p7EBERkaeGQnCT2Ww2HA7H/s/RWJRIJILd8ej+1+yNOkslkywuLpJIJEgmk9TrdSaPHqWzs5NYLEYsFqOjowNfwK8d3kREROSpohB8AFgsFgAcTifRaIxwOPzIQmelUqFULLG2usr8/Dw3btxgc2ODSqXC6NgYk5OTjI6O0tXTjdPpVPgV+RKMukGlUqVUrrBTLGMYxv4xh91OMOjD5XFit9n2PwdEROTxUAhuskKhwMbGBqVSEYfDQSQSoaOj45GFz+XFJaamprh9+zbpdIrOzjjPXbhAT08P0WiUUCiE1+/D6XSq51fkSyrslLh+Y4HLb9/gl6+/TzZf3D/W3xPlj/7J1zh9coxIuA27Ux/HIiKPkz51myyfz5NYX6dYLOL3B+jo6CAcDj+y3dZsNhtOp5NgMIjT6WRkZISBgQF6+nrxer2a9iDyEFksYLfbsNqtGIbJwvw6S8sb2GxWtieG+N1vP4fVasHUvzdFRB47heAmy2azrK4ss1Mo0N4eJhKJ0N7x6Nohunt76IhGOH78OI1GA5/fj9vjxuFwaOVX5CHzeT0cnRwkHA4wPNTNX/w/r7K0vIHT4cDn9xCLttMeDmJX25GIyGOnENwk9XqdarVKoVBgp1DYXZ1ta8Ptdn/qKnC5XCafzZFKpchkMuTzeYrFIo1GAwC73U5bWxvt7e10dXXtB+q9gOtyuXA6nXg8HkzT1KgzkUfIarfisbvpCAfo7YnQFvRjtVqJRNvo7YkQ8HtwPKLv+oiIyKfTp2+T1Go1CrndAFurGYQ7AoQ7Oj5zDFlxp8jq6irXr19nauomy4tLbG4kqFRqWCzgcjkZHh3j8MQE58+fx+v34Xa77wm6FotFbQ8ij9HuRjgO7HYbNpuVeGcHgwNdeL2Pf0McERHZpRDcJJVyhWQySaFQwGqF9nAHXV1duFyuB55fq9XIbWeZmpri9ddfJ51KYZomZ599lmg0isViIZ/Ps7a2RnJriysffojdbqdarXLo8GHCHeHHfIcisqdSqZFM5ijslLBaLXTGQvT3xvB4HvznXUREHj2F4CapVipsbW1RyOexWq20t7cTi8U+MQTX63Wy2Szz8/NcfutNvF4vo+PjnDp1ipOnT+F0OklubnHt2jV+8fOfc+3KFVwuF263m97eXoVgkSYqV6okk9sUCiWsViuxaDu9vTE8bm1AIyLSLGoGbZJSqcTa2hrZbBaLBYJ3+ngdn3NXtiPHjvP97/+A8fFxXC4XNpuNULidU6dO0dvXh2lCqVgkn89Tr9cf8d2IyKcplaskEmlyuSI2q5VYrJ3enihut1aCRUSaRSvBTVKpVMhkMpSKRSwWCz6fj7a2tk/cKc5ms+Hz+ejr6+Pc+ec4deoUo+Nj92xo4Xa7cbvd+P1+YHf1uFarYZrmY7svEfm44k6Z5dVNcvkiTqeDSLiNzs52nC715ouINItCcJPU63Xy+TyVSnk/BAeDwU98YM1utxOOdPDM2TNMTk7i9npwu93aZUrkCVAolJibXyOX28Hnc9PR0UYs0o7Vrm/GiYg0i0Jwk5imSaPRwDTN/WkNNpuNQi7PZmKDRCJBZ2cnPX292Gy2/TFnDodjf6X3fvl8nq2NTZLJJFarhVhnJ/39/Xg8nsd8dyICYBgGtVqD7dwOyytbWCzQ3x8nFPJTNwySq2lWVpPML62Ty+5QrVRxe1x0dLRxZGKArngEv8+jsCwi8ggoBB8Qe7OB0+k0s7OzvP32Zc6cOUtHNILb7f5cm2dkM9tcu3aN9bU1bDYr/QMDjI+P4ws8ODSLyKNlNkwq5SrbmTxra1sEgj7GRnpoC/oplypMz6zwqzc+4O9evcT8/BrZXIGOjjaOHRnhv/6vvs2FZ5143E6FYBGRR0AhuEkCgQCjo6Mkt7bYzmR48+JFVldXCYVC+Hw+jh8/wdDQ0OcKwOVyeX8yxFtvvkm9Xuf0mbMcOnSI7u7uT5w4ISKPVr3eILOdJ5st0DAMggEv0WiI61PzJDbTVKo1Bge7+O//5R+wuJBgemaZqzcWmF9Y4z//+DeUihX+4Hsv0qHeYRGRh04huEl8fj8jIyNsbm6yncmQSu6OSxsYGuLw4cNMTEzQ1d39qZtnmKa5Pz94ZmaGGzduMDN9m+GRUc6cPcvIyAgd0chjvCsRuVutXieVypLZztFoNHA6HLhcDhaXEqytJentiTF5eJDTp8ZYXdvivQ+m2djc5o3bS+wUywT8Hl756mlCIT827ewoIvJQKQQ3SSAYYHR8jGg0yssvv4xhGFitVjweD36/H38w8JkruI1Gg/XVNaampvjVL39JKpViaHiE5y5c4Pz58wTago/pbkTkQSqVGqvrSdYTaWrVBmvrST68MsPRyWGOTA5xZHKQ3u4obpeT3u4oVquV/+/Hb1CvN9jeLrCZ3GYzmaUj3IY/4G327YiIPFUUgpvE6XTidDppa2v7ra7f2dkhm9nm+vXrXLt2jVQqRSAQ4OSpUxw+fJjOrvhDrlhEvqhqtcbaWpLERop6vYFhGBimSVe8g0NjffT3dtIW2u3Z9zo8RCNtuN1OTNOkWq2xUyiT3S5QKlcUgkVEHjKF4CdUOplienqa37zxBvNzs/T1D3Dy1CleeukltUCIHBCVapXVtS3W1tPU6nWCQR8DfZ1MTAwycWgAh+vTP4Jr9Qb5QpFKpfaYKhYRaR0KwU+YWq1GqVRiamqKS5cuUSgU6Oru4fQzz3DkyBHCkQ7cbnezyxQRoFypsbS8ydraFrVand7eKGfPTtLbG8Ht/ewHVi1WsFqtmgcuIvII6EmLJ0ylUiGTSnP16lV+9Q//gNVq5dTp0zz//PMcPX5MM4FFDpBKpcrSyiara0nq9QZDA1289Pwxujo7Ptf1NosVl9OB3f7ZIxJFROSL0UrwE8IwDOr1OqvLK7z55ptsbmwwODTEM2fOcObMGdraQ/vn1ut1isUi71x+m+3tbZ577jm6erqbWL1IazEMg1x2h83NLNVyDb/PQyzWTn9vjHAoiMv58ZFnxWKZdCZ/T+uD2+2gszNEwP/xfuBapcZOsczs3CpzC+vsFMv4fV6eP3+Erm61RImIfBaF4CdEo9Fgp7DD8vIyl956i2qlQrijg1gsRigUYidfYCdfAKBarZLNZnn99V+ztbnF2NiYQrDIY2Q2TDLbeTY3M1SqNfwBD8PDXXT3RAm0+R54TXGnzFYqS7lcxWqx4HQ6CAZ9dITb8PrcmKaJaZoYdYNKtUYmk2c9keTipRu88+4UhZ0SPV0RDo32KgSLiHwOCsFPiEqlwvLSEvPz8/szhZNbm6RTKX7y4x/fc+7eqvFGYp1INIZhGE2qWqQ1GYbB5uY2K6ublMoVAn4vo8O9RDo+eRpMZjvP4mKCfL6E1+tmZLSXsdHee1aNq+UayXSWm1OLvP/BNJfevsH8wjqZTJ54vIOeLoVfEZHPSyH4CWGxWHA6nXR2dnLi1GmKOzufeU04HKaru5tgUPOCRR4nwzDZTG6zsrpFuVSlrc1Hf18n4fAnb2GeSKS5cnWWdCaH1+dm8nA/Y2N9uFxOGo0GlVKN6zcXmJ1fJZXMsp3N43I5qFRrrCdStAUfvMIsIiIPphD8hPB4PAwOD9HV08358+c/9+quw+HAHww84upE5G6GYbC5lWZ5ZYNSuUJXVwe9vVFCbZ/8Z3F+KcEbv7lKYiON3+fm+NERJg8N4HQ5qFbrZLbz/N3P3uSd96Y4MjHE2Fgvr3z1LP/uP/6c2dnVx3h3IiJPB4XgJ4TVasXtdu+OP/stN9gQkcfDMAxSyRzriTSVchWr1YrT9eApD7nsDuuJFFNTiywsreP1uBgb62F8vJ+enigOpx0a4PG4mDg8iMftYnS0l4G+GN3dESIRfR6IiPw2FIJFRB4ywzRJZ3JsbKQpV6qfem46k+PdD25z/cY8iUSakyfGOH50lPHRXjo7w7sn2aHdHuA73zxPvdHA53Vjd+5+fHs9mgsuIvLbUAgWEXmIisUyqXSWVCrL9naBWq1OKp3lnXem6Ghvo6N9d+W2VK6wup7knXdv8dOfvcXy6hZDA128/OIJvvaVM0QioXtf2AoOlwOHYcdi14h3EZEvSyFYROQhKhUrJJN58oUijYZBMLD7wNqt6SV6e2O0h3YfjssXSkzPrHD57Rt8eGWGQMDLyZOjvHDhOM+encDtdd7zursPx+ojW0TkYdEnqojIQ1QoFNlKbuPzejh+dIQTJ0bwetxsJjO8+rO3+Mu/+kcAbDYrXp+LUJuf3/3meU6fHOfE8RG6uyN4PS6sFq32iog8SgrBIiIPkdPpoD0U4MzpwwwPdXPkyBA2q5WlpQ2mZ1dYWtkAwOV0EOkI0d/Xyfh4H0cnhxgZ6Wly9SIirUMhWETkIYpGQrS1+Rkb7aHRaOB2OwELtVqNSrVGrVYHdtsb7DYbDocdl8uJ2+X89BcWEZGHSiFYROQhsjvt2J12vD5NbRAROcjUdCYiIiIiLUchWERERERajtohRESeQNVqnXKpQrlcARPq9QaVao1KtU69WsfmsGGxWJpdpojIgaWVYBGRJ1AuW+D6jQXW11MYpkk+XyKZypJKZ3dnFBtGs0sUETnQtBIsIvIEaNQaLCyts7aeJl8okthIMT+/zvTMKqZpUtgpsrS0wa9e/4CNRBp/0MvQQJzBgTger/vOlAoREdmjECwi8gSoVGv8468+4Gc/v8Tc3DqpdJZqpUZhp4RpmuQLJW7dXmJtPYnL5cRmtfBPfvAV/viPvkp/T0whWETkPgrBIiJPALvNxuhID6XiCQ6N91MslT/zmpMnxgiHArg0g1hE5GMspmmazS4CALOOUZvBbGw0uxI5YCwWPxbnCBZrqNmlHGhmbQGjvtjsMkRERD6R1T6AxTHY7DIAPRgnIiIiIi1IIVhEREREWo5CsIiIiIi0HIVgEREREWk5CsEiIiIi0nIUgkVERESk5SgEi4iIiEjLUQgWERERkZajECwiIiIiLUchWERERERajkKwiIiIiLQchWARERERaTkKwSIiIiLSchSCRURERKTlKASLiIiISMtRCBYRERGRlqMQLCIiIiItRyFYRERERFqOQrCIiIiItByFYBERERFpOQrBIiIiItJyFIJFREREpOUoBIuIiIhIy1EIFhEREZGWoxAsIiIiIi1HIVhEREREWo5CsIiIiIi0HIVgEREREWk5CsEiIiIi0nIUgkVERESk5SgEi4iIiEjLUQgWERERkZajECwiIiIiLUchWERERERajkKwiIiIiLQchWARERERaTkKwSIiIiLSchSCRURERKTlKASLiIiISMtRCBYRERGRlqMQLCIiIiItRyFYRERERFqOQrCIiIiItByFYBERERFpOQrBIiIiItJyFIJFREREpOUoBIuIiIhIy1EIFhEREZGWoxAsIiIiIi1HIVhEREREWo5CsIiIiIi0HIVgEREREWk5CsEiIiIi0nIUgkVERESk5SgEi4iIiEjLUQgWERERkZajECwiIiIiLUchWERERERajkKwiIiIiLQce7MLEBF5khVyRW5NL1Gp1AmH/cSi7YQ72ppdloiIfAaFYBGRLyGxlebf/vufk0xtc+rkOC+/cEIhWETkCaAQLCIto16tk80VmF9Y54Mrsxw7Msyzz05+qdes1eokk9sktrbJZgtUKvUvdP3S0gaX35miXq8TCHg5dmSY/v7OL1WTiIh8NoVgEWkZlWqN9Y0Uf/+P7/K//asf8d/+i+9+6RD8Zd2eXub/+Fc/olSu0Ncb5b/7s+8pBIuIPAYKwSLSMnK5HX7z5nUuvztFcafS7HIAODIxyP/8P/1TGvUGPp+bQ2N9zS5JRKQlKASLyFMtk86RzuSpVKrMLyS4dOk6U1NLVCrVZpcGQFd3hK7uSLPLEBFpOQrBIvJUe/f927z680ssLW2wsrLFeiJFJpOnVv9ivbsiIvJ0UQgWkaeaw2HH7/MQDPpoD5cxGgaw2x/8KCyvbnLx4jXyhSLlO6vNNpsNp9PO6HA3w8M995yfSeeYX1jHMMDjcdDdFaE9HAQgly2wup5kc3Ob7Wzhge8XjYSId7YT7QgRaPPdc6xYLFPIF5mbX2djK/Oxa202K309MbriYUJtfpxu58P4EoiIPBEUgkXkqXbm9CEOj/dTq9fZ2Ehz8dJ1fv36B/z9P773SN7v3fem+PFPfsPs3Np+8PR4XLSHAvyLf/6dj4Xg+YV1/v1f/oJqtU5nZ5hvf+PZ/RC8up7kpz+7xK/f+JCr1+Ye+H7PP3eUr738DM89d+RjIXh7O8/0zCr/5t/+lF+9/uHHrvW6Xfzh917kla+e5cjkIB0KwSLSQhSCReSp5vN78Pk9ADidDqKzq/h9HmzWh7thZjqV5e13p+jvjTE83E13d2S/5SKVyjE3v87Va7P85Kdv3jMGrVKlbzolAAAIlklEQVSpk0xmqdbqOB0OKtWP2jRqlTrb2wX8XjdHJgaJRUME7wTdcqlKNrdDsVjmpz+/hMNlx+VyEouEwGohn9vhN29e443fXME0TS6cP0JbwIfT7QAgnytSLFWoNxosLiUYHup6qF8PEZGDTiFYROQh2EpuMzO7yuCfvMLv/+4FBgbiRKPtAFy6fJP/69/8mKlbS8zNrfEv/5s/oLc3isVi+dTXtNmtuN1Ozp6dZHiomxNHh+kfiAO7bRQLywn+9f/5t/zHv/oHOtqDtLcH8Zx0YrPZWFje4NXXLvGffvQr/sf/4Qf88PsvMzTQRbDND8DKyibzC+tcuTJLMpV9ZO0hIiIHlUKwiMhD0BkLc+b0IZ49O8nAQBy/37t/LBZt44Xnj/PTV9/iwyuzrK1ukd0u4At4PvU1u7sifPsbz+Jw2gn6vYTvtEkAeLxu+nti9HRHaA8HqDca5PM71OsNDNMknytSLlexWCx4PS78Pg92m23/+vZQAPuojXA4gGGYRCOhh/9FERE5wBSCRUQeglB7gGNHhxkb7dtfAd4/1ubn2OQwr7/xIWtrSbZS2+TyO7hdn96D2x4O0h4OksvukM0VWFndolK9d7RbsVTBYbdTrlTJ5YrU6w3cdhsOux2bzYphGCSTWWbn1kml8gQCHnw+N6G2APF4B/F4x0P/WoiIPAkUgkVEHjGHw04g4MHtcmKaJsVShcJOiXB78LMvBm5MLfLGbz7k2vV5llY37zm2trpFKpUllc6Ry+1QqzeIt/k5MjlIV7yDcqXKf/67i7z19k0cThs9XRGOTg7zld85zfkm75YnItJMCsEiIo+YxWrB6XRgu9OOUG80qNXqmKb5qdcl1lNcvT7Hpcs3+PDaLIZhELpvAkQmlcNisVCvGVSrNQzDwOl20uF2cvrUIb7zu88BkM+VmJ5ZZmkxQSKRoVSusLWVIRxuIxptoyce+cz2DBGRp4lCsIjIAXX1+hz/y//6f7O1lSEUCvJn//w7vPLV0/ec8+d/8Sr/7j/8Arf74x/n3/r6Wc6fmwBgZnaN//1f/4h33p7igw9vc/PWAn/1n/6RZ04f4vnzR/n2t84rBItIS1EIFhF5xMqVGltb2xQKJbCAy+nA43Fh/YQxbfVqfbcHeG2LpaUEfb2dfO0rpzl5fISBgXtHmXW0B7HbbVge8FptoQBtoQAAbreLH3zvZU4cHWGnWGJ5ZYv1RJqtrSxTt5Z44YXjD//GRUQOMIVgEZFHbCdfZGZujcx2HrfTid/vJej34bDbHnh+tVojsZlmazNDvdHg9Kkx/st/9k2iHR9NcDDqBvV6g2q9jmEY97RW7B0zMLECNoeNzs4w/+yffmP/nNffuMI//PJd3n7nJksrG5SK9z5wJyLytFMIFhF5xJZWtvibv/0VmUyeZ89PMjLUTVubH5vzwR/BFpsVn9eN1+PGipVsboeVlS28Htf+ZhlbqW1uTi1y48Y8qVSOSuWjELt3rFSqYLfbmTzcT09v7J73SGdyzC+sYZgmoVAAh+PBgVxE5GmlECwiT7VMOkc6k6dSqbKxmWFpKUF6O0+90SCRSPHhlWlgt0Uh0hEi4PficNk/sVXhk5RLFTY2MszMrODzu+45dv36HLenVxjo7+TF508wNNSF1+f+xNey2Wz4fV4i0RC9fTGKxTLvvXeLnZ0ym3e2Yt7c3Gbq9hJridT+A3F317KeSLGwsE42t0Muv8NoOnvPe8zMrpBMZYlGQhwa68PvVz+wiLQWhWAReaq9+/5tXv35JZaWNlhfT5PJ5slkcpRKFX72i7eZml4GoLcrwh/+wUs8c2qcrs4OrK4vFoI3NtJsbKR5571b+6u1e/w+N6dOjvHS8yd4/sKxz9yYwm63Egj6mJwY4Ifff5m3Ll3nz//ip/j8Xtye3dnCndEQE4cH8XrcdHQEcd01czgY9DFxaIAPr8zw//7t6/zjrz7A5783dNutNvwBN7/z8ileeO4Y3V2RL3S/IiJPOoVgEXmqORx2/D4PwaCPeqNBNNb2wPMCAS8upwOr1Yr5GdsZ33Od38vp04dwOh3k8js07lqR3dPfE+PMMxOceeYQIyM99xwLh/2cPjlOrdEgHA4SbvdjtVpxuaz0dkd56fnjuz2+jcY913VG2xke7MbnddMV76C7J8LYaB9+nweP101vT5Sx0T4mjww+sO6uzg4GB+KcPjnG2Fjf575fEZGnhcX8rEGVj4tZx6jNYDY2ml2JHDAWix+LcwSLVdu6fhqztoBRX2x2GQfOTqFEoVCiVq/TuC9I3s1utxMMeHG5XTgcNiyfMwhXq3Vy2QLlcvVOAP74R6rDYcfrceP2uHC7790lrlyuUigUwQSbzYrH694/p1FrUK3WKOyUKJbKD3zNWr1OrVrH7rDjcjrwed1Y7VbMhsl2fodCfucT79fpsBPwe3F7XQ88R0TkYbPaB7A4BptdBqAQLE8AheDPRyFYREQOuoMUgr9Y05uIiIiIyFNAIVhEREREWo5CsIiIiIi0HIVgEREREWk5CsEiIiIi0nIUgkVERESk5SgEi4iIiEjLUQgWERERkZajECwiIiIiLUchWERERERajkKwiIiIiLQce7ML+IgFi9UPZqPZhchBY3FhwdHsKg4+ixeLNdLsKkRERD6ZxdvsCvZZTNM0m10EAKYJZh0sCsFyPwvgAIu+cfGpzDpQb3YVIiIin8IOloOxBntwQrCIiIiIyGOipTURERERaTkKwSIiIiLSchSCRURERKTlKASLiIiISMtRCBYRERGRlqMQLCIiIiItRyFYRERERFqOQrCIiIiItByFYBERERFpOQrBIiIiItJyFIJFREREpOUoBIuIiIhIy1EIFhEREZGWoxAsIiIiIi1HIVhEREREWo5CsIiIiIi0HIVgEREREWk5CsEiIiIi0nIUgkVERESk5fz/fJyWPL/rDzoAAAAASUVORK5CYII=)"
      ]
    },
    {
      "cell_type": "code",
      "metadata": {
        "id": "tHQHmmTEvdsX",
        "colab": {
          "base_uri": "https://localhost:8080/"
        },
        "outputId": "fd04144f-e1f7-4b3d-fadb-53c49ff55f00"
      },
      "source": [
        "# Check the effect of backpropagation \n",
        "\n",
        "model = nn.Linear(1, 1) # (input size, output size)\n",
        "x = torch.randn(1, 1)\n",
        "\n",
        "for _ in range(5):\n",
        "    out = model(x)\n",
        "    print(out)\n",
        "    print('Weight gradient \\n',model.weight.grad)\n",
        "    print('Bias gradient :\\n',model.bias.grad)\n",
        "    out.backward() # compute gradients"
      ],
      "execution_count": null,
      "outputs": [
        {
          "output_type": "stream",
          "name": "stdout",
          "text": [
            "tensor([[0.1250]], grad_fn=<AddmmBackward0>)\n",
            "Weight gradient \n",
            " None\n",
            "Bias gradient :\n",
            " None\n",
            "tensor([[0.1250]], grad_fn=<AddmmBackward0>)\n",
            "Weight gradient \n",
            " tensor([[1.7556]])\n",
            "Bias gradient :\n",
            " tensor([1.])\n",
            "tensor([[0.1250]], grad_fn=<AddmmBackward0>)\n",
            "Weight gradient \n",
            " tensor([[3.5111]])\n",
            "Bias gradient :\n",
            " tensor([2.])\n",
            "tensor([[0.1250]], grad_fn=<AddmmBackward0>)\n",
            "Weight gradient \n",
            " tensor([[5.2667]])\n",
            "Bias gradient :\n",
            " tensor([3.])\n",
            "tensor([[0.1250]], grad_fn=<AddmmBackward0>)\n",
            "Weight gradient \n",
            " tensor([[7.0223]])\n",
            "Bias gradient :\n",
            " tensor([4.])\n"
          ]
        }
      ]
    },
    {
      "cell_type": "markdown",
      "source": [
        "## Pre-processing of the image"
      ],
      "metadata": {
        "id": "wga2phF4yu1p"
      }
    },
    {
      "cell_type": "code",
      "execution_count": null,
      "metadata": {
        "id": "GY29gPLixSk0"
      },
      "outputs": [],
      "source": [
        "def resize_img(im):\n",
        "  \n",
        "  width, height = im.size   # Get dimensions\n",
        "\n",
        "  new_height = 227\n",
        "  new_width = 227\n",
        "\n",
        "  left = (width - new_width)/2\n",
        "  top = (height - new_height)/2\n",
        "  right = (width + new_width)/2\n",
        "  bottom = (height + new_height)/2\n",
        "\n",
        "  # Crop the center of the image\n",
        "  img = im.crop((left, top, right, bottom))\n",
        "  width, height = img.size\n",
        "  return img"
      ]
    },
    {
      "cell_type": "code",
      "source": [
        "# Image to feed into the network\n",
        "\n",
        "def image_to_net(img):\n",
        "  img = resize_img(img)\n",
        "  print(img.size)\n",
        "  img = img_to_array(img)  # numpy array representation of the image\n",
        "  img= img / 255           # Normalize the image\n",
        "  print(img.dtype)\n",
        "  # creation du tensor \n",
        "  t = torch.from_numpy(img)    # torch.Size([227,227,3])\n",
        "  # permutation du tensor pour avoir [ chanel, width, height ]\n",
        "  t = t.permute(2,0,1)        # torch.Size([3, 227, 227])\n",
        "  # ajout du batch à 1 élément le tensor aura donc [ Nbatch, chanel, width, height] / Create a mini-batch as expected by the model\n",
        "  inputs = t.unsqueeze(0)     # torch.Size([1, 3, 227, 227])\n",
        "  print(inputs.shape)\n",
        "  print(inputs.dtype)\n",
        "  return inputs"
      ],
      "metadata": {
        "id": "nZpUpdouxpNb"
      },
      "execution_count": null,
      "outputs": []
    },
    {
      "cell_type": "markdown",
      "source": [
        "## AlexNet"
      ],
      "metadata": {
        "id": "FuFkVtlHxcCy"
      }
    },
    {
      "cell_type": "markdown",
      "source": [
        "Following the Pytorch implementation of AlexNet: https://pytorch.org/hub/pytorch_vision_alexnet/\n",
        "\n",
        "\n",
        "<center><img src=\"https://neurohive.io/wp-content/uploads/2018/10/AlexNet-1.png\" width=\"600\"/><center>\n",
        "\n"
      ],
      "metadata": {
        "id": "7qYNiYV9OwVJ"
      }
    },
    {
      "cell_type": "code",
      "source": [
        "def transfer_learning(layer,dynamique):\n",
        "  path = os.path.join(PATH_IMG, dynamique)\n",
        "\n",
        "  for root, dirs, files in os.walk(path): \n",
        "    files.sort()\n",
        "    print(root,dirs)\n",
        "\n",
        "    for img in files:\n",
        "      if img.endswith(\".png\"):\n",
        "        print(img)\n",
        "        image = load_img(os.path.join(root,img))\n",
        "      # Input follows the \"NCHW\" format.\n",
        "      # forward to the model\n",
        "        f = alexNet(image_to_net(image))                     \n",
        "        ft = f[0].detach().numpy()\n",
        "        ft = ft.ravel()\n",
        "      # save the features\n",
        "        if(img[0] == 'A'):\n",
        "          np.save(os.path.join(PATH_FEAT,layer,dynamique+\"AD\"+i[:-4]+'.npy'), ft,allow_pickle=True)\n",
        "        else:\n",
        "          np.save(os.path.join(PATH_FEAT,layer,dynamique+\"HC\"+i[:-4]+'.npy'), ft,allow_pickle=True)"
      ],
      "metadata": {
        "id": "2ttoDgrzxr08"
      },
      "execution_count": null,
      "outputs": []
    },
    {
      "cell_type": "code",
      "source": [
        "def transfer_learning_fusion(layer,dynamiques):\n",
        "  # Make the new images (one dynamique per channel)\n",
        "  fusion_img = np.empty((75,227,227,3))\n",
        "  for dynamique in dynamiques:\n",
        "    path = PATH_IMG+dynamique\n",
        "    img_name,images = [],[]\n",
        "    for root, dirs, files in os.walk(path): \n",
        "      files.sort()\n",
        "      print(root,dirs)\n",
        "      for img in files:\n",
        "        if img.endswith(\".png\"):\n",
        "          img_name.append(img)\n",
        "          image = load_img(os.path.join(root,img))\n",
        "          img = resize_img(image)\n",
        "          img = img_to_array(img)   # numpy array representation of the image\n",
        "          img= img / 255            # Normalize the image\n",
        "          images.append(img[:,:,0]) # take just one channel\n",
        "    if dynamique == 'Pressure':\n",
        "      fusion_img[:,:,:,0] = images\n",
        "    elif dynamique == 'Altitude':\n",
        "      fusion_img[:,:,:,1] = images\n",
        "    else:\n",
        "      fusion_img[:,:,:,2] = images\n",
        "\n",
        "  for img in range(len(img_name)):\n",
        "    # creation du tensor \n",
        "    t = torch.from_numpy(fusion_img[img,:,:,:])    # torch.Size([227,227,3])\n",
        "    # permutation du tensor pour avoir [ chanel, width, height ]\n",
        "    t = t.permute(2,0,1)        # torch.Size([3, 227, 227])\n",
        "    # ajout du batch à 1 élément le tensor aura donc [ Nbatch, chanel, width, height] / Create a mini-batch as expected by the model\n",
        "    inputs = t.unsqueeze(0)     # torch.Size([1, 3, 227, 227])\n",
        "    inputs = inputs.float()  # convert to float 32\n",
        "    # forward le model\n",
        "    f = alexNet(inputs)                     \n",
        "    ft = f[0].detach().numpy()\n",
        "    ft = ft.ravel()\n",
        "    # save features\n",
        "    if( img_name[i][0] == 'A'):\n",
        "      np.save(os.path.join(PATH_FEAT,layer,'Fusion' +\"AD\"+i[:-4]+'.npy'), ft,allow_pickle=True)\n",
        "    else:\n",
        "      np.save(os.path.join(PATH_FEAT,layer,'Fusion' +\"HC\"+i[:-4]+'.npy'), ft,allow_pickle=True)"
      ],
      "metadata": {
        "id": "D1LVfkddKB0G"
      },
      "execution_count": null,
      "outputs": []
    },
    {
      "cell_type": "markdown",
      "metadata": {
        "id": "XvcNhffzzVYC"
      },
      "source": [
        "### Fc7"
      ]
    },
    {
      "cell_type": "code",
      "metadata": {
        "id": "hIncd_41VjbY",
        "colab": {
          "base_uri": "https://localhost:8080/",
          "referenced_widgets": [
            "be8803c962724533af3eefa25ef93e8b",
            "23f93bf2224444009b28f768ac1ca0d3",
            "a6beede0ff8a4e8b925f4049592ff013",
            "7423d00ad5c541e6af47f5b0fd3ac42a",
            "fb03af4ea1ad4d48a5f030396b234264",
            "342d0f76cb9a410f9ffd502a5a4269ba",
            "23a1abe965204395bed35705875e70ff",
            "c36930b046274987a595f35221c0c0e6",
            "0e9cfa1cc7654f37bedf3de4390c5ee3",
            "2f2a6f6d2ea84ad494de4d8a3c7ae5d2",
            "4414d6a8ddb44851adcc360b873ba298"
          ]
        },
        "outputId": "4c8cfce1-f861-4691-cf9a-fdf77c8129e2"
      },
      "source": [
        " # Fc7\n",
        "layer = 'Fc7'\n",
        "alexNet = models.alexnet(pretrained=True)\n",
        "new_classifier = nn.Sequential(*list(alexNet.classifier.children())[:-1])\n",
        "alexNet.classifier = new_classifier\n",
        "alexNet.eval()\n",
        "\n",
        "# Freeze model parameters\n",
        "for param in alexNet.parameters():\n",
        "    param.requires_grad = False\n",
        "\n",
        "summary(alexNet,(3,227,227))"
      ],
      "execution_count": null,
      "outputs": [
        {
          "output_type": "stream",
          "name": "stderr",
          "text": [
            "/usr/local/lib/python3.7/dist-packages/torchvision/models/_utils.py:209: UserWarning: The parameter 'pretrained' is deprecated since 0.13 and will be removed in 0.15, please use 'weights' instead.\n",
            "  f\"The parameter '{pretrained_param}' is deprecated since 0.13 and will be removed in 0.15, \"\n",
            "/usr/local/lib/python3.7/dist-packages/torchvision/models/_utils.py:223: UserWarning: Arguments other than a weight enum or `None` for 'weights' are deprecated since 0.13 and will be removed in 0.15. The current behavior is equivalent to passing `weights=AlexNet_Weights.IMAGENET1K_V1`. You can also use `weights=AlexNet_Weights.DEFAULT` to get the most up-to-date weights.\n",
            "  warnings.warn(msg)\n",
            "Downloading: \"https://download.pytorch.org/models/alexnet-owt-7be5be79.pth\" to /root/.cache/torch/hub/checkpoints/alexnet-owt-7be5be79.pth\n"
          ]
        },
        {
          "output_type": "display_data",
          "data": {
            "text/plain": [
              "  0%|          | 0.00/233M [00:00<?, ?B/s]"
            ],
            "application/vnd.jupyter.widget-view+json": {
              "version_major": 2,
              "version_minor": 0,
              "model_id": "be8803c962724533af3eefa25ef93e8b"
            }
          },
          "metadata": {}
        },
        {
          "output_type": "stream",
          "name": "stdout",
          "text": [
            "----------------------------------------------------------------\n",
            "        Layer (type)               Output Shape         Param #\n",
            "================================================================\n",
            "            Conv2d-1           [-1, 64, 56, 56]          23,296\n",
            "              ReLU-2           [-1, 64, 56, 56]               0\n",
            "         MaxPool2d-3           [-1, 64, 27, 27]               0\n",
            "            Conv2d-4          [-1, 192, 27, 27]         307,392\n",
            "              ReLU-5          [-1, 192, 27, 27]               0\n",
            "         MaxPool2d-6          [-1, 192, 13, 13]               0\n",
            "            Conv2d-7          [-1, 384, 13, 13]         663,936\n",
            "              ReLU-8          [-1, 384, 13, 13]               0\n",
            "            Conv2d-9          [-1, 256, 13, 13]         884,992\n",
            "             ReLU-10          [-1, 256, 13, 13]               0\n",
            "           Conv2d-11          [-1, 256, 13, 13]         590,080\n",
            "             ReLU-12          [-1, 256, 13, 13]               0\n",
            "        MaxPool2d-13            [-1, 256, 6, 6]               0\n",
            "AdaptiveAvgPool2d-14            [-1, 256, 6, 6]               0\n",
            "          Dropout-15                 [-1, 9216]               0\n",
            "           Linear-16                 [-1, 4096]      37,752,832\n",
            "             ReLU-17                 [-1, 4096]               0\n",
            "          Dropout-18                 [-1, 4096]               0\n",
            "           Linear-19                 [-1, 4096]      16,781,312\n",
            "             ReLU-20                 [-1, 4096]               0\n",
            "================================================================\n",
            "Total params: 57,003,840\n",
            "Trainable params: 0\n",
            "Non-trainable params: 57,003,840\n",
            "----------------------------------------------------------------\n",
            "Input size (MB): 0.59\n",
            "Forward/backward pass size (MB): 8.48\n",
            "Params size (MB): 217.45\n",
            "Estimated Total Size (MB): 226.52\n",
            "----------------------------------------------------------------\n"
          ]
        }
      ]
    },
    {
      "cell_type": "code",
      "metadata": {
        "id": "ONU9GcGqXfUX"
      },
      "source": [
        "# Extract features Fc7\n",
        "transfer_learning(layer = layer, dynamique = 'Pressure')\n",
        "#transfer_learning_fusion(layer = layer, dynamiques = ['Pressure','Altitude','Velocity'])"
      ],
      "execution_count": null,
      "outputs": []
    },
    {
      "cell_type": "markdown",
      "source": [
        "### From Conv1 to Conv5"
      ],
      "metadata": {
        "id": "spdLT_m0LT__"
      }
    },
    {
      "cell_type": "code",
      "source": [
        "def extractFeatures(layer, idxLayer, dynamique):\n",
        "  alexNet = models.alexnet(pretrained=True) \n",
        "  alexNet = alexNet.features[0:idxLayer]  \n",
        "  alexNet.eval()\n",
        "\n",
        "  # Freeze model parameters\n",
        "  for param in alexNet.parameters():\n",
        "      param.requires_grad = False\n",
        "  summary(alexNet,(3,227,227))\n",
        "  # Extract features\n",
        "  transfer_learning(layer = layer,dynamique = dynamique)"
      ],
      "metadata": {
        "id": "1xP3YL2gLlsy"
      },
      "execution_count": null,
      "outputs": []
    },
    {
      "cell_type": "code",
      "source": [
        "idxLayers = {\n",
        "    'Conv5': 13,\n",
        "    'Conv4': 10,\n",
        "    'Conv3': 8,\n",
        "    'Conv2': 6,\n",
        "    'Conv1': 3,\n",
        "}\n",
        "\n",
        "for layer, idxLayer in idxLayers.items():\n",
        "  extractFeatures(idxLayer)"
      ],
      "metadata": {
        "id": "3lAAfa6fMYYz"
      },
      "execution_count": null,
      "outputs": []
    },
    {
      "cell_type": "markdown",
      "source": [
        "# SVM classification"
      ],
      "metadata": {
        "id": "sw5Yj0dKzXtq"
      }
    },
    {
      "cell_type": "markdown",
      "source": [
        "SVM classifier RBF Kernel (Grid SearchCV)\n",
        "\n",
        "- 10 trials of 30AD  + 30HC  =  Train (20AD + 20HC) Test (10AD + 10HC)\n",
        "\n",
        "<center><img src=\"https://drive.google.com/uc?export=view&id=1MPS1cw5TBtEatjnuDgasXbceDWhoeWnB\" width=\"800\"/><center>\n"
      ],
      "metadata": {
        "id": "d9c2HLZMzf45"
      }
    },
    {
      "cell_type": "code",
      "source": [
        "ind_ad = []\n",
        "for i in range(10) :    # 10 samplings from 30 AD\n",
        "  ind_ad.append(np.random.permutation(30))\n",
        "\n",
        "ind_hc = []\n",
        "for i in range(10) :    # 10 samplings of 30/45 from HC\n",
        "  ind_hc.append(np.random.permutation(45)[:30])\n",
        "\n",
        "y_train = np.concatenate((np.ones(20,),np.zeros(20,)), axis=None)\n",
        "y_test = np.concatenate((np.ones(10,),np.zeros(10,)), axis=None)\n",
        "print(y_train.shape,y_test.shape)"
      ],
      "metadata": {
        "id": "YYnf8fC4zZuS"
      },
      "execution_count": null,
      "outputs": []
    },
    {
      "cell_type": "code",
      "source": [
        "# Get features \n",
        "\n",
        "layerFeatures = {\n",
        "    'Fc7' : 4096,\n",
        "    'Conv5' : 9216,\n",
        "    'Conv4' : 43264,\n",
        "    'Conv3' : 64896,\n",
        "    'Conv2' : 32448,\n",
        "    'Conv1': 46656\n",
        "}\n",
        "\n",
        "def getFeatures(group, layer, layerFeatures):\n",
        "  for file in os.listdir(os.path.join(PATH_FEAT, layer, group)):\n",
        "    features = np.array([])\n",
        "    if file.endswith('.npy'):\n",
        "      print(file)\n",
        "      features = np.append(features, np.load(file))\n",
        "  if group == 'AD':\n",
        "    features = features.reshape(30, layerFeatures[layer])\n",
        "  else:\n",
        "    features = features.reshape(45,layerFeatures[layer])\n",
        "\n",
        "  return features"
      ],
      "metadata": {
        "id": "8uK0uE6N0dFd"
      },
      "execution_count": null,
      "outputs": []
    },
    {
      "cell_type": "code",
      "source": [
        "# Example for Fc7 layer\n",
        "ad = getFeatures(group = 'AD',\n",
        "                 layer = 'Fc7', \n",
        "                 layerFeatures = layerFeatures)\n",
        "\n",
        "hc = getFeatures(group = 'HC',\n",
        "                 layer = 'Fc7', \n",
        "                 layerFeatures = layerFeatures)"
      ],
      "metadata": {
        "id": "D-2vx7U975SJ"
      },
      "execution_count": null,
      "outputs": []
    },
    {
      "cell_type": "markdown",
      "source": [
        "## GridSearchCV Optimization"
      ],
      "metadata": {
        "id": "OqA1fAIT0jEa"
      }
    },
    {
      "cell_type": "code",
      "source": [
        "# Train\n",
        "\n",
        "def gridSearchSVM(ad,hc):\n",
        "  parameters = {'gamma':[1e-3,2e-3,1e-4,1.5e-4,1e-5,1.5e-5], 'C':[0.01,0.1,1,10,100,1000,5000,10000]}\n",
        "  scores = ['accuracy'] # 'fc1', 'recall'\n",
        "  bestParams=[]\n",
        "  for j in range(10): # 10 trials \n",
        "    print('Run %i'% (j))\n",
        "    # Select training set\n",
        "    X_train = np.concatenate((ad[ind_ad[j][:20]],hc[ind_hc[j][:20]]),axis=0)\n",
        "\n",
        "    for score in scores:\n",
        "      print(\"# Tuning hyper-parameters for %s\" %score)\n",
        "\n",
        "      clf = GridSearchCV(SVC(),parameters,scoring='%s' % score)\n",
        "      clf.fit(X_train, y_train)\n",
        "\n",
        "      print(\"Best parameters set found on validation set:\")\n",
        "      print(clf.best_params_)\n",
        "      bestParams.append(clf.best_params_)\n",
        "      print()\n",
        "\n",
        "  return bestParams"
      ],
      "metadata": {
        "id": "xZCZHVXQ0mEY"
      },
      "execution_count": null,
      "outputs": []
    },
    {
      "cell_type": "code",
      "source": [
        "# Test with the best found hyperparameters \n",
        "hyperParams = gridSearchSVM(ad = ad, hc = hc)\n",
        "spe, sen, acc, ypred = [], [], [], []\n",
        "\n",
        "for j in range(10): # 10 trials \n",
        "  X_train = np.concatenate((ad[ind_ad[j][:20]],hc[ind_hc[j][:20]]),axis=0)\n",
        "  X_test = np.concatenate((ad[ind_ad[j][20:]],hc[ind_hc[j][20:]]),axis=0)\n",
        "\n",
        "  ### Classification code ###\n",
        "  model = SVC(C=hyperParams[j][\"C\"],gamma=hyperParams[j][\"gamma\"])\n",
        "  model.fit(X_train,y_train)\n",
        "  y_pred = model.predict(X_test)\n",
        "  \n",
        "  tn, fp, fn, tp = confusion_matrix(y_test, y_pred).ravel()\n",
        "  ypred.append(y_pred)\n",
        "\n",
        "  spe.append(tn/(tn+fp))\n",
        "  sen.append(tp/(tp+fn))\n",
        "  acc.append((tp+tn)/(tp+tn+fn+fp))\n",
        "print('Average Specificity: %.2f Sensitivity: %.2f Accuracy: %.2f' % (np.mean(spe)*100, np.mean(sen)*100, np.mean(acc)*100))"
      ],
      "metadata": {
        "id": "uIACQcxM0qKU"
      },
      "execution_count": null,
      "outputs": []
    },
    {
      "cell_type": "code",
      "source": [
        "# Save results\n",
        "os.chdir(\"/content/drive/MyDrive/Results\")\n",
        "np.save(os.path.join(PATH_RESULT, 'pre_fc7_ypred.npy'),ypred,allow_pickle=True) \n",
        "np.save(os.path.join(PATH_RESULT, 'pre_fc7_spe.npy'),spe,allow_pickle=True)\n",
        "np.save(os.path.join(PATH_RESULT, 'pre_fc7_sen.npy'),sen,allow_pickle=True)\n",
        "np.save(os.path.join(PATH_RESULT, 'pre_fc7_acc.npy'),acc,allow_pickle=True)"
      ],
      "metadata": {
        "id": "xie0dEoq0sBN"
      },
      "execution_count": null,
      "outputs": []
    },
    {
      "cell_type": "markdown",
      "source": [
        "# Results and Analysis"
      ],
      "metadata": {
        "id": "fj-C2r3-QQNR"
      }
    },
    {
      "cell_type": "markdown",
      "source": [
        "The present study proposes a novel scheme for the automatic assessment of early-stage AD, based on Archimedes’ spiral. It exploits transfer learning for feature extraction on “hybrid” spiral images, which convey dynamic information of the handwritten gesture.\n",
        "\n",
        "Being the main conclusions:\n",
        "\n",
        "- When embedding dynamic parameters in the spiral trajectory, we first remark a strong improvement of the average sensitivity, from 62% on the raw image to 77% with pressure (Table 2).\n",
        "\n",
        "<center><img src=\"https://drive.google.com/uc?export=view&id=1bEKGDwxN4kMGsqWBzm5ezqpV8GugUwc8\" width=\"800\"/><center>\n",
        "\n",
        "\n",
        "<center><img src=\"https://drive.google.com/uc?export=view&id=1RDGvGSiM0hXhw5iY_wX_WFHIzFovk86y\" width=\"800\"/><center>\n",
        "\n",
        "\n",
        "- Our methodology leads to more balanced average sensitivity and specificity values: on raw images, we note a difference of 25% between specificity (87%) and sensitivity (62%), while on hybrid images such difference is significantly reduced.\n",
        "\n",
        "- The work also shows that such improvements required studying representations\n",
        "extracted by the network at different layers. Indeed, on raw images, fc7 gives the best accuracy, with high specificity at the price of a very low sensitivity. For hybrid images, in general, we obtain instead Conv3 discriminant descriptors that strike a better balance between sensitivity and specificity: it is the case for pressure, altitude, and velocity images.\n",
        "\n",
        "\n",
        "\n",
        "For more detailed information, as well as a complete analysis of results (dynamics and fusion at feature and decision level), we invite you to read the article available at: https://www.mdpi.com/2306-5354/9/8/375\n"
      ],
      "metadata": {
        "id": "hKOk9L2pQ4_H"
      }
    }
  ]
}